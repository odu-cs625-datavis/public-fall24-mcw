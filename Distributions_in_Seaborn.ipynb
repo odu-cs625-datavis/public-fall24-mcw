{
  "nbformat": 4,
  "nbformat_minor": 0,
  "metadata": {
    "colab": {
      "provenance": [],
      "authorship_tag": "ABX9TyPEsUbMGaAd/KhzxwoQqQF1",
      "include_colab_link": true
    },
    "kernelspec": {
      "name": "python3",
      "display_name": "Python 3"
    },
    "language_info": {
      "name": "python"
    }
  },
  "cells": [
    {
      "cell_type": "markdown",
      "metadata": {
        "id": "view-in-github",
        "colab_type": "text"
      },
      "source": [
        "<a href=\"https://colab.research.google.com/github/odu-cs625-datavis/public-fall24-mcw/blob/main/Distributions_in_Seaborn.ipynb\" target=\"_parent\"><img src=\"https://colab.research.google.com/assets/colab-badge.svg\" alt=\"Open In Colab\"/></a>"
      ]
    },
    {
      "cell_type": "markdown",
      "source": [
        "# Visualizing Distributions Examples in Python (Seaborn)"
      ],
      "metadata": {
        "id": "MYEfFkF31W0D"
      }
    },
    {
      "cell_type": "code",
      "execution_count": null,
      "metadata": {
        "id": "NIZQKnK01Opx"
      },
      "outputs": [],
      "source": [
        "import pandas as pd\n",
        "import numpy as np\n",
        "from scipy import stats\n",
        "import seaborn as sns\n",
        "import seaborn.objects as so\n",
        "import matplotlib.pyplot as plt\n",
        "import matplotlib as mpl\n",
        "from seaborn import axes_style"
      ]
    },
    {
      "cell_type": "markdown",
      "source": [
        "Load the diamonds dataset"
      ],
      "metadata": {
        "id": "iheV1Ty91g8a"
      }
    },
    {
      "cell_type": "code",
      "source": [
        "url = \"https://github.com/byuidatascience/data4python4ds/raw/master/data-raw/diamonds/diamonds.csv\"\n",
        "diamonds = pd.read_csv(url)"
      ],
      "metadata": {
        "id": "LT-hI3cH1jDX"
      },
      "execution_count": null,
      "outputs": []
    },
    {
      "cell_type": "markdown",
      "source": [
        "Set the ordering of the ordered attributes (originally categorical)"
      ],
      "metadata": {
        "id": "LhCh-UxMTBK0"
      }
    },
    {
      "cell_type": "code",
      "source": [
        "diamonds['cut'] = pd.Categorical(diamonds.cut,\n",
        "  ordered = True,\n",
        "  categories =  [\"Fair\", \"Good\", \"Very Good\", \"Premium\", \"Ideal\" ])\n",
        "\n",
        "diamonds['color'] = pd.Categorical(diamonds.color,\n",
        "  ordered = True,\n",
        "  categories =  [\"D\", \"E\", \"F\", \"G\", \"H\", \"I\", \"J\"])\n",
        "\n",
        "diamonds['clarity'] = pd.Categorical(diamonds.clarity,\n",
        "  ordered = True,\n",
        "  categories =  [\"I1\", \"SI2\", \"SI1\", \"VS2\", \"VS1\", \"VVS2\", \"VVS1\", \"IF\"])"
      ],
      "metadata": {
        "id": "JctfmhNeTJl_"
      },
      "execution_count": null,
      "outputs": []
    },
    {
      "cell_type": "code",
      "source": [
        "diamonds.head()"
      ],
      "metadata": {
        "id": "i9fOw_S31jV5"
      },
      "execution_count": null,
      "outputs": []
    },
    {
      "cell_type": "markdown",
      "source": [
        "## Histogram\n",
        "For the histogram, we show the distribution of diamond prices.\n",
        "\n",
        "To create the histogram, we use the `so.Hist()` function. `binwidth` sets the size of each histogram bin (this one is set to 500, representing $500)."
      ],
      "metadata": {
        "id": "3Qup3N9O1qTp"
      }
    },
    {
      "cell_type": "code",
      "source": [
        "(so.Plot(diamonds, \"price\")\n",
        "  .add(so.Bars(), so.Hist(binwidth=500, binrange=(0,20000)))\n",
        "  .label(y=\"count\", x=\"price ($)\")\n",
        "  .scale(x=so.Continuous().label(like=\"{x:,.0f}\"), y=so.Continuous().label(like=\"{x:,.0f}\"))\n",
        "  .layout(size=(10,6))\n",
        ")"
      ],
      "metadata": {
        "id": "7J7SvelU1oNf"
      },
      "execution_count": null,
      "outputs": []
    },
    {
      "cell_type": "markdown",
      "source": [
        "Changing the binwidth to $1000"
      ],
      "metadata": {
        "id": "EL80dVxC8UPa"
      }
    },
    {
      "cell_type": "code",
      "source": [
        "(so.Plot(diamonds, \"price\")\n",
        "  .add(so.Bars(), so.Hist(binwidth=1000, binrange=(0,20000)))\n",
        "  .label(y=\"count\", x=\"price ($)\")\n",
        "  .scale(x=so.Continuous().label(like=\"{x:,.0f}\"), y=so.Continuous().label(like=\"{x:,.0f}\"))\n",
        "  .layout(size=(10,6))\n",
        ")"
      ],
      "metadata": {
        "id": "-Y51JfyF16Ij"
      },
      "execution_count": null,
      "outputs": []
    },
    {
      "cell_type": "markdown",
      "source": [
        "Changing the binwidth to $100"
      ],
      "metadata": {
        "id": "piGEGB2q8czK"
      }
    },
    {
      "cell_type": "code",
      "source": [
        "(so.Plot(diamonds, \"price\")\n",
        "  .add(so.Bars(), so.Hist(binwidth=100, binrange=(0,20000)))\n",
        "  .label(y=\"count\", x=\"price ($)\")\n",
        "  .scale(x=so.Continuous().label(like=\"{x:,.0f}\"), y=so.Continuous().label(like=\"{x:,.0f}\"))\n",
        "  .layout(size=(10,5))\n",
        ")"
      ],
      "metadata": {
        "id": "fLdUDEfA8eQR"
      },
      "execution_count": null,
      "outputs": []
    },
    {
      "cell_type": "markdown",
      "source": [
        "## Boxplot\n",
        "We're again looking at the price of diamonds. This time, we'll use boxplots (`sns.boxplot()`)."
      ],
      "metadata": {
        "id": "AjnkWhKc9F-Q"
      }
    },
    {
      "cell_type": "code",
      "source": [
        "ax = sns.boxplot(data=diamonds, y='price')\n",
        "ax.set(ylabel='price ($)')\n",
        "ax.get_yaxis().set_major_formatter(mpl.ticker.StrMethodFormatter('{x:,.0f}'))\n",
        "plt.show()"
      ],
      "metadata": {
        "id": "qXfAfRxt9ODm"
      },
      "execution_count": null,
      "outputs": []
    },
    {
      "cell_type": "markdown",
      "source": [
        "Now, let's look at these by cut and have a separate box plot for each cut type."
      ],
      "metadata": {
        "id": "k1P7GR4p9mhE"
      }
    },
    {
      "cell_type": "code",
      "source": [
        "sns.set(rc={'figure.figsize':(10,6)})\n",
        "ax = sns.boxplot(data=diamonds, y='price', x='cut')\n",
        "ax.set(ylabel='price ($)')\n",
        "ax.get_yaxis().set_major_formatter(mpl.ticker.StrMethodFormatter('{x:,.0f}'))\n",
        "plt.show()"
      ],
      "metadata": {
        "id": "jvlYtVAP9nsQ"
      },
      "execution_count": null,
      "outputs": []
    },
    {
      "cell_type": "markdown",
      "source": [
        "## Empirical CDF\n",
        "The empirical CDF (CDF) code is similar to the boxplot, but we use `sns.ecdfplot()` and put the attribute on the x axis."
      ],
      "metadata": {
        "id": "TWKuwdsQ-E34"
      }
    },
    {
      "cell_type": "code",
      "source": [
        "sns.set(rc={'figure.figsize':(10,6)})\n",
        "ax = sns.ecdfplot(data=diamonds, x='price')\n",
        "ax.set(xlabel='price ($)')\n",
        "ax.get_xaxis().set_major_formatter(mpl.ticker.StrMethodFormatter('{x:,.0f}'))\n",
        "plt.show()"
      ],
      "metadata": {
        "id": "AGniILmi-JOr"
      },
      "execution_count": null,
      "outputs": []
    },
    {
      "cell_type": "markdown",
      "source": [
        "Like with the boxplots, we can also divide the eCDF based on different categories.  In this example, we'll use `hue` to split the eCDF lines based on the `cut` attribute."
      ],
      "metadata": {
        "id": "MD8k0p1o_J73"
      }
    },
    {
      "cell_type": "code",
      "source": [
        "sns.set(rc={'figure.figsize':(10,6)})\n",
        "ax = sns.ecdfplot(data=diamonds, x='price', hue=\"cut\")\n",
        "ax.set(xlabel='price ($)')\n",
        "ax.get_xaxis().set_major_formatter(mpl.ticker.StrMethodFormatter('{x:,.0f}'))\n",
        "plt.show()"
      ],
      "metadata": {
        "id": "IgddO2b6_RdR"
      },
      "execution_count": null,
      "outputs": []
    },
    {
      "cell_type": "markdown",
      "source": [
        "# References\n",
        "\n",
        "Seaborn Objects:\n",
        "* Histogram - https://seaborn.pydata.org/generated/seaborn.objects.Hist.html\n",
        "\n",
        "Seaborn (not Seaborn Objects):\n",
        "* Boxplot - https://seaborn.pydata.org/generated/seaborn.boxplot.html\n",
        "* eCDF - https://seaborn.pydata.org/generated/seaborn.ecdfplot.html\n",
        "* Histogram - https://seaborn.pydata.org/generated/seaborn.histplot.html"
      ],
      "metadata": {
        "id": "5NVLJFmM--08"
      }
    }
  ]
}