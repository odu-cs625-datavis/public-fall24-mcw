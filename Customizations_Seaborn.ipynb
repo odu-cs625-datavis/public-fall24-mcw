{
  "nbformat": 4,
  "nbformat_minor": 0,
  "metadata": {
    "colab": {
      "provenance": [],
      "toc_visible": true,
      "authorship_tag": "ABX9TyPpKV57R95CvArbqhG7mC5K",
      "include_colab_link": true
    },
    "kernelspec": {
      "name": "python3",
      "display_name": "Python 3"
    },
    "language_info": {
      "name": "python"
    }
  },
  "cells": [
    {
      "cell_type": "markdown",
      "metadata": {
        "id": "view-in-github",
        "colab_type": "text"
      },
      "source": [
        "<a href=\"https://colab.research.google.com/github/odu-cs625-datavis/public-fall24-mcw/blob/main/Customizations_Seaborn.ipynb\" target=\"_parent\"><img src=\"https://colab.research.google.com/assets/colab-badge.svg\" alt=\"Open In Colab\"/></a>"
      ]
    },
    {
      "cell_type": "markdown",
      "source": [
        "# Seaborn Objects Customizations\n",
        "\n",
        "In this notebook, we'll look at some extra customizations for Seaborn charts.\n",
        "\n",
        "* theme customization, using [`Plot.theme()`](https://seaborn.pydata.org/generated/seaborn.objects.Plot.theme.html)\n",
        "  * the note on the API page says that currently the only valid argument is a dict of matplotlib [rc parameters](https://matplotlib.org/stable/tutorials/introductory/customizing.html)\n",
        "  * these parameters can also include Seaborn [`axes_style`](https://seaborn.pydata.org/generated/seaborn.axes_style.html) parameters ([examples](https://seaborn.pydata.org/tutorial/aesthetics.html#seaborn-figure-styles))\n",
        "* color palettes, using [`Plot.scale()`](https://seaborn.pydata.org/generated/seaborn.objects.Plot.scale.html)\n",
        "* mark customization (edge color, thickness, fill color, size ranges)\n",
        "* titles and labels, using [`Plot.label()`](https://seaborn.pydata.org/generated/seaborn.objects.Plot.label.html)\n",
        "* axis label formatting\n",
        "* chart size, using [`Plot.layout()`](https://seaborn.pydata.org/generated/seaborn.objects.Plot.layout.html)\n"
      ],
      "metadata": {
        "id": "PNgnNZykb7mv"
      }
    },
    {
      "cell_type": "code",
      "execution_count": null,
      "metadata": {
        "id": "RBJrantURP8S"
      },
      "outputs": [],
      "source": [
        "import pandas as pd\n",
        "import seaborn as sns\n",
        "import seaborn.objects as so"
      ]
    },
    {
      "cell_type": "markdown",
      "source": [
        "Here we'll load all of the same datasets we had in our Marks and Channels tutorial."
      ],
      "metadata": {
        "id": "5uJRGXa3SW67"
      }
    },
    {
      "cell_type": "code",
      "source": [
        "df = pd.read_json('https://cdn.jsdelivr.net/npm/vega-datasets@2/data/gapminder.json')\n",
        "df_2000 = df.query(\"year == 2000\")\n",
        "df_2000c1 = df_2000.query(\"cluster == 1\")\n",
        "df_US = df.query(\"country == 'United States'\")\n",
        "df_5countries = df.query(\"country in ('United States', 'France', 'Austria', 'Brazil', 'Germany')\")\n",
        "df_2000_5countries = df_5countries.query(\"year == 2000\")"
      ],
      "metadata": {
        "id": "jtKnfmPRRTpm"
      },
      "execution_count": null,
      "outputs": []
    },
    {
      "cell_type": "markdown",
      "source": [
        "We'll look at most of these customizations with the same base chart."
      ],
      "metadata": {
        "id": "XteLxmBilzgf"
      }
    },
    {
      "cell_type": "code",
      "source": [
        "(so.Plot(data=df_2000,\n",
        "         x='fertility',\n",
        "         y='life_expect',\n",
        "         color='cluster',\n",
        "         pointsize='pop')\n",
        "  .add(so.Dot())\n",
        ")"
      ],
      "metadata": {
        "id": "Oig7P1B-kujw"
      },
      "execution_count": null,
      "outputs": []
    },
    {
      "cell_type": "markdown",
      "source": [
        "## Themes"
      ],
      "metadata": {
        "id": "t5rcCH_BSxQr"
      }
    },
    {
      "cell_type": "markdown",
      "source": [
        "To change the chart theme, we first need to import `axes_style`."
      ],
      "metadata": {
        "id": "WJOwNAOESk_6"
      }
    },
    {
      "cell_type": "code",
      "source": [
        "from seaborn import axes_style"
      ],
      "metadata": {
        "id": "ZMtWkVB6kvP5"
      },
      "execution_count": null,
      "outputs": []
    },
    {
      "cell_type": "markdown",
      "source": [
        "The customization below uses the `ticks` style, which has a white background with outside tick marks."
      ],
      "metadata": {
        "id": "jRVMe1FfmD1r"
      }
    },
    {
      "cell_type": "code",
      "source": [
        "(so.Plot(data=df_2000,\n",
        "         x='fertility',\n",
        "         y='life_expect',\n",
        "         color='cluster',\n",
        "         pointsize='pop')\n",
        "  .add(so.Dot())\n",
        "  .theme({**axes_style(\"ticks\")})  # change theme\n",
        ")"
      ],
      "metadata": {
        "id": "is3Z3rPpl5xV"
      },
      "execution_count": null,
      "outputs": []
    },
    {
      "cell_type": "markdown",
      "source": [
        "## Color Palettes"
      ],
      "metadata": {
        "id": "9VtGIt8yS0Xz"
      }
    },
    {
      "cell_type": "markdown",
      "source": [
        "Scales, such as axis scales and color scales, are controlled with the [`Plot.scale()`](https://seaborn.pydata.org/generated/seaborn.objects.Plot.scale.html) function.\n",
        "\n",
        "We'll first look at adjusting the colors used for the clusters. In the Marks and Channels tutorial, the color scale used *color saturation* for the `cluster` attribute. *Color saturation* is a *magnitude channel* that is suitable for an *ordered attribute*. However, the cluster is the result of some grouping, so it's really a *categorical attribute*. Thus, we need to specify a color palette based on *color hue*, which is an *identity channel*.\n",
        "\n",
        "Various color palettes are shown in the [Choosing color palettes tutorial](https://seaborn.pydata.org/tutorial/color_palettes.html). For this example, we'll pick the `tab10` palette."
      ],
      "metadata": {
        "id": "29FywoRJ1JY4"
      }
    },
    {
      "cell_type": "code",
      "source": [
        "(so.Plot(data=df_2000,\n",
        "         x='fertility',\n",
        "         y='life_expect',\n",
        "         color='cluster',\n",
        "         pointsize='pop')\n",
        "  .add(so.Dot())\n",
        "  .theme({**axes_style(\"ticks\")})\n",
        "  .scale(color=\"tab10\")            # change color palette\n",
        ")"
      ],
      "metadata": {
        "id": "DnRlPv4R11oQ"
      },
      "execution_count": null,
      "outputs": []
    },
    {
      "cell_type": "markdown",
      "source": [
        "## Customizing Marks"
      ],
      "metadata": {
        "id": "dUdSL3kES7EZ"
      }
    },
    {
      "cell_type": "markdown",
      "source": [
        "In some of the smaller dots, it's difficult to see the color, so one thing we could add is a black border around the dots to see if that will help them stand out. For this, we can specify the [`edgecolor` parameter](https://seaborn.pydata.org/tutorial/properties.html#color-properties) to the mark."
      ],
      "metadata": {
        "id": "51VEgbRGGrLo"
      }
    },
    {
      "cell_type": "code",
      "source": [
        "(so.Plot(data=df_2000,\n",
        "         x='fertility',\n",
        "         y='life_expect',\n",
        "         color='cluster',\n",
        "         pointsize='pop')\n",
        "  .add(so.Dot(edgecolor=\"black\"))  # add border on dot\n",
        "  .theme({**axes_style(\"ticks\")})\n",
        "  .scale(color=\"tab10\")\n",
        ")"
      ],
      "metadata": {
        "id": "sEOIl5Fh14aG"
      },
      "execution_count": null,
      "outputs": []
    },
    {
      "cell_type": "markdown",
      "source": [
        "Yet another option would be to use unfilled circles instead of filled circles to help distinguish between dots that might be overlapping. For this, we can use [`so.Dots()`](https://seaborn.pydata.org/generated/seaborn.objects.Dots.html) instead of `so.Dot()`."
      ],
      "metadata": {
        "id": "XzRfp1sQHufG"
      }
    },
    {
      "cell_type": "code",
      "source": [
        "(so.Plot(data=df_2000,\n",
        "         x='fertility',\n",
        "         y='life_expect',\n",
        "         color='cluster',\n",
        "         pointsize='pop')\n",
        "  .add(so.Dots())                    # use open circles\n",
        "  .theme({**axes_style(\"ticks\")})\n",
        "  .scale(color=\"tab10\")\n",
        ")"
      ],
      "metadata": {
        "id": "zsy1A4PXHSXC"
      },
      "execution_count": null,
      "outputs": []
    },
    {
      "cell_type": "markdown",
      "source": [
        "By default, the fill color is a lower saturation version of the edge color. But, in the same way that you can set the `edgecolor` for all dots, you can also set the `fillcolor`.\n",
        "\n",
        "Also, with `so.Dots()`, we can set the `stroke` size to make the border thicker. Note that for some marks, including [`so.Dot()`](https://seaborn.pydata.org/generated/seaborn.objects.Dot.html), this thickness is controlled by the `edgewidth` property.  These differences are all named in the API documentation."
      ],
      "metadata": {
        "id": "f25yt27PIKQV"
      }
    },
    {
      "cell_type": "code",
      "source": [
        "(so.Plot(data=df_2000,\n",
        "         x='fertility',\n",
        "         y='life_expect',\n",
        "         color='cluster',\n",
        "         pointsize='pop')\n",
        "  .add(so.Dots(fillcolor=\"white\", stroke=1.5))  # change fill color and border size\n",
        "  .theme({**axes_style(\"ticks\")})\n",
        "  .scale(color=\"tab10\")\n",
        ")"
      ],
      "metadata": {
        "id": "6Q6gyL0AH-IT"
      },
      "execution_count": null,
      "outputs": []
    },
    {
      "cell_type": "markdown",
      "source": [
        "Next, let's look at adjusting the circle sizes. Just as we changed the range of colors used for the clusters, we can adjust the range of sizes used for population using `Plot.scale()` to modify the `pointsize` channel.\n",
        "\n",
        "In this first example, we'll just adjust the range for the [`pointsize`](https://seaborn.pydata.org/tutorial/properties.html#pointsize-property) channel to be the tuple `(1,20)`. Note that the documentation specifies that the magnitude is represented by the diameter of the circle rather than the area."
      ],
      "metadata": {
        "id": "JODotmr7Jsqt"
      }
    },
    {
      "cell_type": "code",
      "source": [
        "(so.Plot(data=df_2000,\n",
        "         x='fertility',\n",
        "         y='life_expect',\n",
        "         color='cluster',\n",
        "         pointsize='pop')\n",
        "  .add(so.Dots(fillcolor=\"white\", stroke=1.5))\n",
        "  .theme({**axes_style(\"ticks\")})\n",
        "  .scale(color=\"tab10\",\n",
        "         pointsize=(1,20))     # change circle size range\n",
        ")"
      ],
      "metadata": {
        "id": "FOggh-lJIVS8"
      },
      "execution_count": null,
      "outputs": []
    },
    {
      "cell_type": "markdown",
      "source": [
        "## Tick Marks and Labels\n",
        "\n",
        "In addition to making the range of the circles larger, we can also make the legend look nicer.  \n",
        "\n",
        "Since we want a bit more control, we'll use the [so.Continuous()](https://seaborn.pydata.org/generated/seaborn.objects.Continuous.html) function. We can still specify the range as the `(1,20)` tuple, but we can also increase the number of circle sizes shown using `tick` and format the number shown using `label`:\n",
        "\n",
        "* `tick(upto=5)` says to choose \"nice\" locations (like even numbers) for the divisions, but don't create more than 5 divisions\n",
        "\n",
        "* `label(unit=\"\")` says to use [SI prefixes](https://en.wikipedia.org/wiki/Metric_prefix) with the given unit. Since population doesn't have a unit (like grams (g) for instance), we can specify no additional suffix by using `\"\"`."
      ],
      "metadata": {
        "id": "OggjNL6VPV2i"
      }
    },
    {
      "cell_type": "code",
      "source": [
        "(so.Plot(data=df_2000,\n",
        "         x='fertility',\n",
        "         y='life_expect',\n",
        "         color='cluster',\n",
        "         pointsize='pop')\n",
        "  .add(so.Dots(fillcolor=\"white\", stroke=1.5))\n",
        "  .theme({**axes_style(\"ticks\")})\n",
        "  .scale(color=\"tab10\",\n",
        "         # change circle size range, number of circles in legend, label SI units\n",
        "         pointsize=so.Continuous((1,20)).tick(upto=5).label(unit=\"\"))\n",
        ")"
      ],
      "metadata": {
        "id": "Tb9YdxjoKFFA"
      },
      "execution_count": null,
      "outputs": []
    },
    {
      "cell_type": "markdown",
      "source": [
        "🚨\n",
        "\n",
        "👆 Edit the cell above to experiment with different values for `upto`.  \n",
        "\n",
        "👇 Then, copy the code into a new cell below and replace `upto` with `count` and specify a number of circles to be shown in the legend.  \n",
        "\n",
        "❓*What difference do you see with using `upto` vs. `count`?*"
      ],
      "metadata": {
        "id": "XalqdQ5PQznp"
      }
    },
    {
      "cell_type": "markdown",
      "source": [
        "## Labels and Titles"
      ],
      "metadata": {
        "id": "paQSfMIDTPV0"
      }
    },
    {
      "cell_type": "markdown",
      "source": [
        "Now let's look at customizing the labels and titles on the chart using [`Plot.label()`](https://seaborn.pydata.org/generated/seaborn.objects.Plot.label.html). We can provide a label for each channel that we specify in `Plot()` as well as a `title` for the chart.\n",
        "\n"
      ],
      "metadata": {
        "id": "5e2V_jOiSxmO"
      }
    },
    {
      "cell_type": "code",
      "source": [
        "(so.Plot(data=df_2000,\n",
        "         x='fertility',\n",
        "         y='life_expect',\n",
        "         color='cluster',\n",
        "         pointsize='pop')\n",
        "  .add(so.Dots(fillcolor=\"white\", stroke=1.5))\n",
        "  .theme({**axes_style(\"ticks\")})\n",
        "  .scale(color=\"tab10\",\n",
        "         pointsize=so.Continuous((1,20)).tick(upto=5).label(unit=\"\"))\n",
        "  .label(x=\"Fertility (children per woman)\",       # set title, x, y, and legend labels\n",
        "         y=\"Life Expectancy (years)\",\n",
        "         color=\"Region (cluster)\",\n",
        "         pointsize=\"Population\",\n",
        "         title=\"Countries with higher fertility tend to have lower life expectancy\")\n",
        ")"
      ],
      "metadata": {
        "id": "MhQ2zKwBRCGW"
      },
      "execution_count": null,
      "outputs": []
    },
    {
      "cell_type": "markdown",
      "source": [
        "## Number Formats"
      ],
      "metadata": {
        "id": "wHb8g44HTKCc"
      }
    },
    {
      "cell_type": "markdown",
      "source": [
        "We can also use the `so.Continuous().label()` function to adjust how items on the main x,y axis are labeled. For instance, in bar chart showing population below, the population values are displayed in scientific notation by default."
      ],
      "metadata": {
        "id": "m9MF_OaeW1WI"
      }
    },
    {
      "cell_type": "code",
      "source": [
        "(so.Plot(data=df_2000_5countries,\n",
        "         x='country',\n",
        "         y='pop')\n",
        "  .add(so.Bar())\n",
        ")"
      ],
      "metadata": {
        "id": "4SSshILiXNHt"
      },
      "execution_count": null,
      "outputs": []
    },
    {
      "cell_type": "markdown",
      "source": [
        "We can apply `so.Continuous().label()` to the y scale to adjust this display."
      ],
      "metadata": {
        "id": "Cg0tHqhSXYb3"
      }
    },
    {
      "cell_type": "code",
      "source": [
        "(so.Plot(data=df_2000_5countries,\n",
        "         x='country',\n",
        "         y='pop')\n",
        "  .add(so.Bar())\n",
        "  .scale(y=so.Continuous().label(unit=\"\"))  # use SI units\n",
        ")"
      ],
      "metadata": {
        "id": "8oCXjZ1tXf0u"
      },
      "execution_count": null,
      "outputs": []
    },
    {
      "cell_type": "markdown",
      "source": [
        "If we want to use commas instead of SI units, we can use the `like=` parameter with a [formatter](https://docs.python.org/3/library/string.html#format-examples)."
      ],
      "metadata": {
        "id": "E1RZ0Lj3ZfKI"
      }
    },
    {
      "cell_type": "code",
      "source": [
        "(so.Plot(data=df_2000_5countries,\n",
        "         x='country',\n",
        "         y='pop')\n",
        "  .add(so.Bar())\n",
        "  .scale(y=so.Continuous().label(like=\"{x:,.0f}\"))\n",
        "  # use formatter (commas, 0 digits after the decimal)\n",
        ")"
      ],
      "metadata": {
        "id": "mdetxR6QYIsC"
      },
      "execution_count": null,
      "outputs": []
    },
    {
      "cell_type": "markdown",
      "source": [
        "## Chart Size\n",
        "\n",
        "Our final customization is to change the chart size. Let's make it wider so that it fills more of the screen.  This can be done with [`Plot.layout()`](https://seaborn.pydata.org/generated/seaborn.objects.Plot.layout.html)."
      ],
      "metadata": {
        "id": "3z-OLHXBUr3-"
      }
    },
    {
      "cell_type": "code",
      "source": [
        "(so.Plot(data=df_2000,\n",
        "         x='fertility',\n",
        "         y='life_expect',\n",
        "         color='cluster',\n",
        "         pointsize='pop')\n",
        "  .add(so.Dots(fillcolor=\"white\", stroke=1.5))\n",
        "  .theme({**axes_style(\"ticks\")})\n",
        "  .scale(color=\"tab10\",\n",
        "         pointsize=so.Continuous((1,20)).tick(upto=5).label(unit=\"\"))\n",
        "  .label(x=\"Fertility (children per woman)\",\n",
        "         y=\"Life Expectancy (years)\",\n",
        "         color=\"Region (cluster)\",\n",
        "         pointsize=\"Population\",\n",
        "         title=\"Countries with higher fertility tend to have lower life expectancy\")\n",
        "  .layout(size=(12,6))           # change plot size\n",
        ")"
      ],
      "metadata": {
        "id": "SiL8JrZpTxys"
      },
      "execution_count": null,
      "outputs": []
    }
  ]
}