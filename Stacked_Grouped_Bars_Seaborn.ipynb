{
  "nbformat": 4,
  "nbformat_minor": 0,
  "metadata": {
    "colab": {
      "provenance": [],
      "include_colab_link": true
    },
    "kernelspec": {
      "name": "python3",
      "display_name": "Python 3"
    },
    "language_info": {
      "name": "python"
    }
  },
  "cells": [
    {
      "cell_type": "markdown",
      "metadata": {
        "id": "view-in-github",
        "colab_type": "text"
      },
      "source": [
        "<a href=\"https://colab.research.google.com/github/odu-cs625-datavis/public-fall24-mcw/blob/main/Stacked_Grouped_Bars_Seaborn.ipynb\" target=\"_parent\"><img src=\"https://colab.research.google.com/assets/colab-badge.svg\" alt=\"Open In Colab\"/></a>"
      ]
    },
    {
      "cell_type": "markdown",
      "source": [
        "# Stacked and Grouped Bar Charts with Seaborn Objects\n",
        "\n",
        "In this notebook, we'll demonstrate creating stacked bar charts and grouped bar charts with Seaborn Objects. We'll be re-creating the stacked and grouped charts from the [Vega-Lite Chart Types notebook](https://observablehq.com/@observablehq/vega-lite-chart-types)."
      ],
      "metadata": {
        "id": "6acxAmwUa18x"
      }
    },
    {
      "cell_type": "code",
      "execution_count": null,
      "metadata": {
        "id": "ynSj15ftZsmP"
      },
      "outputs": [],
      "source": [
        "import pandas as pd\n",
        "import seaborn as sns\n",
        "import seaborn.objects as so\n",
        "import matplotlib.pyplot as plt"
      ]
    },
    {
      "cell_type": "markdown",
      "source": [
        "The Vega-Lite Chart Types notebook uses Portland weather data, from three years of daily observations of minimum and maximum temperatures, an overall condition (fog, rain, snow, or sun), and amount of precipitation sourced from [NOAA’s Global Historical Climatology Network](https://www.ncei.noaa.gov/products/land-based-station/global-historical-climatology-network-daily) (*this is an updated link, the Vega-Lite notebook's link is 404*).\n",
        "\n",
        "I've saved the Portland weather data from the Vega-Lite notebook as [`pwm-weather.csv`](https://github.com/odu-cs625-datavis/public-fall24-mcw/blob/main/pwm-weather.csv).  We can load this into our notebook using `read_csv()`.\n",
        "\n"
      ],
      "metadata": {
        "id": "joCwjOPpgBH3"
      }
    },
    {
      "cell_type": "code",
      "source": [
        "weather = pd.read_csv('https://raw.githubusercontent.com/odu-cs625-datavis/public-fall24-mcw/main/pwm-weather.csv')"
      ],
      "metadata": {
        "id": "30QlAsRKagcS"
      },
      "execution_count": null,
      "outputs": []
    },
    {
      "cell_type": "code",
      "source": [
        "weather.head()"
      ],
      "metadata": {
        "id": "47yYq6_-a53g"
      },
      "execution_count": null,
      "outputs": []
    },
    {
      "cell_type": "markdown",
      "source": [
        "## Stacked bar chart"
      ],
      "metadata": {
        "id": "bYXOmnCpas4q"
      }
    },
    {
      "cell_type": "markdown",
      "source": [
        "We’ll attempt a stacked bar chart grouped by month, counting all the days within a month for different conditions. For three years worth of data, each month should have about 90 days total. Before we can create the charts, we need to do some data processing."
      ],
      "metadata": {
        "id": "hwG0UCoMbMtl"
      }
    },
    {
      "cell_type": "markdown",
      "source": [
        "First, we need to convert the `date` attribute from a String to a Date, using Pandas [`to_datetime()`](https://pandas.pydata.org/docs/reference/api/pandas.to_datetime.html)."
      ],
      "metadata": {
        "id": "WRhUXLXO0rgm"
      }
    },
    {
      "cell_type": "code",
      "source": [
        "weather['date'] = pd.to_datetime(weather['date'])"
      ],
      "metadata": {
        "id": "P8p_Gk4XdOvC"
      },
      "execution_count": null,
      "outputs": []
    },
    {
      "cell_type": "markdown",
      "source": [
        "Then, we create a new attribute `month` that pulls just the month information from `date`.  \n",
        "\n",
        "**Tip:** If you'll be using Python and time series a lot, you'll want to get familiar with [`strftime()`](https://docs.python.org/3/library/datetime.html#datetime.datetime.strftime) and its various [formatting codes](https://strftime.org/)."
      ],
      "metadata": {
        "id": "YEPFzTKz02D5"
      }
    },
    {
      "cell_type": "code",
      "source": [
        "weather['month'] = weather['date'].dt.strftime('%b')"
      ],
      "metadata": {
        "id": "1gd08N9PEZ4r"
      },
      "execution_count": null,
      "outputs": []
    },
    {
      "cell_type": "markdown",
      "source": [
        "Let's peek at the dataset again to see the added attribute."
      ],
      "metadata": {
        "id": "tN5QNuZK1iCE"
      }
    },
    {
      "cell_type": "code",
      "source": [
        "weather.head()"
      ],
      "metadata": {
        "id": "_wAZzjSi0eU2"
      },
      "execution_count": null,
      "outputs": []
    },
    {
      "cell_type": "markdown",
      "source": [
        "First, let's just create a bar chart that counts the number of items in each month.  We map `month` to the x-axis and the count of items to the y-axis using the [`so.Count()`](https://seaborn.pydata.org/generated/seaborn.objects.Count.html) function.\n",
        "\n",
        "Note: This notebook is using `()` to allow us to break the charting code over multiple lines."
      ],
      "metadata": {
        "id": "2zRk_ds3jTEb"
      }
    },
    {
      "cell_type": "code",
      "source": [
        "(\n",
        "    so.Plot(weather, x=\"month\")\n",
        "    .add(so.Bar(), so.Count())\n",
        ")"
      ],
      "metadata": {
        "id": "8PQid5gTjQd6"
      },
      "execution_count": null,
      "outputs": []
    },
    {
      "cell_type": "markdown",
      "source": [
        "Now, we want to color the bars based on `condition`. To do that, we can add `color=\"condition\"` to our `Plot()` function."
      ],
      "metadata": {
        "id": "B1Q8q97Kh8Oo"
      }
    },
    {
      "cell_type": "code",
      "source": [
        "(\n",
        "    so.Plot(weather, x=\"month\", color=\"condition\")\n",
        "    .add(so.Bar(), so.Count())\n",
        ")"
      ],
      "metadata": {
        "id": "WRYh-pq2iq75"
      },
      "execution_count": null,
      "outputs": []
    },
    {
      "cell_type": "markdown",
      "source": [
        "This isn't quite right. All of the conditions are starting from 0, so they're overlapping each other. To fix this, we need to add [`so.Stack()`](https://seaborn.pydata.org/generated/seaborn.objects.Stack.html)."
      ],
      "metadata": {
        "id": "iHjL-Zz_i7qC"
      }
    },
    {
      "cell_type": "code",
      "source": [
        "(\n",
        "    so.Plot(weather, x=\"month\", color=\"condition\")\n",
        "    .add(so.Bar(), so.Count(), so.Stack())\n",
        ")"
      ],
      "metadata": {
        "id": "CGi7HIiwbQIT"
      },
      "execution_count": null,
      "outputs": []
    },
    {
      "cell_type": "markdown",
      "source": [
        "Now we can see that Portland seems sunny about half the time year-round, with snow from Nov-Apr."
      ],
      "metadata": {
        "id": "5viXnHzE0jQo"
      }
    },
    {
      "cell_type": "markdown",
      "source": [
        "## Grouped bar chart\n",
        "\n",
        "To create a grouped bar chart for this data, we just need to replace `so.Stack()` with [`so.Dodge()`](https://seaborn.pydata.org/generated/seaborn.objects.Dodge.html)."
      ],
      "metadata": {
        "id": "OtRTJ9BOj88g"
      }
    },
    {
      "cell_type": "code",
      "source": [
        "(\n",
        "    so.Plot(weather, x=\"month\", color=\"condition\")\n",
        "    .add(so.Bar(), so.Count(), so.Dodge())\n",
        ")"
      ],
      "metadata": {
        "id": "Wm50w-qCmJAZ"
      },
      "execution_count": null,
      "outputs": []
    },
    {
      "cell_type": "markdown",
      "source": [
        "This isn't exactly like the grouped chart in the Vega-Lite notebook, but it's a standard grouped bar chart."
      ],
      "metadata": {
        "id": "J__vIZAdnrOB"
      }
    }
  ]
}