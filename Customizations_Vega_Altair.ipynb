{
  "nbformat": 4,
  "nbformat_minor": 0,
  "metadata": {
    "colab": {
      "provenance": [],
      "include_colab_link": true
    },
    "kernelspec": {
      "name": "python3",
      "display_name": "Python 3"
    },
    "language_info": {
      "name": "python"
    }
  },
  "cells": [
    {
      "cell_type": "markdown",
      "metadata": {
        "id": "view-in-github",
        "colab_type": "text"
      },
      "source": [
        "<a href=\"https://colab.research.google.com/github/odu-cs625-datavis/public-fall24-mcw/blob/main/Customizations_Vega_Altair.ipynb\" target=\"_parent\"><img src=\"https://colab.research.google.com/assets/colab-badge.svg\" alt=\"Open In Colab\"/></a>"
      ]
    },
    {
      "cell_type": "markdown",
      "source": [
        "# **Vega-Altair Customizations**\n",
        "\n",
        "In this notebook, we'll look at some extra customizations for Vega-Altair charts.\n",
        "\n",
        "First, we'll load the same datasets that we had in our Marks and Channels tutorial.\n",
        "\n",
        "(Note: Don't worry about the deprecation warning. That's something inside Altair and I expect will get fixed in future versions.)"
      ],
      "metadata": {
        "id": "VUezBF-EJtpi"
      }
    },
    {
      "cell_type": "code",
      "execution_count": null,
      "metadata": {
        "id": "aJuWhFqZr4H0"
      },
      "outputs": [],
      "source": [
        "import altair as alt\n",
        "from vega_datasets import data as vega_data"
      ]
    },
    {
      "cell_type": "code",
      "source": [
        "data = vega_data.gapminder()\n",
        "data.head()"
      ],
      "metadata": {
        "id": "oGDHNFuwpGTF"
      },
      "execution_count": null,
      "outputs": []
    },
    {
      "cell_type": "code",
      "source": [
        "data_2000 = data[data['year'] == 2000]\n",
        "data_2000.head()"
      ],
      "metadata": {
        "id": "3h5Fnnzbtagy"
      },
      "execution_count": null,
      "outputs": []
    },
    {
      "cell_type": "markdown",
      "source": [
        "## **Extra Customizations**\n",
        "\n",
        "For most of these, we'll start with the same base chart."
      ],
      "metadata": {
        "id": "Rj14ap1GtfyZ"
      }
    },
    {
      "cell_type": "code",
      "source": [
        "alt.Chart(data_2000).mark_point().encode(\n",
        "    x = 'fertility:Q',\n",
        "    y = 'life_expect:Q',\n",
        "    color = 'cluster:N',\n",
        "    size = 'pop:Q'\n",
        ")"
      ],
      "metadata": {
        "id": "-ANoTmB9tnU8"
      },
      "execution_count": null,
      "outputs": []
    },
    {
      "cell_type": "markdown",
      "source": [
        "The first customization we'll do is to remove the gridlines from the chart. This is done setting the `grid` property to `False` within the `axis` argument for both the `x` and `y` encodings, providing a way to customize how the axis is displayed.\n",
        "\n",
        "Learn more information about [`altair.Axis`](https://altair-viz.github.io/user_guide/generated/core/altair.Axis.html#altair.Axis) and [altair.X](https://altair-viz.github.io/user_guide/generated/channels/altair.X.html)."
      ],
      "metadata": {
        "id": "QO_8uTLLt548"
      }
    },
    {
      "cell_type": "code",
      "source": [
        "alt.Chart(data_2000).mark_point().encode(\n",
        "    x = alt.X('fertility:Q', axis = alt.Axis(grid = False)),\n",
        "    y = alt.Y('life_expect:Q', axis = alt.Axis(grid = False)),\n",
        "    color = 'cluster:N',\n",
        "    size = 'pop:Q'\n",
        ")"
      ],
      "metadata": {
        "id": "tLd7miEet6lD"
      },
      "execution_count": null,
      "outputs": []
    },
    {
      "cell_type": "markdown",
      "source": [
        "There are several ways to change the appearance of your axes by utilizing `altair.Axis` and modifying its many parameters. View the [documentation](https://altair-viz.github.io/user_guide/generated/core/altair.Axis.html#altair.Axis) for more information.\n",
        "\n",
        "(Note: In the following cells, I'll be using the `()` notation so we can add line breaks.)"
      ],
      "metadata": {
        "id": "JQZpSkVozO0X"
      }
    },
    {
      "cell_type": "code",
      "source": [
        "(\n",
        "  alt.Chart(data_2000).mark_point().encode(\n",
        "    x = alt.X('fertility:Q',\n",
        "              axis = alt.Axis(grid = False, tickSize = 20, tickWidth = 5,\n",
        "                              labelAngle = 45, labelColor = \"blue\",\n",
        "                              labelFontSize = 20)),\n",
        "    y = alt.Y('life_expect:Q', axis = alt.Axis(grid = False)),\n",
        "    color = 'cluster:N',\n",
        "    size = 'pop:Q'\n",
        "  )\n",
        ")"
      ],
      "metadata": {
        "id": "zlV6kfpVxu_F"
      },
      "execution_count": null,
      "outputs": []
    },
    {
      "cell_type": "markdown",
      "source": [
        "Now let's go back to the chart just with no gridlines.  Next up is to change the color palette for the `cluster` attribute.   [Scale Ranges](https://vega.github.io/vega-lite/docs/scale.html#range) indicates that in Vega-Lite, the default color palettes are chosen based on the attribute's type:\n",
        "* \"category\" for nominal fields.\n",
        "* \"ordinal\" for ordinal fields.\n",
        "* \"heatmap\" for quantitative and temporal fields with \"rect\" marks and \"ramp' for other marks\n",
        "\n",
        "Color palettes can be set using the `range` or `scheme` property within the [`altair.Scale()`](https://altair-viz.github.io/user_guide/generated/core/altair.Scale.html#altair.Scale) function. To learn more about `altair.Color()`, click [here](https://altair-viz.github.io/user_guide/generated/channels/altair.Color.html).\n",
        "\n",
        "See the [Color Schemes](https://vega.github.io/vega/docs/schemes/) documentation for the various schemes that are available and the [Scale > Color Schemes](https://vega.github.io/vega-lite/docs/scale.html#scheme) documentation for examples.\n",
        "\n",
        "For this example, we'll pick the [`set1`](https://vega.github.io/vega/docs/schemes/#set1) scheme."
      ],
      "metadata": {
        "id": "muGLdOqa0mgT"
      }
    },
    {
      "cell_type": "code",
      "source": [
        "alt.Chart(data_2000).mark_point().encode(\n",
        "    x = alt.X('fertility:Q', axis = alt.Axis(grid = False)),\n",
        "    y = alt.Y('life_expect:Q', axis = alt.Axis(grid = False)),\n",
        "    color = alt.Color('cluster:N', scale = alt.Scale(scheme = 'set1' )),\n",
        "    size = 'pop:Q'\n",
        ")"
      ],
      "metadata": {
        "id": "3M46AZmQ0poc"
      },
      "execution_count": null,
      "outputs": []
    },
    {
      "cell_type": "markdown",
      "source": [
        "If we wanted filled circles instead of open circles, there are two different ways to do this.  \n",
        "\n",
        "The easiest is to use `mark_circle()` instead of `mark_point()`."
      ],
      "metadata": {
        "id": "l9r7ReW83Rud"
      }
    },
    {
      "cell_type": "code",
      "source": [
        "alt.Chart(data_2000).mark_circle().encode(\n",
        "    x = alt.X('fertility:Q', axis = alt.Axis(grid = False)),\n",
        "    y = alt.Y('life_expect:Q', axis = alt.Axis(grid = False)),\n",
        "    color = alt.Color('cluster:N', scale = alt.Scale(scheme = 'set1' )),\n",
        "    size = 'pop:Q'\n",
        ")"
      ],
      "metadata": {
        "id": "Ns53YBhz3WoW"
      },
      "execution_count": null,
      "outputs": []
    },
    {
      "cell_type": "markdown",
      "source": [
        "Or you can set the `filled` property to true in `mark_point()`."
      ],
      "metadata": {
        "id": "MwhpF7j-30YX"
      }
    },
    {
      "cell_type": "code",
      "source": [
        "alt.Chart(data_2000).mark_point(filled = True).encode(\n",
        "    x = alt.X('fertility:Q', axis = alt.Axis(grid = False)),\n",
        "    y = alt.Y('life_expect:Q', axis = alt.Axis(grid = False)),\n",
        "    color = alt.Color('cluster:N', scale = alt.Scale(scheme = 'set1' )),\n",
        "    size = 'pop:Q'\n",
        ")"
      ],
      "metadata": {
        "id": "2NZ1PWED33TQ"
      },
      "execution_count": null,
      "outputs": []
    },
    {
      "cell_type": "markdown",
      "source": [
        "In some of the smaller dots, it's difficult to see the color, so one thing we could add is a black border around the dots to see if that will help them stand out. For this, we can specify the `stroke` parameter within `mark_circle()`."
      ],
      "metadata": {
        "id": "reZPJn6W-Qxr"
      }
    },
    {
      "cell_type": "code",
      "source": [
        "alt.Chart(data_2000).mark_circle(stroke = 'black').encode(\n",
        "    x = alt.X('fertility:Q', axis = alt.Axis(grid = False)),\n",
        "    y = alt.Y('life_expect:Q', axis = alt.Axis(grid = False)),\n",
        "    color = alt.Color('cluster:N', scale = alt.Scale(scheme = 'set1' )),\n",
        "    size = 'pop:Q'\n",
        ")"
      ],
      "metadata": {
        "id": "jlcvx-uV-VHl"
      },
      "execution_count": null,
      "outputs": []
    },
    {
      "cell_type": "markdown",
      "source": [
        "Other customizations to the stroke and fill can be used, see the [Color Properties](https://altair-viz.github.io/user_guide/marks/index.html#color-properties) and [Stroke Style Properties](https://altair-viz.github.io/user_guide/marks/index.html#stroke-style-properties) section from the [Mark](https://altair-viz.github.io/user_guide/marks/index.html#marks) documentation.\n",
        "\n",
        "Below, we'll increase the stroke width and reduce the opacity of the fill."
      ],
      "metadata": {
        "id": "9Ox55tk9_BrM"
      }
    },
    {
      "cell_type": "code",
      "source": [
        "(\n",
        "  alt.Chart(data_2000).mark_circle(stroke = 'black',\n",
        "                                   strokeWidth = 3,\n",
        "                                   fillOpacity = 0.5).encode(\n",
        "    x = alt.X('fertility:Q', axis = alt.Axis(grid = False)),\n",
        "    y = alt.Y('life_expect:Q', axis = alt.Axis(grid = False)),\n",
        "    color = alt.Color('cluster:N', scale = alt.Scale(scheme = 'set1')),\n",
        "    size = 'pop:Q'\n",
        "  )\n",
        ")"
      ],
      "metadata": {
        "id": "zgF4-jSk_xSW"
      },
      "execution_count": null,
      "outputs": []
    },
    {
      "cell_type": "markdown",
      "source": [
        "Next, let's look at adjusting the circle sizes. To provide a customized span of sizes, we can adjust the range of sizes used for population by setting the `range` parameter within `altair.Scale()` to an array indicating the smallest and largest sizes.\n",
        "\n",
        "Here we update the size encoding to range from 0 pixels (for zero values) to 1200 pixels (for the maximum value in the scale domain)."
      ],
      "metadata": {
        "id": "Y4sJu8u4Ap3I"
      }
    },
    {
      "cell_type": "code",
      "source": [
        "alt.Chart(data_2000).mark_circle().encode(\n",
        "    x = alt.X('fertility:Q', axis = alt.Axis(grid = False)),\n",
        "    y = alt.Y('life_expect:Q', axis = alt.Axis(grid = False)),\n",
        "    color = alt.Color('cluster:N'),\n",
        "    size = alt.Size('pop:Q', scale = alt.Scale(range = [0, 1200] ))\n",
        ")"
      ],
      "metadata": {
        "id": "SQbnAgvbCmDG"
      },
      "execution_count": null,
      "outputs": []
    },
    {
      "cell_type": "markdown",
      "source": [
        "Now let's look at customizing the labels and titles on the chart using the `title` parameter within `altair.Chart()`.  We can provide a label for each channel that we specify as well as an overall title for the chart."
      ],
      "metadata": {
        "id": "dATOP26UCOM9"
      }
    },
    {
      "cell_type": "code",
      "source": [
        "(\n",
        "  alt.Chart(data_2000,\n",
        "            title = 'Countries with higher fertility tend to have lower life expectancy')\n",
        "  .mark_circle().encode(\n",
        "    x = alt.X('fertility:Q', axis = alt.Axis(grid = False),\n",
        "              title = 'Fertility (children per woman)'),\n",
        "    y = alt.Y('life_expect:Q', axis = alt.Axis(grid = False),\n",
        "              title = 'Life Expectancy (years)'),\n",
        "    color = alt.Color('cluster:N'),\n",
        "    size = alt.Size('pop:Q', scale = alt.Scale(range = [0, 1200] ))\n",
        "  )\n",
        ")"
      ],
      "metadata": {
        "id": "kuytVOwpEQOs"
      },
      "execution_count": null,
      "outputs": []
    },
    {
      "cell_type": "markdown",
      "source": [
        "To add any modifications to the main title, you can utilize `altair.TitleParams`. In order to add a subtitle to the main title, we need to specify the main title as `text` and the subtitle as `subtitle` within `altair.TitleParams`."
      ],
      "metadata": {
        "id": "8JcFTBLrEYk4"
      }
    },
    {
      "cell_type": "code",
      "source": [
        "(\n",
        "  alt.Chart(data_2000,\n",
        "            title = alt.TitleParams(text = 'Countries with higher fertility tend to have lower life expectancy',\n",
        "                                    subtitle = 'source: gapminder.json'))\n",
        "  .mark_circle().encode(\n",
        "    x = alt.X('fertility:Q', axis = alt.Axis(grid = False),\n",
        "              title = 'Fertility (children per woman)'),\n",
        "    y = alt.Y('life_expect:Q', axis = alt.Axis(grid = False),\n",
        "              title = 'Life Expectancy (years)'),\n",
        "    color = alt.Color('cluster:N'),\n",
        "    size = alt.Size('pop:Q', scale = alt.Scale(range = [0, 1200]))\n",
        "  )\n",
        ")"
      ],
      "metadata": {
        "id": "a_OlpT3GAtF_"
      },
      "execution_count": null,
      "outputs": []
    },
    {
      "cell_type": "markdown",
      "source": [
        "Our final customization is to change the chart size.  Let's make it wider so that it fills more of the screen.  This can be done by setting the `width` and `height` parameters within the `properties` function."
      ],
      "metadata": {
        "id": "ZxHZLypiGGLD"
      }
    },
    {
      "cell_type": "code",
      "source": [
        "(\n",
        "  alt.Chart(data_2000,\n",
        "            title = alt.TitleParams(text = 'Countries with higher fertility tend to have lower life expectancy',\n",
        "                                    subtitle = 'source: gapminder.json'))\n",
        "  .mark_circle().encode(\n",
        "    x = alt.X('fertility:Q', axis = alt.Axis(grid = False),\n",
        "              title = 'Fertility (children per woman)'),\n",
        "    y = alt.Y('life_expect:Q', axis = alt.Axis(grid = False),\n",
        "              title = 'Life Expectancy (years)'),\n",
        "    color = alt.Color('cluster:N'),\n",
        "    size = alt.Size('pop:Q', scale = alt.Scale(range = [0, 1200]))\n",
        "  )\n",
        "  .properties(width = 600, height = 300)\n",
        ")"
      ],
      "metadata": {
        "id": "F1fcuV5yGJL8"
      },
      "execution_count": null,
      "outputs": []
    }
  ]
}