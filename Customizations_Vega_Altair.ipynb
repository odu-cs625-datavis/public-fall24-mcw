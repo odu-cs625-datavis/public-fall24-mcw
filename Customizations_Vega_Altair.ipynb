{
  "nbformat": 4,
  "nbformat_minor": 0,
  "metadata": {
    "colab": {
      "provenance": [],
      "include_colab_link": true
    },
    "kernelspec": {
      "name": "python3",
      "display_name": "Python 3"
    },
    "language_info": {
      "name": "python"
    }
  },
  "cells": [
    {
      "cell_type": "markdown",
      "metadata": {
        "id": "view-in-github",
        "colab_type": "text"
      },
      "source": [
        "<a href=\"https://colab.research.google.com/github/odu-cs625-datavis/public-fall24-mcw/blob/main/Customizations_Vega_Altair.ipynb\" target=\"_parent\"><img src=\"https://colab.research.google.com/assets/colab-badge.svg\" alt=\"Open In Colab\"/></a>"
      ]
    },
    {
      "cell_type": "markdown",
      "source": [
        "# **Vega-Altair Customizations**\n",
        "\n",
        "In this notebook, we'll look at some extra customizations for Vega-Altair charts.\n",
        "\n",
        "First, we'll load the same datasets that we had in our Marks and Channels tutorial.\n",
        "\n",
        "(Note: Don't worry about the deprecation warning. That's something inside Altair and I expect will get fixed in future versions.)"
      ],
      "metadata": {
        "id": "VUezBF-EJtpi"
      }
    },
    {
      "cell_type": "code",
      "execution_count": 1,
      "metadata": {
        "id": "aJuWhFqZr4H0"
      },
      "outputs": [],
      "source": [
        "import altair as alt\n",
        "from vega_datasets import data as vega_data"
      ]
    },
    {
      "cell_type": "code",
      "source": [
        "data = vega_data.gapminder()\n",
        "data.head()"
      ],
      "metadata": {
        "id": "oGDHNFuwpGTF",
        "outputId": "e9254efe-5411-4f07-913f-57755230446d",
        "colab": {
          "base_uri": "https://localhost:8080/",
          "height": 206
        }
      },
      "execution_count": 2,
      "outputs": [
        {
          "output_type": "execute_result",
          "data": {
            "text/plain": [
              "   year      country  cluster       pop  life_expect  fertility\n",
              "0  1955  Afghanistan        0   8891209       30.332        7.7\n",
              "1  1960  Afghanistan        0   9829450       31.997        7.7\n",
              "2  1965  Afghanistan        0  10997885       34.020        7.7\n",
              "3  1970  Afghanistan        0  12430623       36.088        7.7\n",
              "4  1975  Afghanistan        0  14132019       38.438        7.7"
            ],
            "text/html": [
              "\n",
              "  <div id=\"df-007f4222-b293-46ce-a424-88badf8a0e5e\" class=\"colab-df-container\">\n",
              "    <div>\n",
              "<style scoped>\n",
              "    .dataframe tbody tr th:only-of-type {\n",
              "        vertical-align: middle;\n",
              "    }\n",
              "\n",
              "    .dataframe tbody tr th {\n",
              "        vertical-align: top;\n",
              "    }\n",
              "\n",
              "    .dataframe thead th {\n",
              "        text-align: right;\n",
              "    }\n",
              "</style>\n",
              "<table border=\"1\" class=\"dataframe\">\n",
              "  <thead>\n",
              "    <tr style=\"text-align: right;\">\n",
              "      <th></th>\n",
              "      <th>year</th>\n",
              "      <th>country</th>\n",
              "      <th>cluster</th>\n",
              "      <th>pop</th>\n",
              "      <th>life_expect</th>\n",
              "      <th>fertility</th>\n",
              "    </tr>\n",
              "  </thead>\n",
              "  <tbody>\n",
              "    <tr>\n",
              "      <th>0</th>\n",
              "      <td>1955</td>\n",
              "      <td>Afghanistan</td>\n",
              "      <td>0</td>\n",
              "      <td>8891209</td>\n",
              "      <td>30.332</td>\n",
              "      <td>7.7</td>\n",
              "    </tr>\n",
              "    <tr>\n",
              "      <th>1</th>\n",
              "      <td>1960</td>\n",
              "      <td>Afghanistan</td>\n",
              "      <td>0</td>\n",
              "      <td>9829450</td>\n",
              "      <td>31.997</td>\n",
              "      <td>7.7</td>\n",
              "    </tr>\n",
              "    <tr>\n",
              "      <th>2</th>\n",
              "      <td>1965</td>\n",
              "      <td>Afghanistan</td>\n",
              "      <td>0</td>\n",
              "      <td>10997885</td>\n",
              "      <td>34.020</td>\n",
              "      <td>7.7</td>\n",
              "    </tr>\n",
              "    <tr>\n",
              "      <th>3</th>\n",
              "      <td>1970</td>\n",
              "      <td>Afghanistan</td>\n",
              "      <td>0</td>\n",
              "      <td>12430623</td>\n",
              "      <td>36.088</td>\n",
              "      <td>7.7</td>\n",
              "    </tr>\n",
              "    <tr>\n",
              "      <th>4</th>\n",
              "      <td>1975</td>\n",
              "      <td>Afghanistan</td>\n",
              "      <td>0</td>\n",
              "      <td>14132019</td>\n",
              "      <td>38.438</td>\n",
              "      <td>7.7</td>\n",
              "    </tr>\n",
              "  </tbody>\n",
              "</table>\n",
              "</div>\n",
              "    <div class=\"colab-df-buttons\">\n",
              "\n",
              "  <div class=\"colab-df-container\">\n",
              "    <button class=\"colab-df-convert\" onclick=\"convertToInteractive('df-007f4222-b293-46ce-a424-88badf8a0e5e')\"\n",
              "            title=\"Convert this dataframe to an interactive table.\"\n",
              "            style=\"display:none;\">\n",
              "\n",
              "  <svg xmlns=\"http://www.w3.org/2000/svg\" height=\"24px\" viewBox=\"0 -960 960 960\">\n",
              "    <path d=\"M120-120v-720h720v720H120Zm60-500h600v-160H180v160Zm220 220h160v-160H400v160Zm0 220h160v-160H400v160ZM180-400h160v-160H180v160Zm440 0h160v-160H620v160ZM180-180h160v-160H180v160Zm440 0h160v-160H620v160Z\"/>\n",
              "  </svg>\n",
              "    </button>\n",
              "\n",
              "  <style>\n",
              "    .colab-df-container {\n",
              "      display:flex;\n",
              "      gap: 12px;\n",
              "    }\n",
              "\n",
              "    .colab-df-convert {\n",
              "      background-color: #E8F0FE;\n",
              "      border: none;\n",
              "      border-radius: 50%;\n",
              "      cursor: pointer;\n",
              "      display: none;\n",
              "      fill: #1967D2;\n",
              "      height: 32px;\n",
              "      padding: 0 0 0 0;\n",
              "      width: 32px;\n",
              "    }\n",
              "\n",
              "    .colab-df-convert:hover {\n",
              "      background-color: #E2EBFA;\n",
              "      box-shadow: 0px 1px 2px rgba(60, 64, 67, 0.3), 0px 1px 3px 1px rgba(60, 64, 67, 0.15);\n",
              "      fill: #174EA6;\n",
              "    }\n",
              "\n",
              "    .colab-df-buttons div {\n",
              "      margin-bottom: 4px;\n",
              "    }\n",
              "\n",
              "    [theme=dark] .colab-df-convert {\n",
              "      background-color: #3B4455;\n",
              "      fill: #D2E3FC;\n",
              "    }\n",
              "\n",
              "    [theme=dark] .colab-df-convert:hover {\n",
              "      background-color: #434B5C;\n",
              "      box-shadow: 0px 1px 3px 1px rgba(0, 0, 0, 0.15);\n",
              "      filter: drop-shadow(0px 1px 2px rgba(0, 0, 0, 0.3));\n",
              "      fill: #FFFFFF;\n",
              "    }\n",
              "  </style>\n",
              "\n",
              "    <script>\n",
              "      const buttonEl =\n",
              "        document.querySelector('#df-007f4222-b293-46ce-a424-88badf8a0e5e button.colab-df-convert');\n",
              "      buttonEl.style.display =\n",
              "        google.colab.kernel.accessAllowed ? 'block' : 'none';\n",
              "\n",
              "      async function convertToInteractive(key) {\n",
              "        const element = document.querySelector('#df-007f4222-b293-46ce-a424-88badf8a0e5e');\n",
              "        const dataTable =\n",
              "          await google.colab.kernel.invokeFunction('convertToInteractive',\n",
              "                                                    [key], {});\n",
              "        if (!dataTable) return;\n",
              "\n",
              "        const docLinkHtml = 'Like what you see? Visit the ' +\n",
              "          '<a target=\"_blank\" href=https://colab.research.google.com/notebooks/data_table.ipynb>data table notebook</a>'\n",
              "          + ' to learn more about interactive tables.';\n",
              "        element.innerHTML = '';\n",
              "        dataTable['output_type'] = 'display_data';\n",
              "        await google.colab.output.renderOutput(dataTable, element);\n",
              "        const docLink = document.createElement('div');\n",
              "        docLink.innerHTML = docLinkHtml;\n",
              "        element.appendChild(docLink);\n",
              "      }\n",
              "    </script>\n",
              "  </div>\n",
              "\n",
              "\n",
              "<div id=\"df-92ba03a8-8199-478c-a449-946e385b2bf9\">\n",
              "  <button class=\"colab-df-quickchart\" onclick=\"quickchart('df-92ba03a8-8199-478c-a449-946e385b2bf9')\"\n",
              "            title=\"Suggest charts\"\n",
              "            style=\"display:none;\">\n",
              "\n",
              "<svg xmlns=\"http://www.w3.org/2000/svg\" height=\"24px\"viewBox=\"0 0 24 24\"\n",
              "     width=\"24px\">\n",
              "    <g>\n",
              "        <path d=\"M19 3H5c-1.1 0-2 .9-2 2v14c0 1.1.9 2 2 2h14c1.1 0 2-.9 2-2V5c0-1.1-.9-2-2-2zM9 17H7v-7h2v7zm4 0h-2V7h2v10zm4 0h-2v-4h2v4z\"/>\n",
              "    </g>\n",
              "</svg>\n",
              "  </button>\n",
              "\n",
              "<style>\n",
              "  .colab-df-quickchart {\n",
              "      --bg-color: #E8F0FE;\n",
              "      --fill-color: #1967D2;\n",
              "      --hover-bg-color: #E2EBFA;\n",
              "      --hover-fill-color: #174EA6;\n",
              "      --disabled-fill-color: #AAA;\n",
              "      --disabled-bg-color: #DDD;\n",
              "  }\n",
              "\n",
              "  [theme=dark] .colab-df-quickchart {\n",
              "      --bg-color: #3B4455;\n",
              "      --fill-color: #D2E3FC;\n",
              "      --hover-bg-color: #434B5C;\n",
              "      --hover-fill-color: #FFFFFF;\n",
              "      --disabled-bg-color: #3B4455;\n",
              "      --disabled-fill-color: #666;\n",
              "  }\n",
              "\n",
              "  .colab-df-quickchart {\n",
              "    background-color: var(--bg-color);\n",
              "    border: none;\n",
              "    border-radius: 50%;\n",
              "    cursor: pointer;\n",
              "    display: none;\n",
              "    fill: var(--fill-color);\n",
              "    height: 32px;\n",
              "    padding: 0;\n",
              "    width: 32px;\n",
              "  }\n",
              "\n",
              "  .colab-df-quickchart:hover {\n",
              "    background-color: var(--hover-bg-color);\n",
              "    box-shadow: 0 1px 2px rgba(60, 64, 67, 0.3), 0 1px 3px 1px rgba(60, 64, 67, 0.15);\n",
              "    fill: var(--button-hover-fill-color);\n",
              "  }\n",
              "\n",
              "  .colab-df-quickchart-complete:disabled,\n",
              "  .colab-df-quickchart-complete:disabled:hover {\n",
              "    background-color: var(--disabled-bg-color);\n",
              "    fill: var(--disabled-fill-color);\n",
              "    box-shadow: none;\n",
              "  }\n",
              "\n",
              "  .colab-df-spinner {\n",
              "    border: 2px solid var(--fill-color);\n",
              "    border-color: transparent;\n",
              "    border-bottom-color: var(--fill-color);\n",
              "    animation:\n",
              "      spin 1s steps(1) infinite;\n",
              "  }\n",
              "\n",
              "  @keyframes spin {\n",
              "    0% {\n",
              "      border-color: transparent;\n",
              "      border-bottom-color: var(--fill-color);\n",
              "      border-left-color: var(--fill-color);\n",
              "    }\n",
              "    20% {\n",
              "      border-color: transparent;\n",
              "      border-left-color: var(--fill-color);\n",
              "      border-top-color: var(--fill-color);\n",
              "    }\n",
              "    30% {\n",
              "      border-color: transparent;\n",
              "      border-left-color: var(--fill-color);\n",
              "      border-top-color: var(--fill-color);\n",
              "      border-right-color: var(--fill-color);\n",
              "    }\n",
              "    40% {\n",
              "      border-color: transparent;\n",
              "      border-right-color: var(--fill-color);\n",
              "      border-top-color: var(--fill-color);\n",
              "    }\n",
              "    60% {\n",
              "      border-color: transparent;\n",
              "      border-right-color: var(--fill-color);\n",
              "    }\n",
              "    80% {\n",
              "      border-color: transparent;\n",
              "      border-right-color: var(--fill-color);\n",
              "      border-bottom-color: var(--fill-color);\n",
              "    }\n",
              "    90% {\n",
              "      border-color: transparent;\n",
              "      border-bottom-color: var(--fill-color);\n",
              "    }\n",
              "  }\n",
              "</style>\n",
              "\n",
              "  <script>\n",
              "    async function quickchart(key) {\n",
              "      const quickchartButtonEl =\n",
              "        document.querySelector('#' + key + ' button');\n",
              "      quickchartButtonEl.disabled = true;  // To prevent multiple clicks.\n",
              "      quickchartButtonEl.classList.add('colab-df-spinner');\n",
              "      try {\n",
              "        const charts = await google.colab.kernel.invokeFunction(\n",
              "            'suggestCharts', [key], {});\n",
              "      } catch (error) {\n",
              "        console.error('Error during call to suggestCharts:', error);\n",
              "      }\n",
              "      quickchartButtonEl.classList.remove('colab-df-spinner');\n",
              "      quickchartButtonEl.classList.add('colab-df-quickchart-complete');\n",
              "    }\n",
              "    (() => {\n",
              "      let quickchartButtonEl =\n",
              "        document.querySelector('#df-92ba03a8-8199-478c-a449-946e385b2bf9 button');\n",
              "      quickchartButtonEl.style.display =\n",
              "        google.colab.kernel.accessAllowed ? 'block' : 'none';\n",
              "    })();\n",
              "  </script>\n",
              "</div>\n",
              "\n",
              "    </div>\n",
              "  </div>\n"
            ],
            "application/vnd.google.colaboratory.intrinsic+json": {
              "type": "dataframe",
              "variable_name": "data",
              "summary": "{\n  \"name\": \"data\",\n  \"rows\": 693,\n  \"fields\": [\n    {\n      \"column\": \"year\",\n      \"properties\": {\n        \"dtype\": \"number\",\n        \"std\": 15,\n        \"min\": 1955,\n        \"max\": 2005,\n        \"num_unique_values\": 11,\n        \"samples\": [\n          1980,\n          1955,\n          2000\n        ],\n        \"semantic_type\": \"\",\n        \"description\": \"\"\n      }\n    },\n    {\n      \"column\": \"country\",\n      \"properties\": {\n        \"dtype\": \"category\",\n        \"num_unique_values\": 63,\n        \"samples\": [\n          \"United States\",\n          \"Spain\",\n          \"Afghanistan\"\n        ],\n        \"semantic_type\": \"\",\n        \"description\": \"\"\n      }\n    },\n    {\n      \"column\": \"cluster\",\n      \"properties\": {\n        \"dtype\": \"number\",\n        \"std\": 1,\n        \"min\": 0,\n        \"max\": 5,\n        \"num_unique_values\": 6,\n        \"samples\": [\n          0,\n          3,\n          2\n        ],\n        \"semantic_type\": \"\",\n        \"description\": \"\"\n      }\n    },\n    {\n      \"column\": \"pop\",\n      \"properties\": {\n        \"dtype\": \"number\",\n        \"std\": 155301423,\n        \"min\": 53865,\n        \"max\": 1303182268,\n        \"num_unique_values\": 693,\n        \"samples\": [\n          18134702,\n          56314000,\n          52758427\n        ],\n        \"semantic_type\": \"\",\n        \"description\": \"\"\n      }\n    },\n    {\n      \"column\": \"life_expect\",\n      \"properties\": {\n        \"dtype\": \"number\",\n        \"std\": 10.714033098568468,\n        \"min\": 23.599,\n        \"max\": 82.603,\n        \"num_unique_values\": 669,\n        \"samples\": [\n          49.325,\n          63.837,\n          58.299\n        ],\n        \"semantic_type\": \"\",\n        \"description\": \"\"\n      }\n    },\n    {\n      \"column\": \"fertility\",\n      \"properties\": {\n        \"dtype\": \"number\",\n        \"std\": 1.9212342481497304,\n        \"min\": 0.9400000000000001,\n        \"max\": 8.5,\n        \"num_unique_values\": 559,\n        \"samples\": [\n          2.5835,\n          1.8010000000000002,\n          3.16\n        ],\n        \"semantic_type\": \"\",\n        \"description\": \"\"\n      }\n    }\n  ]\n}"
            }
          },
          "metadata": {},
          "execution_count": 2
        }
      ]
    },
    {
      "cell_type": "code",
      "source": [
        "data_2000 = data[data['year'] == 2000]\n",
        "data_2000.head()"
      ],
      "metadata": {
        "id": "3h5Fnnzbtagy",
        "outputId": "6a682e31-5134-43c9-db6b-f2f59dbf7a9f",
        "colab": {
          "base_uri": "https://localhost:8080/",
          "height": 206
        }
      },
      "execution_count": 3,
      "outputs": [
        {
          "output_type": "execute_result",
          "data": {
            "text/plain": [
              "    year      country  cluster       pop  life_expect  fertility\n",
              "9   2000  Afghanistan        0  23898198       42.129     7.4792\n",
              "20  2000    Argentina        3  37497728       74.340     2.3500\n",
              "31  2000        Aruba        3     69539       73.451     2.1240\n",
              "42  2000    Australia        4  19164620       80.370     1.7560\n",
              "53  2000      Austria        1   8113413       78.980     1.3820"
            ],
            "text/html": [
              "\n",
              "  <div id=\"df-e8e0863e-e2a6-4285-9d18-a729c7759f11\" class=\"colab-df-container\">\n",
              "    <div>\n",
              "<style scoped>\n",
              "    .dataframe tbody tr th:only-of-type {\n",
              "        vertical-align: middle;\n",
              "    }\n",
              "\n",
              "    .dataframe tbody tr th {\n",
              "        vertical-align: top;\n",
              "    }\n",
              "\n",
              "    .dataframe thead th {\n",
              "        text-align: right;\n",
              "    }\n",
              "</style>\n",
              "<table border=\"1\" class=\"dataframe\">\n",
              "  <thead>\n",
              "    <tr style=\"text-align: right;\">\n",
              "      <th></th>\n",
              "      <th>year</th>\n",
              "      <th>country</th>\n",
              "      <th>cluster</th>\n",
              "      <th>pop</th>\n",
              "      <th>life_expect</th>\n",
              "      <th>fertility</th>\n",
              "    </tr>\n",
              "  </thead>\n",
              "  <tbody>\n",
              "    <tr>\n",
              "      <th>9</th>\n",
              "      <td>2000</td>\n",
              "      <td>Afghanistan</td>\n",
              "      <td>0</td>\n",
              "      <td>23898198</td>\n",
              "      <td>42.129</td>\n",
              "      <td>7.4792</td>\n",
              "    </tr>\n",
              "    <tr>\n",
              "      <th>20</th>\n",
              "      <td>2000</td>\n",
              "      <td>Argentina</td>\n",
              "      <td>3</td>\n",
              "      <td>37497728</td>\n",
              "      <td>74.340</td>\n",
              "      <td>2.3500</td>\n",
              "    </tr>\n",
              "    <tr>\n",
              "      <th>31</th>\n",
              "      <td>2000</td>\n",
              "      <td>Aruba</td>\n",
              "      <td>3</td>\n",
              "      <td>69539</td>\n",
              "      <td>73.451</td>\n",
              "      <td>2.1240</td>\n",
              "    </tr>\n",
              "    <tr>\n",
              "      <th>42</th>\n",
              "      <td>2000</td>\n",
              "      <td>Australia</td>\n",
              "      <td>4</td>\n",
              "      <td>19164620</td>\n",
              "      <td>80.370</td>\n",
              "      <td>1.7560</td>\n",
              "    </tr>\n",
              "    <tr>\n",
              "      <th>53</th>\n",
              "      <td>2000</td>\n",
              "      <td>Austria</td>\n",
              "      <td>1</td>\n",
              "      <td>8113413</td>\n",
              "      <td>78.980</td>\n",
              "      <td>1.3820</td>\n",
              "    </tr>\n",
              "  </tbody>\n",
              "</table>\n",
              "</div>\n",
              "    <div class=\"colab-df-buttons\">\n",
              "\n",
              "  <div class=\"colab-df-container\">\n",
              "    <button class=\"colab-df-convert\" onclick=\"convertToInteractive('df-e8e0863e-e2a6-4285-9d18-a729c7759f11')\"\n",
              "            title=\"Convert this dataframe to an interactive table.\"\n",
              "            style=\"display:none;\">\n",
              "\n",
              "  <svg xmlns=\"http://www.w3.org/2000/svg\" height=\"24px\" viewBox=\"0 -960 960 960\">\n",
              "    <path d=\"M120-120v-720h720v720H120Zm60-500h600v-160H180v160Zm220 220h160v-160H400v160Zm0 220h160v-160H400v160ZM180-400h160v-160H180v160Zm440 0h160v-160H620v160ZM180-180h160v-160H180v160Zm440 0h160v-160H620v160Z\"/>\n",
              "  </svg>\n",
              "    </button>\n",
              "\n",
              "  <style>\n",
              "    .colab-df-container {\n",
              "      display:flex;\n",
              "      gap: 12px;\n",
              "    }\n",
              "\n",
              "    .colab-df-convert {\n",
              "      background-color: #E8F0FE;\n",
              "      border: none;\n",
              "      border-radius: 50%;\n",
              "      cursor: pointer;\n",
              "      display: none;\n",
              "      fill: #1967D2;\n",
              "      height: 32px;\n",
              "      padding: 0 0 0 0;\n",
              "      width: 32px;\n",
              "    }\n",
              "\n",
              "    .colab-df-convert:hover {\n",
              "      background-color: #E2EBFA;\n",
              "      box-shadow: 0px 1px 2px rgba(60, 64, 67, 0.3), 0px 1px 3px 1px rgba(60, 64, 67, 0.15);\n",
              "      fill: #174EA6;\n",
              "    }\n",
              "\n",
              "    .colab-df-buttons div {\n",
              "      margin-bottom: 4px;\n",
              "    }\n",
              "\n",
              "    [theme=dark] .colab-df-convert {\n",
              "      background-color: #3B4455;\n",
              "      fill: #D2E3FC;\n",
              "    }\n",
              "\n",
              "    [theme=dark] .colab-df-convert:hover {\n",
              "      background-color: #434B5C;\n",
              "      box-shadow: 0px 1px 3px 1px rgba(0, 0, 0, 0.15);\n",
              "      filter: drop-shadow(0px 1px 2px rgba(0, 0, 0, 0.3));\n",
              "      fill: #FFFFFF;\n",
              "    }\n",
              "  </style>\n",
              "\n",
              "    <script>\n",
              "      const buttonEl =\n",
              "        document.querySelector('#df-e8e0863e-e2a6-4285-9d18-a729c7759f11 button.colab-df-convert');\n",
              "      buttonEl.style.display =\n",
              "        google.colab.kernel.accessAllowed ? 'block' : 'none';\n",
              "\n",
              "      async function convertToInteractive(key) {\n",
              "        const element = document.querySelector('#df-e8e0863e-e2a6-4285-9d18-a729c7759f11');\n",
              "        const dataTable =\n",
              "          await google.colab.kernel.invokeFunction('convertToInteractive',\n",
              "                                                    [key], {});\n",
              "        if (!dataTable) return;\n",
              "\n",
              "        const docLinkHtml = 'Like what you see? Visit the ' +\n",
              "          '<a target=\"_blank\" href=https://colab.research.google.com/notebooks/data_table.ipynb>data table notebook</a>'\n",
              "          + ' to learn more about interactive tables.';\n",
              "        element.innerHTML = '';\n",
              "        dataTable['output_type'] = 'display_data';\n",
              "        await google.colab.output.renderOutput(dataTable, element);\n",
              "        const docLink = document.createElement('div');\n",
              "        docLink.innerHTML = docLinkHtml;\n",
              "        element.appendChild(docLink);\n",
              "      }\n",
              "    </script>\n",
              "  </div>\n",
              "\n",
              "\n",
              "<div id=\"df-ec3a377e-7835-4b70-80da-eea3add4c938\">\n",
              "  <button class=\"colab-df-quickchart\" onclick=\"quickchart('df-ec3a377e-7835-4b70-80da-eea3add4c938')\"\n",
              "            title=\"Suggest charts\"\n",
              "            style=\"display:none;\">\n",
              "\n",
              "<svg xmlns=\"http://www.w3.org/2000/svg\" height=\"24px\"viewBox=\"0 0 24 24\"\n",
              "     width=\"24px\">\n",
              "    <g>\n",
              "        <path d=\"M19 3H5c-1.1 0-2 .9-2 2v14c0 1.1.9 2 2 2h14c1.1 0 2-.9 2-2V5c0-1.1-.9-2-2-2zM9 17H7v-7h2v7zm4 0h-2V7h2v10zm4 0h-2v-4h2v4z\"/>\n",
              "    </g>\n",
              "</svg>\n",
              "  </button>\n",
              "\n",
              "<style>\n",
              "  .colab-df-quickchart {\n",
              "      --bg-color: #E8F0FE;\n",
              "      --fill-color: #1967D2;\n",
              "      --hover-bg-color: #E2EBFA;\n",
              "      --hover-fill-color: #174EA6;\n",
              "      --disabled-fill-color: #AAA;\n",
              "      --disabled-bg-color: #DDD;\n",
              "  }\n",
              "\n",
              "  [theme=dark] .colab-df-quickchart {\n",
              "      --bg-color: #3B4455;\n",
              "      --fill-color: #D2E3FC;\n",
              "      --hover-bg-color: #434B5C;\n",
              "      --hover-fill-color: #FFFFFF;\n",
              "      --disabled-bg-color: #3B4455;\n",
              "      --disabled-fill-color: #666;\n",
              "  }\n",
              "\n",
              "  .colab-df-quickchart {\n",
              "    background-color: var(--bg-color);\n",
              "    border: none;\n",
              "    border-radius: 50%;\n",
              "    cursor: pointer;\n",
              "    display: none;\n",
              "    fill: var(--fill-color);\n",
              "    height: 32px;\n",
              "    padding: 0;\n",
              "    width: 32px;\n",
              "  }\n",
              "\n",
              "  .colab-df-quickchart:hover {\n",
              "    background-color: var(--hover-bg-color);\n",
              "    box-shadow: 0 1px 2px rgba(60, 64, 67, 0.3), 0 1px 3px 1px rgba(60, 64, 67, 0.15);\n",
              "    fill: var(--button-hover-fill-color);\n",
              "  }\n",
              "\n",
              "  .colab-df-quickchart-complete:disabled,\n",
              "  .colab-df-quickchart-complete:disabled:hover {\n",
              "    background-color: var(--disabled-bg-color);\n",
              "    fill: var(--disabled-fill-color);\n",
              "    box-shadow: none;\n",
              "  }\n",
              "\n",
              "  .colab-df-spinner {\n",
              "    border: 2px solid var(--fill-color);\n",
              "    border-color: transparent;\n",
              "    border-bottom-color: var(--fill-color);\n",
              "    animation:\n",
              "      spin 1s steps(1) infinite;\n",
              "  }\n",
              "\n",
              "  @keyframes spin {\n",
              "    0% {\n",
              "      border-color: transparent;\n",
              "      border-bottom-color: var(--fill-color);\n",
              "      border-left-color: var(--fill-color);\n",
              "    }\n",
              "    20% {\n",
              "      border-color: transparent;\n",
              "      border-left-color: var(--fill-color);\n",
              "      border-top-color: var(--fill-color);\n",
              "    }\n",
              "    30% {\n",
              "      border-color: transparent;\n",
              "      border-left-color: var(--fill-color);\n",
              "      border-top-color: var(--fill-color);\n",
              "      border-right-color: var(--fill-color);\n",
              "    }\n",
              "    40% {\n",
              "      border-color: transparent;\n",
              "      border-right-color: var(--fill-color);\n",
              "      border-top-color: var(--fill-color);\n",
              "    }\n",
              "    60% {\n",
              "      border-color: transparent;\n",
              "      border-right-color: var(--fill-color);\n",
              "    }\n",
              "    80% {\n",
              "      border-color: transparent;\n",
              "      border-right-color: var(--fill-color);\n",
              "      border-bottom-color: var(--fill-color);\n",
              "    }\n",
              "    90% {\n",
              "      border-color: transparent;\n",
              "      border-bottom-color: var(--fill-color);\n",
              "    }\n",
              "  }\n",
              "</style>\n",
              "\n",
              "  <script>\n",
              "    async function quickchart(key) {\n",
              "      const quickchartButtonEl =\n",
              "        document.querySelector('#' + key + ' button');\n",
              "      quickchartButtonEl.disabled = true;  // To prevent multiple clicks.\n",
              "      quickchartButtonEl.classList.add('colab-df-spinner');\n",
              "      try {\n",
              "        const charts = await google.colab.kernel.invokeFunction(\n",
              "            'suggestCharts', [key], {});\n",
              "      } catch (error) {\n",
              "        console.error('Error during call to suggestCharts:', error);\n",
              "      }\n",
              "      quickchartButtonEl.classList.remove('colab-df-spinner');\n",
              "      quickchartButtonEl.classList.add('colab-df-quickchart-complete');\n",
              "    }\n",
              "    (() => {\n",
              "      let quickchartButtonEl =\n",
              "        document.querySelector('#df-ec3a377e-7835-4b70-80da-eea3add4c938 button');\n",
              "      quickchartButtonEl.style.display =\n",
              "        google.colab.kernel.accessAllowed ? 'block' : 'none';\n",
              "    })();\n",
              "  </script>\n",
              "</div>\n",
              "\n",
              "    </div>\n",
              "  </div>\n"
            ],
            "application/vnd.google.colaboratory.intrinsic+json": {
              "type": "dataframe",
              "variable_name": "data_2000",
              "summary": "{\n  \"name\": \"data_2000\",\n  \"rows\": 63,\n  \"fields\": [\n    {\n      \"column\": \"year\",\n      \"properties\": {\n        \"dtype\": \"number\",\n        \"std\": 0,\n        \"min\": 2000,\n        \"max\": 2000,\n        \"num_unique_values\": 1,\n        \"samples\": [\n          2000\n        ],\n        \"semantic_type\": \"\",\n        \"description\": \"\"\n      }\n    },\n    {\n      \"column\": \"country\",\n      \"properties\": {\n        \"dtype\": \"string\",\n        \"num_unique_values\": 63,\n        \"samples\": [\n          \"United States\"\n        ],\n        \"semantic_type\": \"\",\n        \"description\": \"\"\n      }\n    },\n    {\n      \"column\": \"cluster\",\n      \"properties\": {\n        \"dtype\": \"number\",\n        \"std\": 1,\n        \"min\": 0,\n        \"max\": 5,\n        \"num_unique_values\": 6,\n        \"samples\": [\n          0\n        ],\n        \"semantic_type\": \"\",\n        \"description\": \"\"\n      }\n    },\n    {\n      \"column\": \"pop\",\n      \"properties\": {\n        \"dtype\": \"number\",\n        \"std\": 202281205,\n        \"min\": 69539,\n        \"max\": 1262645000,\n        \"num_unique_values\": 63,\n        \"samples\": [\n          282338631\n        ],\n        \"semantic_type\": \"\",\n        \"description\": \"\"\n      }\n    },\n    {\n      \"column\": \"life_expect\",\n      \"properties\": {\n        \"dtype\": \"number\",\n        \"std\": 9.277080494905743,\n        \"min\": 42.129,\n        \"max\": 82.0,\n        \"num_unique_values\": 63,\n        \"samples\": [\n          77.31\n        ],\n        \"semantic_type\": \"\",\n        \"description\": \"\"\n      }\n    },\n    {\n      \"column\": \"fertility\",\n      \"properties\": {\n        \"dtype\": \"number\",\n        \"std\": 1.2696592682629144,\n        \"min\": 0.9400000000000001,\n        \"max\": 7.4792,\n        \"num_unique_values\": 62,\n        \"samples\": [\n          3.5436\n        ],\n        \"semantic_type\": \"\",\n        \"description\": \"\"\n      }\n    }\n  ]\n}"
            }
          },
          "metadata": {},
          "execution_count": 3
        }
      ]
    },
    {
      "cell_type": "markdown",
      "source": [
        "## **Extra Customizations**\n",
        "\n",
        "For most of these, we'll start with the same base chart."
      ],
      "metadata": {
        "id": "Rj14ap1GtfyZ"
      }
    },
    {
      "cell_type": "code",
      "source": [
        "alt.Chart(data_2000).mark_point().encode(\n",
        "    x = 'fertility:Q',\n",
        "    y = 'life_expect:Q',\n",
        "    color = 'cluster:N',\n",
        "    size = 'pop:Q'\n",
        ")"
      ],
      "metadata": {
        "id": "-ANoTmB9tnU8",
        "outputId": "7cc801ea-cd25-4573-e99f-90edde197059",
        "colab": {
          "base_uri": "https://localhost:8080/",
          "height": 423
        }
      },
      "execution_count": 4,
      "outputs": [
        {
          "output_type": "stream",
          "name": "stderr",
          "text": [
            "/usr/local/lib/python3.10/dist-packages/altair/utils/core.py:384: FutureWarning: the convert_dtype parameter is deprecated and will be removed in a future version.  Do ``ser.astype(object).apply()`` instead if you want ``convert_dtype=False``.\n",
            "  col = df[col_name].apply(to_list_if_array, convert_dtype=False)\n"
          ]
        },
        {
          "output_type": "execute_result",
          "data": {
            "text/html": [
              "\n",
              "<div id=\"altair-viz-86388215ff7d44bbb3ee9bc53970952b\"></div>\n",
              "<script type=\"text/javascript\">\n",
              "  var VEGA_DEBUG = (typeof VEGA_DEBUG == \"undefined\") ? {} : VEGA_DEBUG;\n",
              "  (function(spec, embedOpt){\n",
              "    let outputDiv = document.currentScript.previousElementSibling;\n",
              "    if (outputDiv.id !== \"altair-viz-86388215ff7d44bbb3ee9bc53970952b\") {\n",
              "      outputDiv = document.getElementById(\"altair-viz-86388215ff7d44bbb3ee9bc53970952b\");\n",
              "    }\n",
              "    const paths = {\n",
              "      \"vega\": \"https://cdn.jsdelivr.net/npm//vega@5?noext\",\n",
              "      \"vega-lib\": \"https://cdn.jsdelivr.net/npm//vega-lib?noext\",\n",
              "      \"vega-lite\": \"https://cdn.jsdelivr.net/npm//vega-lite@4.17.0?noext\",\n",
              "      \"vega-embed\": \"https://cdn.jsdelivr.net/npm//vega-embed@6?noext\",\n",
              "    };\n",
              "\n",
              "    function maybeLoadScript(lib, version) {\n",
              "      var key = `${lib.replace(\"-\", \"\")}_version`;\n",
              "      return (VEGA_DEBUG[key] == version) ?\n",
              "        Promise.resolve(paths[lib]) :\n",
              "        new Promise(function(resolve, reject) {\n",
              "          var s = document.createElement('script');\n",
              "          document.getElementsByTagName(\"head\")[0].appendChild(s);\n",
              "          s.async = true;\n",
              "          s.onload = () => {\n",
              "            VEGA_DEBUG[key] = version;\n",
              "            return resolve(paths[lib]);\n",
              "          };\n",
              "          s.onerror = () => reject(`Error loading script: ${paths[lib]}`);\n",
              "          s.src = paths[lib];\n",
              "        });\n",
              "    }\n",
              "\n",
              "    function showError(err) {\n",
              "      outputDiv.innerHTML = `<div class=\"error\" style=\"color:red;\">${err}</div>`;\n",
              "      throw err;\n",
              "    }\n",
              "\n",
              "    function displayChart(vegaEmbed) {\n",
              "      vegaEmbed(outputDiv, spec, embedOpt)\n",
              "        .catch(err => showError(`Javascript Error: ${err.message}<br>This usually means there's a typo in your chart specification. See the javascript console for the full traceback.`));\n",
              "    }\n",
              "\n",
              "    if(typeof define === \"function\" && define.amd) {\n",
              "      requirejs.config({paths});\n",
              "      require([\"vega-embed\"], displayChart, err => showError(`Error loading script: ${err.message}`));\n",
              "    } else {\n",
              "      maybeLoadScript(\"vega\", \"5\")\n",
              "        .then(() => maybeLoadScript(\"vega-lite\", \"4.17.0\"))\n",
              "        .then(() => maybeLoadScript(\"vega-embed\", \"6\"))\n",
              "        .catch(showError)\n",
              "        .then(() => displayChart(vegaEmbed));\n",
              "    }\n",
              "  })({\"config\": {\"view\": {\"continuousWidth\": 400, \"continuousHeight\": 300}}, \"data\": {\"name\": \"data-fdeb0b749a6385830bd1445d39ad6ea0\"}, \"mark\": \"point\", \"encoding\": {\"color\": {\"field\": \"cluster\", \"type\": \"nominal\"}, \"size\": {\"field\": \"pop\", \"type\": \"quantitative\"}, \"x\": {\"field\": \"fertility\", \"type\": \"quantitative\"}, \"y\": {\"field\": \"life_expect\", \"type\": \"quantitative\"}}, \"$schema\": \"https://vega.github.io/schema/vega-lite/v4.17.0.json\", \"datasets\": {\"data-fdeb0b749a6385830bd1445d39ad6ea0\": [{\"year\": 2000, \"country\": \"Afghanistan\", \"cluster\": 0, \"pop\": 23898198, \"life_expect\": 42.129, \"fertility\": 7.4792}, {\"year\": 2000, \"country\": \"Argentina\", \"cluster\": 3, \"pop\": 37497728, \"life_expect\": 74.34, \"fertility\": 2.35}, {\"year\": 2000, \"country\": \"Aruba\", \"cluster\": 3, \"pop\": 69539, \"life_expect\": 73.451, \"fertility\": 2.124}, {\"year\": 2000, \"country\": \"Australia\", \"cluster\": 4, \"pop\": 19164620, \"life_expect\": 80.37, \"fertility\": 1.756}, {\"year\": 2000, \"country\": \"Austria\", \"cluster\": 1, \"pop\": 8113413, \"life_expect\": 78.98, \"fertility\": 1.3820000000000001}, {\"year\": 2000, \"country\": \"Bahamas\", \"cluster\": 3, \"pop\": 290075, \"life_expect\": 71.068, \"fertility\": 2.1111}, {\"year\": 2000, \"country\": \"Bangladesh\", \"cluster\": 0, \"pop\": 130406594, \"life_expect\": 62.013, \"fertility\": 3.224}, {\"year\": 2000, \"country\": \"Barbados\", \"cluster\": 3, \"pop\": 273483, \"life_expect\": 75.97, \"fertility\": 1.5}, {\"year\": 2000, \"country\": \"Belgium\", \"cluster\": 1, \"pop\": 10263618, \"life_expect\": 78.32, \"fertility\": 1.638}, {\"year\": 2000, \"country\": \"Bolivia\", \"cluster\": 3, \"pop\": 8152620, \"life_expect\": 63.883, \"fertility\": 3.9585}, {\"year\": 2000, \"country\": \"Brazil\", \"cluster\": 3, \"pop\": 175552771, \"life_expect\": 71.006, \"fertility\": 2.345}, {\"year\": 2000, \"country\": \"Canada\", \"cluster\": 3, \"pop\": 31278097, \"life_expect\": 79.77, \"fertility\": 1.522}, {\"year\": 2000, \"country\": \"Chile\", \"cluster\": 3, \"pop\": 15153450, \"life_expect\": 77.86, \"fertility\": 2.0}, {\"year\": 2000, \"country\": \"China\", \"cluster\": 4, \"pop\": 1262645000, \"life_expect\": 72.028, \"fertility\": 1.7000000000000002}, {\"year\": 2000, \"country\": \"Colombia\", \"cluster\": 3, \"pop\": 39685655, \"life_expect\": 71.682, \"fertility\": 2.4705}, {\"year\": 2000, \"country\": \"Costa Rica\", \"cluster\": 3, \"pop\": 3710558, \"life_expect\": 78.123, \"fertility\": 2.2815}, {\"year\": 2000, \"country\": \"Croatia\", \"cluster\": 1, \"pop\": 4410830, \"life_expect\": 74.876, \"fertility\": 1.348}, {\"year\": 2000, \"country\": \"Cuba\", \"cluster\": 3, \"pop\": 11134273, \"life_expect\": 77.158, \"fertility\": 1.63}, {\"year\": 2000, \"country\": \"Dominican Republic\", \"cluster\": 3, \"pop\": 8385828, \"life_expect\": 70.847, \"fertility\": 2.95}, {\"year\": 2000, \"country\": \"Ecuador\", \"cluster\": 3, \"pop\": 12505204, \"life_expect\": 74.173, \"fertility\": 2.8175}, {\"year\": 2000, \"country\": \"Egypt\", \"cluster\": 5, \"pop\": 70492342, \"life_expect\": 69.806, \"fertility\": 3.174}, {\"year\": 2000, \"country\": \"El Salvador\", \"cluster\": 3, \"pop\": 6122515, \"life_expect\": 70.734, \"fertility\": 2.883}, {\"year\": 2000, \"country\": \"Finland\", \"cluster\": 1, \"pop\": 5168595, \"life_expect\": 78.37, \"fertility\": 1.754}, {\"year\": 2000, \"country\": \"France\", \"cluster\": 1, \"pop\": 59381628, \"life_expect\": 79.59, \"fertility\": 1.8833000000000002}, {\"year\": 2000, \"country\": \"Georgia\", \"cluster\": 1, \"pop\": 4777209, \"life_expect\": 70.476, \"fertility\": 1.478}, {\"year\": 2000, \"country\": \"Germany\", \"cluster\": 1, \"pop\": 82187909, \"life_expect\": 78.67, \"fertility\": 1.346}, {\"year\": 2000, \"country\": \"Greece\", \"cluster\": 1, \"pop\": 10559110, \"life_expect\": 78.256, \"fertility\": 1.2770000000000001}, {\"year\": 2000, \"country\": \"Grenada\", \"cluster\": 3, \"pop\": 89312, \"life_expect\": 67.746, \"fertility\": 2.429}, {\"year\": 2000, \"country\": \"Haiti\", \"cluster\": 3, \"pop\": 7306302, \"life_expect\": 58.137, \"fertility\": 4.0}, {\"year\": 2000, \"country\": \"Hong Kong\", \"cluster\": 4, \"pop\": 6658720, \"life_expect\": 81.495, \"fertility\": 0.9400000000000001}, {\"year\": 2000, \"country\": \"Iceland\", \"cluster\": 1, \"pop\": 281043, \"life_expect\": 80.5, \"fertility\": 1.9929999999999999}, {\"year\": 2000, \"country\": \"India\", \"cluster\": 0, \"pop\": 1007702000, \"life_expect\": 62.879, \"fertility\": 3.1132}, {\"year\": 2000, \"country\": \"Indonesia\", \"cluster\": 4, \"pop\": 206265000, \"life_expect\": 68.588, \"fertility\": 2.3761}, {\"year\": 2000, \"country\": \"Iran\", \"cluster\": 5, \"pop\": 65660289, \"life_expect\": 69.451, \"fertility\": 2.124}, {\"year\": 2000, \"country\": \"Iraq\", \"cluster\": 5, \"pop\": 22675617, \"life_expect\": 57.046, \"fertility\": 4.858}, {\"year\": 2000, \"country\": \"Ireland\", \"cluster\": 1, \"pop\": 3791690, \"life_expect\": 77.783, \"fertility\": 1.9689999999999999}, {\"year\": 2000, \"country\": \"Israel\", \"cluster\": 5, \"pop\": 5842454, \"life_expect\": 79.696, \"fertility\": 2.906}, {\"year\": 2000, \"country\": \"Italy\", \"cluster\": 1, \"pop\": 57719337, \"life_expect\": 80.24, \"fertility\": 1.286}, {\"year\": 2000, \"country\": \"Jamaica\", \"cluster\": 3, \"pop\": 2615467, \"life_expect\": 72.047, \"fertility\": 2.628}, {\"year\": 2000, \"country\": \"Japan\", \"cluster\": 4, \"pop\": 126699784, \"life_expect\": 82.0, \"fertility\": 1.291}, {\"year\": 2000, \"country\": \"Kenya\", \"cluster\": 2, \"pop\": 29985839, \"life_expect\": 50.992, \"fertility\": 5.0}, {\"year\": 2000, \"country\": \"South Korea\", \"cluster\": 4, \"pop\": 21647682, \"life_expect\": 66.662, \"fertility\": 1.9173}, {\"year\": 2000, \"country\": \"North Korea\", \"cluster\": 4, \"pop\": 47351083, \"life_expect\": 77.045, \"fertility\": 1.242}, {\"year\": 2000, \"country\": \"Lebanon\", \"cluster\": 5, \"pop\": 3578036, \"life_expect\": 71.028, \"fertility\": 2.319}, {\"year\": 2000, \"country\": \"Mexico\", \"cluster\": 3, \"pop\": 99926620, \"life_expect\": 74.902, \"fertility\": 2.4005}, {\"year\": 2000, \"country\": \"Netherlands\", \"cluster\": 1, \"pop\": 15907853, \"life_expect\": 78.53, \"fertility\": 1.726}, {\"year\": 2000, \"country\": \"New Zealand\", \"cluster\": 4, \"pop\": 3819762, \"life_expect\": 79.11, \"fertility\": 1.964}, {\"year\": 2000, \"country\": \"Nigeria\", \"cluster\": 2, \"pop\": 114306700, \"life_expect\": 46.608, \"fertility\": 5.845}, {\"year\": 2000, \"country\": \"Norway\", \"cluster\": 1, \"pop\": 4492400, \"life_expect\": 79.05, \"fertility\": 1.8010000000000002}, {\"year\": 2000, \"country\": \"Pakistan\", \"cluster\": 0, \"pop\": 146342958, \"life_expect\": 63.61, \"fertility\": 3.9936}, {\"year\": 2000, \"country\": \"Peru\", \"cluster\": 3, \"pop\": 25979722, \"life_expect\": 69.906, \"fertility\": 2.7005}, {\"year\": 2000, \"country\": \"Philippines\", \"cluster\": 4, \"pop\": 79739825, \"life_expect\": 70.303, \"fertility\": 3.5436}, {\"year\": 2000, \"country\": \"Poland\", \"cluster\": 1, \"pop\": 38654164, \"life_expect\": 74.67, \"fertility\": 1.251}, {\"year\": 2000, \"country\": \"Portugal\", \"cluster\": 1, \"pop\": 10335597, \"life_expect\": 77.29, \"fertility\": 1.454}, {\"year\": 2000, \"country\": \"Rwanda\", \"cluster\": 2, \"pop\": 7507056, \"life_expect\": 43.413, \"fertility\": 6.01}, {\"year\": 2000, \"country\": \"Saudi Arabia\", \"cluster\": 5, \"pop\": 23153090, \"life_expect\": 71.626, \"fertility\": 3.81}, {\"year\": 2000, \"country\": \"South Africa\", \"cluster\": 2, \"pop\": 44066197, \"life_expect\": 53.365, \"fertility\": 2.802}, {\"year\": 2000, \"country\": \"Spain\", \"cluster\": 1, \"pop\": 40016081, \"life_expect\": 79.78, \"fertility\": 1.287}, {\"year\": 2000, \"country\": \"Switzerland\", \"cluster\": 1, \"pop\": 7266920, \"life_expect\": 80.62, \"fertility\": 1.415}, {\"year\": 2000, \"country\": \"Turkey\", \"cluster\": 1, \"pop\": 65666677, \"life_expect\": 70.845, \"fertility\": 2.23}, {\"year\": 2000, \"country\": \"United Kingdom\", \"cluster\": 1, \"pop\": 59522468, \"life_expect\": 78.471, \"fertility\": 1.695}, {\"year\": 2000, \"country\": \"United States\", \"cluster\": 3, \"pop\": 282338631, \"life_expect\": 77.31, \"fertility\": 2.038}, {\"year\": 2000, \"country\": \"Venezuela\", \"cluster\": 3, \"pop\": 23542649, \"life_expect\": 72.766, \"fertility\": 2.723}]}}, {\"mode\": \"vega-lite\"});\n",
              "</script>"
            ],
            "text/plain": [
              "alt.Chart(...)"
            ]
          },
          "metadata": {},
          "execution_count": 4
        }
      ]
    },
    {
      "cell_type": "markdown",
      "source": [
        "The first customization we'll do is to remove the gridlines from the chart. This is done setting the `grid` property to `False` within the `axis` argument for both the `x` and `y` encodings, providing a way to customize how the axis is displayed.\n",
        "\n",
        "Learn more information about [`altair.Axis`](https://altair-viz.github.io/user_guide/generated/core/altair.Axis.html#altair.Axis) and [altair.X](https://altair-viz.github.io/user_guide/generated/channels/altair.X.html)."
      ],
      "metadata": {
        "id": "QO_8uTLLt548"
      }
    },
    {
      "cell_type": "code",
      "source": [
        "alt.Chart(data_2000).mark_point().encode(\n",
        "    x = alt.X('fertility:Q', axis = alt.Axis(grid = False)),\n",
        "    y = alt.Y('life_expect:Q', axis = alt.Axis(grid = False)),\n",
        "    color = 'cluster:N',\n",
        "    size = 'pop:Q'\n",
        ")"
      ],
      "metadata": {
        "id": "tLd7miEet6lD",
        "outputId": "606ca352-1c3a-4f26-ee1b-5d6d03daef0b",
        "colab": {
          "base_uri": "https://localhost:8080/",
          "height": 423
        }
      },
      "execution_count": 5,
      "outputs": [
        {
          "output_type": "stream",
          "name": "stderr",
          "text": [
            "/usr/local/lib/python3.10/dist-packages/altair/utils/core.py:384: FutureWarning: the convert_dtype parameter is deprecated and will be removed in a future version.  Do ``ser.astype(object).apply()`` instead if you want ``convert_dtype=False``.\n",
            "  col = df[col_name].apply(to_list_if_array, convert_dtype=False)\n"
          ]
        },
        {
          "output_type": "execute_result",
          "data": {
            "text/html": [
              "\n",
              "<div id=\"altair-viz-c79a58562c06402e9c74711e56aab185\"></div>\n",
              "<script type=\"text/javascript\">\n",
              "  var VEGA_DEBUG = (typeof VEGA_DEBUG == \"undefined\") ? {} : VEGA_DEBUG;\n",
              "  (function(spec, embedOpt){\n",
              "    let outputDiv = document.currentScript.previousElementSibling;\n",
              "    if (outputDiv.id !== \"altair-viz-c79a58562c06402e9c74711e56aab185\") {\n",
              "      outputDiv = document.getElementById(\"altair-viz-c79a58562c06402e9c74711e56aab185\");\n",
              "    }\n",
              "    const paths = {\n",
              "      \"vega\": \"https://cdn.jsdelivr.net/npm//vega@5?noext\",\n",
              "      \"vega-lib\": \"https://cdn.jsdelivr.net/npm//vega-lib?noext\",\n",
              "      \"vega-lite\": \"https://cdn.jsdelivr.net/npm//vega-lite@4.17.0?noext\",\n",
              "      \"vega-embed\": \"https://cdn.jsdelivr.net/npm//vega-embed@6?noext\",\n",
              "    };\n",
              "\n",
              "    function maybeLoadScript(lib, version) {\n",
              "      var key = `${lib.replace(\"-\", \"\")}_version`;\n",
              "      return (VEGA_DEBUG[key] == version) ?\n",
              "        Promise.resolve(paths[lib]) :\n",
              "        new Promise(function(resolve, reject) {\n",
              "          var s = document.createElement('script');\n",
              "          document.getElementsByTagName(\"head\")[0].appendChild(s);\n",
              "          s.async = true;\n",
              "          s.onload = () => {\n",
              "            VEGA_DEBUG[key] = version;\n",
              "            return resolve(paths[lib]);\n",
              "          };\n",
              "          s.onerror = () => reject(`Error loading script: ${paths[lib]}`);\n",
              "          s.src = paths[lib];\n",
              "        });\n",
              "    }\n",
              "\n",
              "    function showError(err) {\n",
              "      outputDiv.innerHTML = `<div class=\"error\" style=\"color:red;\">${err}</div>`;\n",
              "      throw err;\n",
              "    }\n",
              "\n",
              "    function displayChart(vegaEmbed) {\n",
              "      vegaEmbed(outputDiv, spec, embedOpt)\n",
              "        .catch(err => showError(`Javascript Error: ${err.message}<br>This usually means there's a typo in your chart specification. See the javascript console for the full traceback.`));\n",
              "    }\n",
              "\n",
              "    if(typeof define === \"function\" && define.amd) {\n",
              "      requirejs.config({paths});\n",
              "      require([\"vega-embed\"], displayChart, err => showError(`Error loading script: ${err.message}`));\n",
              "    } else {\n",
              "      maybeLoadScript(\"vega\", \"5\")\n",
              "        .then(() => maybeLoadScript(\"vega-lite\", \"4.17.0\"))\n",
              "        .then(() => maybeLoadScript(\"vega-embed\", \"6\"))\n",
              "        .catch(showError)\n",
              "        .then(() => displayChart(vegaEmbed));\n",
              "    }\n",
              "  })({\"config\": {\"view\": {\"continuousWidth\": 400, \"continuousHeight\": 300}}, \"data\": {\"name\": \"data-fdeb0b749a6385830bd1445d39ad6ea0\"}, \"mark\": \"point\", \"encoding\": {\"color\": {\"field\": \"cluster\", \"type\": \"nominal\"}, \"size\": {\"field\": \"pop\", \"type\": \"quantitative\"}, \"x\": {\"axis\": {\"grid\": false}, \"field\": \"fertility\", \"type\": \"quantitative\"}, \"y\": {\"axis\": {\"grid\": false}, \"field\": \"life_expect\", \"type\": \"quantitative\"}}, \"$schema\": \"https://vega.github.io/schema/vega-lite/v4.17.0.json\", \"datasets\": {\"data-fdeb0b749a6385830bd1445d39ad6ea0\": [{\"year\": 2000, \"country\": \"Afghanistan\", \"cluster\": 0, \"pop\": 23898198, \"life_expect\": 42.129, \"fertility\": 7.4792}, {\"year\": 2000, \"country\": \"Argentina\", \"cluster\": 3, \"pop\": 37497728, \"life_expect\": 74.34, \"fertility\": 2.35}, {\"year\": 2000, \"country\": \"Aruba\", \"cluster\": 3, \"pop\": 69539, \"life_expect\": 73.451, \"fertility\": 2.124}, {\"year\": 2000, \"country\": \"Australia\", \"cluster\": 4, \"pop\": 19164620, \"life_expect\": 80.37, \"fertility\": 1.756}, {\"year\": 2000, \"country\": \"Austria\", \"cluster\": 1, \"pop\": 8113413, \"life_expect\": 78.98, \"fertility\": 1.3820000000000001}, {\"year\": 2000, \"country\": \"Bahamas\", \"cluster\": 3, \"pop\": 290075, \"life_expect\": 71.068, \"fertility\": 2.1111}, {\"year\": 2000, \"country\": \"Bangladesh\", \"cluster\": 0, \"pop\": 130406594, \"life_expect\": 62.013, \"fertility\": 3.224}, {\"year\": 2000, \"country\": \"Barbados\", \"cluster\": 3, \"pop\": 273483, \"life_expect\": 75.97, \"fertility\": 1.5}, {\"year\": 2000, \"country\": \"Belgium\", \"cluster\": 1, \"pop\": 10263618, \"life_expect\": 78.32, \"fertility\": 1.638}, {\"year\": 2000, \"country\": \"Bolivia\", \"cluster\": 3, \"pop\": 8152620, \"life_expect\": 63.883, \"fertility\": 3.9585}, {\"year\": 2000, \"country\": \"Brazil\", \"cluster\": 3, \"pop\": 175552771, \"life_expect\": 71.006, \"fertility\": 2.345}, {\"year\": 2000, \"country\": \"Canada\", \"cluster\": 3, \"pop\": 31278097, \"life_expect\": 79.77, \"fertility\": 1.522}, {\"year\": 2000, \"country\": \"Chile\", \"cluster\": 3, \"pop\": 15153450, \"life_expect\": 77.86, \"fertility\": 2.0}, {\"year\": 2000, \"country\": \"China\", \"cluster\": 4, \"pop\": 1262645000, \"life_expect\": 72.028, \"fertility\": 1.7000000000000002}, {\"year\": 2000, \"country\": \"Colombia\", \"cluster\": 3, \"pop\": 39685655, \"life_expect\": 71.682, \"fertility\": 2.4705}, {\"year\": 2000, \"country\": \"Costa Rica\", \"cluster\": 3, \"pop\": 3710558, \"life_expect\": 78.123, \"fertility\": 2.2815}, {\"year\": 2000, \"country\": \"Croatia\", \"cluster\": 1, \"pop\": 4410830, \"life_expect\": 74.876, \"fertility\": 1.348}, {\"year\": 2000, \"country\": \"Cuba\", \"cluster\": 3, \"pop\": 11134273, \"life_expect\": 77.158, \"fertility\": 1.63}, {\"year\": 2000, \"country\": \"Dominican Republic\", \"cluster\": 3, \"pop\": 8385828, \"life_expect\": 70.847, \"fertility\": 2.95}, {\"year\": 2000, \"country\": \"Ecuador\", \"cluster\": 3, \"pop\": 12505204, \"life_expect\": 74.173, \"fertility\": 2.8175}, {\"year\": 2000, \"country\": \"Egypt\", \"cluster\": 5, \"pop\": 70492342, \"life_expect\": 69.806, \"fertility\": 3.174}, {\"year\": 2000, \"country\": \"El Salvador\", \"cluster\": 3, \"pop\": 6122515, \"life_expect\": 70.734, \"fertility\": 2.883}, {\"year\": 2000, \"country\": \"Finland\", \"cluster\": 1, \"pop\": 5168595, \"life_expect\": 78.37, \"fertility\": 1.754}, {\"year\": 2000, \"country\": \"France\", \"cluster\": 1, \"pop\": 59381628, \"life_expect\": 79.59, \"fertility\": 1.8833000000000002}, {\"year\": 2000, \"country\": \"Georgia\", \"cluster\": 1, \"pop\": 4777209, \"life_expect\": 70.476, \"fertility\": 1.478}, {\"year\": 2000, \"country\": \"Germany\", \"cluster\": 1, \"pop\": 82187909, \"life_expect\": 78.67, \"fertility\": 1.346}, {\"year\": 2000, \"country\": \"Greece\", \"cluster\": 1, \"pop\": 10559110, \"life_expect\": 78.256, \"fertility\": 1.2770000000000001}, {\"year\": 2000, \"country\": \"Grenada\", \"cluster\": 3, \"pop\": 89312, \"life_expect\": 67.746, \"fertility\": 2.429}, {\"year\": 2000, \"country\": \"Haiti\", \"cluster\": 3, \"pop\": 7306302, \"life_expect\": 58.137, \"fertility\": 4.0}, {\"year\": 2000, \"country\": \"Hong Kong\", \"cluster\": 4, \"pop\": 6658720, \"life_expect\": 81.495, \"fertility\": 0.9400000000000001}, {\"year\": 2000, \"country\": \"Iceland\", \"cluster\": 1, \"pop\": 281043, \"life_expect\": 80.5, \"fertility\": 1.9929999999999999}, {\"year\": 2000, \"country\": \"India\", \"cluster\": 0, \"pop\": 1007702000, \"life_expect\": 62.879, \"fertility\": 3.1132}, {\"year\": 2000, \"country\": \"Indonesia\", \"cluster\": 4, \"pop\": 206265000, \"life_expect\": 68.588, \"fertility\": 2.3761}, {\"year\": 2000, \"country\": \"Iran\", \"cluster\": 5, \"pop\": 65660289, \"life_expect\": 69.451, \"fertility\": 2.124}, {\"year\": 2000, \"country\": \"Iraq\", \"cluster\": 5, \"pop\": 22675617, \"life_expect\": 57.046, \"fertility\": 4.858}, {\"year\": 2000, \"country\": \"Ireland\", \"cluster\": 1, \"pop\": 3791690, \"life_expect\": 77.783, \"fertility\": 1.9689999999999999}, {\"year\": 2000, \"country\": \"Israel\", \"cluster\": 5, \"pop\": 5842454, \"life_expect\": 79.696, \"fertility\": 2.906}, {\"year\": 2000, \"country\": \"Italy\", \"cluster\": 1, \"pop\": 57719337, \"life_expect\": 80.24, \"fertility\": 1.286}, {\"year\": 2000, \"country\": \"Jamaica\", \"cluster\": 3, \"pop\": 2615467, \"life_expect\": 72.047, \"fertility\": 2.628}, {\"year\": 2000, \"country\": \"Japan\", \"cluster\": 4, \"pop\": 126699784, \"life_expect\": 82.0, \"fertility\": 1.291}, {\"year\": 2000, \"country\": \"Kenya\", \"cluster\": 2, \"pop\": 29985839, \"life_expect\": 50.992, \"fertility\": 5.0}, {\"year\": 2000, \"country\": \"South Korea\", \"cluster\": 4, \"pop\": 21647682, \"life_expect\": 66.662, \"fertility\": 1.9173}, {\"year\": 2000, \"country\": \"North Korea\", \"cluster\": 4, \"pop\": 47351083, \"life_expect\": 77.045, \"fertility\": 1.242}, {\"year\": 2000, \"country\": \"Lebanon\", \"cluster\": 5, \"pop\": 3578036, \"life_expect\": 71.028, \"fertility\": 2.319}, {\"year\": 2000, \"country\": \"Mexico\", \"cluster\": 3, \"pop\": 99926620, \"life_expect\": 74.902, \"fertility\": 2.4005}, {\"year\": 2000, \"country\": \"Netherlands\", \"cluster\": 1, \"pop\": 15907853, \"life_expect\": 78.53, \"fertility\": 1.726}, {\"year\": 2000, \"country\": \"New Zealand\", \"cluster\": 4, \"pop\": 3819762, \"life_expect\": 79.11, \"fertility\": 1.964}, {\"year\": 2000, \"country\": \"Nigeria\", \"cluster\": 2, \"pop\": 114306700, \"life_expect\": 46.608, \"fertility\": 5.845}, {\"year\": 2000, \"country\": \"Norway\", \"cluster\": 1, \"pop\": 4492400, \"life_expect\": 79.05, \"fertility\": 1.8010000000000002}, {\"year\": 2000, \"country\": \"Pakistan\", \"cluster\": 0, \"pop\": 146342958, \"life_expect\": 63.61, \"fertility\": 3.9936}, {\"year\": 2000, \"country\": \"Peru\", \"cluster\": 3, \"pop\": 25979722, \"life_expect\": 69.906, \"fertility\": 2.7005}, {\"year\": 2000, \"country\": \"Philippines\", \"cluster\": 4, \"pop\": 79739825, \"life_expect\": 70.303, \"fertility\": 3.5436}, {\"year\": 2000, \"country\": \"Poland\", \"cluster\": 1, \"pop\": 38654164, \"life_expect\": 74.67, \"fertility\": 1.251}, {\"year\": 2000, \"country\": \"Portugal\", \"cluster\": 1, \"pop\": 10335597, \"life_expect\": 77.29, \"fertility\": 1.454}, {\"year\": 2000, \"country\": \"Rwanda\", \"cluster\": 2, \"pop\": 7507056, \"life_expect\": 43.413, \"fertility\": 6.01}, {\"year\": 2000, \"country\": \"Saudi Arabia\", \"cluster\": 5, \"pop\": 23153090, \"life_expect\": 71.626, \"fertility\": 3.81}, {\"year\": 2000, \"country\": \"South Africa\", \"cluster\": 2, \"pop\": 44066197, \"life_expect\": 53.365, \"fertility\": 2.802}, {\"year\": 2000, \"country\": \"Spain\", \"cluster\": 1, \"pop\": 40016081, \"life_expect\": 79.78, \"fertility\": 1.287}, {\"year\": 2000, \"country\": \"Switzerland\", \"cluster\": 1, \"pop\": 7266920, \"life_expect\": 80.62, \"fertility\": 1.415}, {\"year\": 2000, \"country\": \"Turkey\", \"cluster\": 1, \"pop\": 65666677, \"life_expect\": 70.845, \"fertility\": 2.23}, {\"year\": 2000, \"country\": \"United Kingdom\", \"cluster\": 1, \"pop\": 59522468, \"life_expect\": 78.471, \"fertility\": 1.695}, {\"year\": 2000, \"country\": \"United States\", \"cluster\": 3, \"pop\": 282338631, \"life_expect\": 77.31, \"fertility\": 2.038}, {\"year\": 2000, \"country\": \"Venezuela\", \"cluster\": 3, \"pop\": 23542649, \"life_expect\": 72.766, \"fertility\": 2.723}]}}, {\"mode\": \"vega-lite\"});\n",
              "</script>"
            ],
            "text/plain": [
              "alt.Chart(...)"
            ]
          },
          "metadata": {},
          "execution_count": 5
        }
      ]
    },
    {
      "cell_type": "markdown",
      "source": [
        "There are several ways to change the appearance of your axes by utilizing `altair.Axis` and modifying its many parameters. View the [documentation](https://altair-viz.github.io/user_guide/generated/core/altair.Axis.html#altair.Axis) for more information.\n",
        "\n",
        "(Note: In the following cells, I'll be using the `()` notation so we can add line breaks.)"
      ],
      "metadata": {
        "id": "JQZpSkVozO0X"
      }
    },
    {
      "cell_type": "code",
      "source": [
        "(\n",
        "  alt.Chart(data_2000).mark_point().encode(\n",
        "    x = alt.X('fertility:Q',\n",
        "              axis = alt.Axis(grid = False, tickSize = 20, tickWidth = 5,\n",
        "                              labelAngle = 45, labelColor = \"blue\",\n",
        "                              labelFontSize = 20)),\n",
        "    y = alt.Y('life_expect:Q', axis = alt.Axis(grid = False)),\n",
        "    color = 'cluster:N',\n",
        "    size = 'pop:Q'\n",
        "  )\n",
        ")"
      ],
      "metadata": {
        "id": "zlV6kfpVxu_F",
        "outputId": "08c1e450-e0ee-4be6-863f-4277e28f91eb",
        "colab": {
          "base_uri": "https://localhost:8080/",
          "height": 451
        }
      },
      "execution_count": 6,
      "outputs": [
        {
          "output_type": "stream",
          "name": "stderr",
          "text": [
            "/usr/local/lib/python3.10/dist-packages/altair/utils/core.py:384: FutureWarning: the convert_dtype parameter is deprecated and will be removed in a future version.  Do ``ser.astype(object).apply()`` instead if you want ``convert_dtype=False``.\n",
            "  col = df[col_name].apply(to_list_if_array, convert_dtype=False)\n"
          ]
        },
        {
          "output_type": "execute_result",
          "data": {
            "text/html": [
              "\n",
              "<div id=\"altair-viz-86f06c945433467680d828559ec68bff\"></div>\n",
              "<script type=\"text/javascript\">\n",
              "  var VEGA_DEBUG = (typeof VEGA_DEBUG == \"undefined\") ? {} : VEGA_DEBUG;\n",
              "  (function(spec, embedOpt){\n",
              "    let outputDiv = document.currentScript.previousElementSibling;\n",
              "    if (outputDiv.id !== \"altair-viz-86f06c945433467680d828559ec68bff\") {\n",
              "      outputDiv = document.getElementById(\"altair-viz-86f06c945433467680d828559ec68bff\");\n",
              "    }\n",
              "    const paths = {\n",
              "      \"vega\": \"https://cdn.jsdelivr.net/npm//vega@5?noext\",\n",
              "      \"vega-lib\": \"https://cdn.jsdelivr.net/npm//vega-lib?noext\",\n",
              "      \"vega-lite\": \"https://cdn.jsdelivr.net/npm//vega-lite@4.17.0?noext\",\n",
              "      \"vega-embed\": \"https://cdn.jsdelivr.net/npm//vega-embed@6?noext\",\n",
              "    };\n",
              "\n",
              "    function maybeLoadScript(lib, version) {\n",
              "      var key = `${lib.replace(\"-\", \"\")}_version`;\n",
              "      return (VEGA_DEBUG[key] == version) ?\n",
              "        Promise.resolve(paths[lib]) :\n",
              "        new Promise(function(resolve, reject) {\n",
              "          var s = document.createElement('script');\n",
              "          document.getElementsByTagName(\"head\")[0].appendChild(s);\n",
              "          s.async = true;\n",
              "          s.onload = () => {\n",
              "            VEGA_DEBUG[key] = version;\n",
              "            return resolve(paths[lib]);\n",
              "          };\n",
              "          s.onerror = () => reject(`Error loading script: ${paths[lib]}`);\n",
              "          s.src = paths[lib];\n",
              "        });\n",
              "    }\n",
              "\n",
              "    function showError(err) {\n",
              "      outputDiv.innerHTML = `<div class=\"error\" style=\"color:red;\">${err}</div>`;\n",
              "      throw err;\n",
              "    }\n",
              "\n",
              "    function displayChart(vegaEmbed) {\n",
              "      vegaEmbed(outputDiv, spec, embedOpt)\n",
              "        .catch(err => showError(`Javascript Error: ${err.message}<br>This usually means there's a typo in your chart specification. See the javascript console for the full traceback.`));\n",
              "    }\n",
              "\n",
              "    if(typeof define === \"function\" && define.amd) {\n",
              "      requirejs.config({paths});\n",
              "      require([\"vega-embed\"], displayChart, err => showError(`Error loading script: ${err.message}`));\n",
              "    } else {\n",
              "      maybeLoadScript(\"vega\", \"5\")\n",
              "        .then(() => maybeLoadScript(\"vega-lite\", \"4.17.0\"))\n",
              "        .then(() => maybeLoadScript(\"vega-embed\", \"6\"))\n",
              "        .catch(showError)\n",
              "        .then(() => displayChart(vegaEmbed));\n",
              "    }\n",
              "  })({\"config\": {\"view\": {\"continuousWidth\": 400, \"continuousHeight\": 300}}, \"data\": {\"name\": \"data-fdeb0b749a6385830bd1445d39ad6ea0\"}, \"mark\": \"point\", \"encoding\": {\"color\": {\"field\": \"cluster\", \"type\": \"nominal\"}, \"size\": {\"field\": \"pop\", \"type\": \"quantitative\"}, \"x\": {\"axis\": {\"grid\": false, \"labelAngle\": 45, \"labelColor\": \"blue\", \"labelFontSize\": 20, \"tickSize\": 20, \"tickWidth\": 5}, \"field\": \"fertility\", \"type\": \"quantitative\"}, \"y\": {\"axis\": {\"grid\": false}, \"field\": \"life_expect\", \"type\": \"quantitative\"}}, \"$schema\": \"https://vega.github.io/schema/vega-lite/v4.17.0.json\", \"datasets\": {\"data-fdeb0b749a6385830bd1445d39ad6ea0\": [{\"year\": 2000, \"country\": \"Afghanistan\", \"cluster\": 0, \"pop\": 23898198, \"life_expect\": 42.129, \"fertility\": 7.4792}, {\"year\": 2000, \"country\": \"Argentina\", \"cluster\": 3, \"pop\": 37497728, \"life_expect\": 74.34, \"fertility\": 2.35}, {\"year\": 2000, \"country\": \"Aruba\", \"cluster\": 3, \"pop\": 69539, \"life_expect\": 73.451, \"fertility\": 2.124}, {\"year\": 2000, \"country\": \"Australia\", \"cluster\": 4, \"pop\": 19164620, \"life_expect\": 80.37, \"fertility\": 1.756}, {\"year\": 2000, \"country\": \"Austria\", \"cluster\": 1, \"pop\": 8113413, \"life_expect\": 78.98, \"fertility\": 1.3820000000000001}, {\"year\": 2000, \"country\": \"Bahamas\", \"cluster\": 3, \"pop\": 290075, \"life_expect\": 71.068, \"fertility\": 2.1111}, {\"year\": 2000, \"country\": \"Bangladesh\", \"cluster\": 0, \"pop\": 130406594, \"life_expect\": 62.013, \"fertility\": 3.224}, {\"year\": 2000, \"country\": \"Barbados\", \"cluster\": 3, \"pop\": 273483, \"life_expect\": 75.97, \"fertility\": 1.5}, {\"year\": 2000, \"country\": \"Belgium\", \"cluster\": 1, \"pop\": 10263618, \"life_expect\": 78.32, \"fertility\": 1.638}, {\"year\": 2000, \"country\": \"Bolivia\", \"cluster\": 3, \"pop\": 8152620, \"life_expect\": 63.883, \"fertility\": 3.9585}, {\"year\": 2000, \"country\": \"Brazil\", \"cluster\": 3, \"pop\": 175552771, \"life_expect\": 71.006, \"fertility\": 2.345}, {\"year\": 2000, \"country\": \"Canada\", \"cluster\": 3, \"pop\": 31278097, \"life_expect\": 79.77, \"fertility\": 1.522}, {\"year\": 2000, \"country\": \"Chile\", \"cluster\": 3, \"pop\": 15153450, \"life_expect\": 77.86, \"fertility\": 2.0}, {\"year\": 2000, \"country\": \"China\", \"cluster\": 4, \"pop\": 1262645000, \"life_expect\": 72.028, \"fertility\": 1.7000000000000002}, {\"year\": 2000, \"country\": \"Colombia\", \"cluster\": 3, \"pop\": 39685655, \"life_expect\": 71.682, \"fertility\": 2.4705}, {\"year\": 2000, \"country\": \"Costa Rica\", \"cluster\": 3, \"pop\": 3710558, \"life_expect\": 78.123, \"fertility\": 2.2815}, {\"year\": 2000, \"country\": \"Croatia\", \"cluster\": 1, \"pop\": 4410830, \"life_expect\": 74.876, \"fertility\": 1.348}, {\"year\": 2000, \"country\": \"Cuba\", \"cluster\": 3, \"pop\": 11134273, \"life_expect\": 77.158, \"fertility\": 1.63}, {\"year\": 2000, \"country\": \"Dominican Republic\", \"cluster\": 3, \"pop\": 8385828, \"life_expect\": 70.847, \"fertility\": 2.95}, {\"year\": 2000, \"country\": \"Ecuador\", \"cluster\": 3, \"pop\": 12505204, \"life_expect\": 74.173, \"fertility\": 2.8175}, {\"year\": 2000, \"country\": \"Egypt\", \"cluster\": 5, \"pop\": 70492342, \"life_expect\": 69.806, \"fertility\": 3.174}, {\"year\": 2000, \"country\": \"El Salvador\", \"cluster\": 3, \"pop\": 6122515, \"life_expect\": 70.734, \"fertility\": 2.883}, {\"year\": 2000, \"country\": \"Finland\", \"cluster\": 1, \"pop\": 5168595, \"life_expect\": 78.37, \"fertility\": 1.754}, {\"year\": 2000, \"country\": \"France\", \"cluster\": 1, \"pop\": 59381628, \"life_expect\": 79.59, \"fertility\": 1.8833000000000002}, {\"year\": 2000, \"country\": \"Georgia\", \"cluster\": 1, \"pop\": 4777209, \"life_expect\": 70.476, \"fertility\": 1.478}, {\"year\": 2000, \"country\": \"Germany\", \"cluster\": 1, \"pop\": 82187909, \"life_expect\": 78.67, \"fertility\": 1.346}, {\"year\": 2000, \"country\": \"Greece\", \"cluster\": 1, \"pop\": 10559110, \"life_expect\": 78.256, \"fertility\": 1.2770000000000001}, {\"year\": 2000, \"country\": \"Grenada\", \"cluster\": 3, \"pop\": 89312, \"life_expect\": 67.746, \"fertility\": 2.429}, {\"year\": 2000, \"country\": \"Haiti\", \"cluster\": 3, \"pop\": 7306302, \"life_expect\": 58.137, \"fertility\": 4.0}, {\"year\": 2000, \"country\": \"Hong Kong\", \"cluster\": 4, \"pop\": 6658720, \"life_expect\": 81.495, \"fertility\": 0.9400000000000001}, {\"year\": 2000, \"country\": \"Iceland\", \"cluster\": 1, \"pop\": 281043, \"life_expect\": 80.5, \"fertility\": 1.9929999999999999}, {\"year\": 2000, \"country\": \"India\", \"cluster\": 0, \"pop\": 1007702000, \"life_expect\": 62.879, \"fertility\": 3.1132}, {\"year\": 2000, \"country\": \"Indonesia\", \"cluster\": 4, \"pop\": 206265000, \"life_expect\": 68.588, \"fertility\": 2.3761}, {\"year\": 2000, \"country\": \"Iran\", \"cluster\": 5, \"pop\": 65660289, \"life_expect\": 69.451, \"fertility\": 2.124}, {\"year\": 2000, \"country\": \"Iraq\", \"cluster\": 5, \"pop\": 22675617, \"life_expect\": 57.046, \"fertility\": 4.858}, {\"year\": 2000, \"country\": \"Ireland\", \"cluster\": 1, \"pop\": 3791690, \"life_expect\": 77.783, \"fertility\": 1.9689999999999999}, {\"year\": 2000, \"country\": \"Israel\", \"cluster\": 5, \"pop\": 5842454, \"life_expect\": 79.696, \"fertility\": 2.906}, {\"year\": 2000, \"country\": \"Italy\", \"cluster\": 1, \"pop\": 57719337, \"life_expect\": 80.24, \"fertility\": 1.286}, {\"year\": 2000, \"country\": \"Jamaica\", \"cluster\": 3, \"pop\": 2615467, \"life_expect\": 72.047, \"fertility\": 2.628}, {\"year\": 2000, \"country\": \"Japan\", \"cluster\": 4, \"pop\": 126699784, \"life_expect\": 82.0, \"fertility\": 1.291}, {\"year\": 2000, \"country\": \"Kenya\", \"cluster\": 2, \"pop\": 29985839, \"life_expect\": 50.992, \"fertility\": 5.0}, {\"year\": 2000, \"country\": \"South Korea\", \"cluster\": 4, \"pop\": 21647682, \"life_expect\": 66.662, \"fertility\": 1.9173}, {\"year\": 2000, \"country\": \"North Korea\", \"cluster\": 4, \"pop\": 47351083, \"life_expect\": 77.045, \"fertility\": 1.242}, {\"year\": 2000, \"country\": \"Lebanon\", \"cluster\": 5, \"pop\": 3578036, \"life_expect\": 71.028, \"fertility\": 2.319}, {\"year\": 2000, \"country\": \"Mexico\", \"cluster\": 3, \"pop\": 99926620, \"life_expect\": 74.902, \"fertility\": 2.4005}, {\"year\": 2000, \"country\": \"Netherlands\", \"cluster\": 1, \"pop\": 15907853, \"life_expect\": 78.53, \"fertility\": 1.726}, {\"year\": 2000, \"country\": \"New Zealand\", \"cluster\": 4, \"pop\": 3819762, \"life_expect\": 79.11, \"fertility\": 1.964}, {\"year\": 2000, \"country\": \"Nigeria\", \"cluster\": 2, \"pop\": 114306700, \"life_expect\": 46.608, \"fertility\": 5.845}, {\"year\": 2000, \"country\": \"Norway\", \"cluster\": 1, \"pop\": 4492400, \"life_expect\": 79.05, \"fertility\": 1.8010000000000002}, {\"year\": 2000, \"country\": \"Pakistan\", \"cluster\": 0, \"pop\": 146342958, \"life_expect\": 63.61, \"fertility\": 3.9936}, {\"year\": 2000, \"country\": \"Peru\", \"cluster\": 3, \"pop\": 25979722, \"life_expect\": 69.906, \"fertility\": 2.7005}, {\"year\": 2000, \"country\": \"Philippines\", \"cluster\": 4, \"pop\": 79739825, \"life_expect\": 70.303, \"fertility\": 3.5436}, {\"year\": 2000, \"country\": \"Poland\", \"cluster\": 1, \"pop\": 38654164, \"life_expect\": 74.67, \"fertility\": 1.251}, {\"year\": 2000, \"country\": \"Portugal\", \"cluster\": 1, \"pop\": 10335597, \"life_expect\": 77.29, \"fertility\": 1.454}, {\"year\": 2000, \"country\": \"Rwanda\", \"cluster\": 2, \"pop\": 7507056, \"life_expect\": 43.413, \"fertility\": 6.01}, {\"year\": 2000, \"country\": \"Saudi Arabia\", \"cluster\": 5, \"pop\": 23153090, \"life_expect\": 71.626, \"fertility\": 3.81}, {\"year\": 2000, \"country\": \"South Africa\", \"cluster\": 2, \"pop\": 44066197, \"life_expect\": 53.365, \"fertility\": 2.802}, {\"year\": 2000, \"country\": \"Spain\", \"cluster\": 1, \"pop\": 40016081, \"life_expect\": 79.78, \"fertility\": 1.287}, {\"year\": 2000, \"country\": \"Switzerland\", \"cluster\": 1, \"pop\": 7266920, \"life_expect\": 80.62, \"fertility\": 1.415}, {\"year\": 2000, \"country\": \"Turkey\", \"cluster\": 1, \"pop\": 65666677, \"life_expect\": 70.845, \"fertility\": 2.23}, {\"year\": 2000, \"country\": \"United Kingdom\", \"cluster\": 1, \"pop\": 59522468, \"life_expect\": 78.471, \"fertility\": 1.695}, {\"year\": 2000, \"country\": \"United States\", \"cluster\": 3, \"pop\": 282338631, \"life_expect\": 77.31, \"fertility\": 2.038}, {\"year\": 2000, \"country\": \"Venezuela\", \"cluster\": 3, \"pop\": 23542649, \"life_expect\": 72.766, \"fertility\": 2.723}]}}, {\"mode\": \"vega-lite\"});\n",
              "</script>"
            ],
            "text/plain": [
              "alt.Chart(...)"
            ]
          },
          "metadata": {},
          "execution_count": 6
        }
      ]
    },
    {
      "cell_type": "markdown",
      "source": [
        "Now let's go back to the chart just with no gridlines.  Next up is to change the color palette for the `cluster` attribute.   [Scale Ranges](https://vega.github.io/vega-lite/docs/scale.html#range) indicates that in Vega-Lite, the default color palettes are chosen based on the attribute's type:\n",
        "* \"category\" for nominal fields.\n",
        "* \"ordinal\" for ordinal fields.\n",
        "* \"heatmap\" for quantitative and temporal fields with \"rect\" marks and \"ramp' for other marks\n",
        "\n",
        "Color palettes can be set using the `range` or `scheme` property within the [`altair.Scale()`](https://altair-viz.github.io/user_guide/generated/core/altair.Scale.html#altair.Scale) function. To learn more about `altair.Color()`, click [here](https://altair-viz.github.io/user_guide/generated/channels/altair.Color.html).\n",
        "\n",
        "See the [Color Schemes](https://vega.github.io/vega/docs/schemes/) documentation for the various schemes that are available and the [Scale > Color Schemes](https://vega.github.io/vega-lite/docs/scale.html#scheme) documentation for examples.\n",
        "\n",
        "For this example, we'll pick the [`set1`](https://vega.github.io/vega/docs/schemes/#set1) scheme."
      ],
      "metadata": {
        "id": "muGLdOqa0mgT"
      }
    },
    {
      "cell_type": "code",
      "source": [
        "alt.Chart(data_2000).mark_point().encode(\n",
        "    x = alt.X('fertility:Q', axis = alt.Axis(grid = False)),\n",
        "    y = alt.Y('life_expect:Q', axis = alt.Axis(grid = False)),\n",
        "    color = alt.Color('cluster:N', scale = alt.Scale(scheme = 'set1' )),\n",
        "    size = 'pop:Q'\n",
        ")"
      ],
      "metadata": {
        "id": "3M46AZmQ0poc",
        "outputId": "b9bd9627-edab-4aaf-cc6d-f83c28213c36",
        "colab": {
          "base_uri": "https://localhost:8080/",
          "height": 423
        }
      },
      "execution_count": 7,
      "outputs": [
        {
          "output_type": "stream",
          "name": "stderr",
          "text": [
            "/usr/local/lib/python3.10/dist-packages/altair/utils/core.py:384: FutureWarning: the convert_dtype parameter is deprecated and will be removed in a future version.  Do ``ser.astype(object).apply()`` instead if you want ``convert_dtype=False``.\n",
            "  col = df[col_name].apply(to_list_if_array, convert_dtype=False)\n"
          ]
        },
        {
          "output_type": "execute_result",
          "data": {
            "text/html": [
              "\n",
              "<div id=\"altair-viz-d0acde0a222f4a329a31730d109ccb39\"></div>\n",
              "<script type=\"text/javascript\">\n",
              "  var VEGA_DEBUG = (typeof VEGA_DEBUG == \"undefined\") ? {} : VEGA_DEBUG;\n",
              "  (function(spec, embedOpt){\n",
              "    let outputDiv = document.currentScript.previousElementSibling;\n",
              "    if (outputDiv.id !== \"altair-viz-d0acde0a222f4a329a31730d109ccb39\") {\n",
              "      outputDiv = document.getElementById(\"altair-viz-d0acde0a222f4a329a31730d109ccb39\");\n",
              "    }\n",
              "    const paths = {\n",
              "      \"vega\": \"https://cdn.jsdelivr.net/npm//vega@5?noext\",\n",
              "      \"vega-lib\": \"https://cdn.jsdelivr.net/npm//vega-lib?noext\",\n",
              "      \"vega-lite\": \"https://cdn.jsdelivr.net/npm//vega-lite@4.17.0?noext\",\n",
              "      \"vega-embed\": \"https://cdn.jsdelivr.net/npm//vega-embed@6?noext\",\n",
              "    };\n",
              "\n",
              "    function maybeLoadScript(lib, version) {\n",
              "      var key = `${lib.replace(\"-\", \"\")}_version`;\n",
              "      return (VEGA_DEBUG[key] == version) ?\n",
              "        Promise.resolve(paths[lib]) :\n",
              "        new Promise(function(resolve, reject) {\n",
              "          var s = document.createElement('script');\n",
              "          document.getElementsByTagName(\"head\")[0].appendChild(s);\n",
              "          s.async = true;\n",
              "          s.onload = () => {\n",
              "            VEGA_DEBUG[key] = version;\n",
              "            return resolve(paths[lib]);\n",
              "          };\n",
              "          s.onerror = () => reject(`Error loading script: ${paths[lib]}`);\n",
              "          s.src = paths[lib];\n",
              "        });\n",
              "    }\n",
              "\n",
              "    function showError(err) {\n",
              "      outputDiv.innerHTML = `<div class=\"error\" style=\"color:red;\">${err}</div>`;\n",
              "      throw err;\n",
              "    }\n",
              "\n",
              "    function displayChart(vegaEmbed) {\n",
              "      vegaEmbed(outputDiv, spec, embedOpt)\n",
              "        .catch(err => showError(`Javascript Error: ${err.message}<br>This usually means there's a typo in your chart specification. See the javascript console for the full traceback.`));\n",
              "    }\n",
              "\n",
              "    if(typeof define === \"function\" && define.amd) {\n",
              "      requirejs.config({paths});\n",
              "      require([\"vega-embed\"], displayChart, err => showError(`Error loading script: ${err.message}`));\n",
              "    } else {\n",
              "      maybeLoadScript(\"vega\", \"5\")\n",
              "        .then(() => maybeLoadScript(\"vega-lite\", \"4.17.0\"))\n",
              "        .then(() => maybeLoadScript(\"vega-embed\", \"6\"))\n",
              "        .catch(showError)\n",
              "        .then(() => displayChart(vegaEmbed));\n",
              "    }\n",
              "  })({\"config\": {\"view\": {\"continuousWidth\": 400, \"continuousHeight\": 300}}, \"data\": {\"name\": \"data-fdeb0b749a6385830bd1445d39ad6ea0\"}, \"mark\": \"point\", \"encoding\": {\"color\": {\"field\": \"cluster\", \"scale\": {\"scheme\": \"set1\"}, \"type\": \"nominal\"}, \"size\": {\"field\": \"pop\", \"type\": \"quantitative\"}, \"x\": {\"axis\": {\"grid\": false}, \"field\": \"fertility\", \"type\": \"quantitative\"}, \"y\": {\"axis\": {\"grid\": false}, \"field\": \"life_expect\", \"type\": \"quantitative\"}}, \"$schema\": \"https://vega.github.io/schema/vega-lite/v4.17.0.json\", \"datasets\": {\"data-fdeb0b749a6385830bd1445d39ad6ea0\": [{\"year\": 2000, \"country\": \"Afghanistan\", \"cluster\": 0, \"pop\": 23898198, \"life_expect\": 42.129, \"fertility\": 7.4792}, {\"year\": 2000, \"country\": \"Argentina\", \"cluster\": 3, \"pop\": 37497728, \"life_expect\": 74.34, \"fertility\": 2.35}, {\"year\": 2000, \"country\": \"Aruba\", \"cluster\": 3, \"pop\": 69539, \"life_expect\": 73.451, \"fertility\": 2.124}, {\"year\": 2000, \"country\": \"Australia\", \"cluster\": 4, \"pop\": 19164620, \"life_expect\": 80.37, \"fertility\": 1.756}, {\"year\": 2000, \"country\": \"Austria\", \"cluster\": 1, \"pop\": 8113413, \"life_expect\": 78.98, \"fertility\": 1.3820000000000001}, {\"year\": 2000, \"country\": \"Bahamas\", \"cluster\": 3, \"pop\": 290075, \"life_expect\": 71.068, \"fertility\": 2.1111}, {\"year\": 2000, \"country\": \"Bangladesh\", \"cluster\": 0, \"pop\": 130406594, \"life_expect\": 62.013, \"fertility\": 3.224}, {\"year\": 2000, \"country\": \"Barbados\", \"cluster\": 3, \"pop\": 273483, \"life_expect\": 75.97, \"fertility\": 1.5}, {\"year\": 2000, \"country\": \"Belgium\", \"cluster\": 1, \"pop\": 10263618, \"life_expect\": 78.32, \"fertility\": 1.638}, {\"year\": 2000, \"country\": \"Bolivia\", \"cluster\": 3, \"pop\": 8152620, \"life_expect\": 63.883, \"fertility\": 3.9585}, {\"year\": 2000, \"country\": \"Brazil\", \"cluster\": 3, \"pop\": 175552771, \"life_expect\": 71.006, \"fertility\": 2.345}, {\"year\": 2000, \"country\": \"Canada\", \"cluster\": 3, \"pop\": 31278097, \"life_expect\": 79.77, \"fertility\": 1.522}, {\"year\": 2000, \"country\": \"Chile\", \"cluster\": 3, \"pop\": 15153450, \"life_expect\": 77.86, \"fertility\": 2.0}, {\"year\": 2000, \"country\": \"China\", \"cluster\": 4, \"pop\": 1262645000, \"life_expect\": 72.028, \"fertility\": 1.7000000000000002}, {\"year\": 2000, \"country\": \"Colombia\", \"cluster\": 3, \"pop\": 39685655, \"life_expect\": 71.682, \"fertility\": 2.4705}, {\"year\": 2000, \"country\": \"Costa Rica\", \"cluster\": 3, \"pop\": 3710558, \"life_expect\": 78.123, \"fertility\": 2.2815}, {\"year\": 2000, \"country\": \"Croatia\", \"cluster\": 1, \"pop\": 4410830, \"life_expect\": 74.876, \"fertility\": 1.348}, {\"year\": 2000, \"country\": \"Cuba\", \"cluster\": 3, \"pop\": 11134273, \"life_expect\": 77.158, \"fertility\": 1.63}, {\"year\": 2000, \"country\": \"Dominican Republic\", \"cluster\": 3, \"pop\": 8385828, \"life_expect\": 70.847, \"fertility\": 2.95}, {\"year\": 2000, \"country\": \"Ecuador\", \"cluster\": 3, \"pop\": 12505204, \"life_expect\": 74.173, \"fertility\": 2.8175}, {\"year\": 2000, \"country\": \"Egypt\", \"cluster\": 5, \"pop\": 70492342, \"life_expect\": 69.806, \"fertility\": 3.174}, {\"year\": 2000, \"country\": \"El Salvador\", \"cluster\": 3, \"pop\": 6122515, \"life_expect\": 70.734, \"fertility\": 2.883}, {\"year\": 2000, \"country\": \"Finland\", \"cluster\": 1, \"pop\": 5168595, \"life_expect\": 78.37, \"fertility\": 1.754}, {\"year\": 2000, \"country\": \"France\", \"cluster\": 1, \"pop\": 59381628, \"life_expect\": 79.59, \"fertility\": 1.8833000000000002}, {\"year\": 2000, \"country\": \"Georgia\", \"cluster\": 1, \"pop\": 4777209, \"life_expect\": 70.476, \"fertility\": 1.478}, {\"year\": 2000, \"country\": \"Germany\", \"cluster\": 1, \"pop\": 82187909, \"life_expect\": 78.67, \"fertility\": 1.346}, {\"year\": 2000, \"country\": \"Greece\", \"cluster\": 1, \"pop\": 10559110, \"life_expect\": 78.256, \"fertility\": 1.2770000000000001}, {\"year\": 2000, \"country\": \"Grenada\", \"cluster\": 3, \"pop\": 89312, \"life_expect\": 67.746, \"fertility\": 2.429}, {\"year\": 2000, \"country\": \"Haiti\", \"cluster\": 3, \"pop\": 7306302, \"life_expect\": 58.137, \"fertility\": 4.0}, {\"year\": 2000, \"country\": \"Hong Kong\", \"cluster\": 4, \"pop\": 6658720, \"life_expect\": 81.495, \"fertility\": 0.9400000000000001}, {\"year\": 2000, \"country\": \"Iceland\", \"cluster\": 1, \"pop\": 281043, \"life_expect\": 80.5, \"fertility\": 1.9929999999999999}, {\"year\": 2000, \"country\": \"India\", \"cluster\": 0, \"pop\": 1007702000, \"life_expect\": 62.879, \"fertility\": 3.1132}, {\"year\": 2000, \"country\": \"Indonesia\", \"cluster\": 4, \"pop\": 206265000, \"life_expect\": 68.588, \"fertility\": 2.3761}, {\"year\": 2000, \"country\": \"Iran\", \"cluster\": 5, \"pop\": 65660289, \"life_expect\": 69.451, \"fertility\": 2.124}, {\"year\": 2000, \"country\": \"Iraq\", \"cluster\": 5, \"pop\": 22675617, \"life_expect\": 57.046, \"fertility\": 4.858}, {\"year\": 2000, \"country\": \"Ireland\", \"cluster\": 1, \"pop\": 3791690, \"life_expect\": 77.783, \"fertility\": 1.9689999999999999}, {\"year\": 2000, \"country\": \"Israel\", \"cluster\": 5, \"pop\": 5842454, \"life_expect\": 79.696, \"fertility\": 2.906}, {\"year\": 2000, \"country\": \"Italy\", \"cluster\": 1, \"pop\": 57719337, \"life_expect\": 80.24, \"fertility\": 1.286}, {\"year\": 2000, \"country\": \"Jamaica\", \"cluster\": 3, \"pop\": 2615467, \"life_expect\": 72.047, \"fertility\": 2.628}, {\"year\": 2000, \"country\": \"Japan\", \"cluster\": 4, \"pop\": 126699784, \"life_expect\": 82.0, \"fertility\": 1.291}, {\"year\": 2000, \"country\": \"Kenya\", \"cluster\": 2, \"pop\": 29985839, \"life_expect\": 50.992, \"fertility\": 5.0}, {\"year\": 2000, \"country\": \"South Korea\", \"cluster\": 4, \"pop\": 21647682, \"life_expect\": 66.662, \"fertility\": 1.9173}, {\"year\": 2000, \"country\": \"North Korea\", \"cluster\": 4, \"pop\": 47351083, \"life_expect\": 77.045, \"fertility\": 1.242}, {\"year\": 2000, \"country\": \"Lebanon\", \"cluster\": 5, \"pop\": 3578036, \"life_expect\": 71.028, \"fertility\": 2.319}, {\"year\": 2000, \"country\": \"Mexico\", \"cluster\": 3, \"pop\": 99926620, \"life_expect\": 74.902, \"fertility\": 2.4005}, {\"year\": 2000, \"country\": \"Netherlands\", \"cluster\": 1, \"pop\": 15907853, \"life_expect\": 78.53, \"fertility\": 1.726}, {\"year\": 2000, \"country\": \"New Zealand\", \"cluster\": 4, \"pop\": 3819762, \"life_expect\": 79.11, \"fertility\": 1.964}, {\"year\": 2000, \"country\": \"Nigeria\", \"cluster\": 2, \"pop\": 114306700, \"life_expect\": 46.608, \"fertility\": 5.845}, {\"year\": 2000, \"country\": \"Norway\", \"cluster\": 1, \"pop\": 4492400, \"life_expect\": 79.05, \"fertility\": 1.8010000000000002}, {\"year\": 2000, \"country\": \"Pakistan\", \"cluster\": 0, \"pop\": 146342958, \"life_expect\": 63.61, \"fertility\": 3.9936}, {\"year\": 2000, \"country\": \"Peru\", \"cluster\": 3, \"pop\": 25979722, \"life_expect\": 69.906, \"fertility\": 2.7005}, {\"year\": 2000, \"country\": \"Philippines\", \"cluster\": 4, \"pop\": 79739825, \"life_expect\": 70.303, \"fertility\": 3.5436}, {\"year\": 2000, \"country\": \"Poland\", \"cluster\": 1, \"pop\": 38654164, \"life_expect\": 74.67, \"fertility\": 1.251}, {\"year\": 2000, \"country\": \"Portugal\", \"cluster\": 1, \"pop\": 10335597, \"life_expect\": 77.29, \"fertility\": 1.454}, {\"year\": 2000, \"country\": \"Rwanda\", \"cluster\": 2, \"pop\": 7507056, \"life_expect\": 43.413, \"fertility\": 6.01}, {\"year\": 2000, \"country\": \"Saudi Arabia\", \"cluster\": 5, \"pop\": 23153090, \"life_expect\": 71.626, \"fertility\": 3.81}, {\"year\": 2000, \"country\": \"South Africa\", \"cluster\": 2, \"pop\": 44066197, \"life_expect\": 53.365, \"fertility\": 2.802}, {\"year\": 2000, \"country\": \"Spain\", \"cluster\": 1, \"pop\": 40016081, \"life_expect\": 79.78, \"fertility\": 1.287}, {\"year\": 2000, \"country\": \"Switzerland\", \"cluster\": 1, \"pop\": 7266920, \"life_expect\": 80.62, \"fertility\": 1.415}, {\"year\": 2000, \"country\": \"Turkey\", \"cluster\": 1, \"pop\": 65666677, \"life_expect\": 70.845, \"fertility\": 2.23}, {\"year\": 2000, \"country\": \"United Kingdom\", \"cluster\": 1, \"pop\": 59522468, \"life_expect\": 78.471, \"fertility\": 1.695}, {\"year\": 2000, \"country\": \"United States\", \"cluster\": 3, \"pop\": 282338631, \"life_expect\": 77.31, \"fertility\": 2.038}, {\"year\": 2000, \"country\": \"Venezuela\", \"cluster\": 3, \"pop\": 23542649, \"life_expect\": 72.766, \"fertility\": 2.723}]}}, {\"mode\": \"vega-lite\"});\n",
              "</script>"
            ],
            "text/plain": [
              "alt.Chart(...)"
            ]
          },
          "metadata": {},
          "execution_count": 7
        }
      ]
    },
    {
      "cell_type": "markdown",
      "source": [
        "If we wanted filled circles instead of open circles, there are two different ways to do this.  \n",
        "\n",
        "The easiest is to use `mark_circle()` instead of `mark_point()`."
      ],
      "metadata": {
        "id": "l9r7ReW83Rud"
      }
    },
    {
      "cell_type": "code",
      "source": [
        "alt.Chart(data_2000).mark_circle().encode(\n",
        "    x = alt.X('fertility:Q', axis = alt.Axis(grid = False)),\n",
        "    y = alt.Y('life_expect:Q', axis = alt.Axis(grid = False)),\n",
        "    color = alt.Color('cluster:N', scale = alt.Scale(scheme = 'set1' )),\n",
        "    size = 'pop:Q'\n",
        ")"
      ],
      "metadata": {
        "id": "Ns53YBhz3WoW",
        "outputId": "08cc7d03-b816-4443-9315-f6e8dd08e0c5",
        "colab": {
          "base_uri": "https://localhost:8080/",
          "height": 423
        }
      },
      "execution_count": 8,
      "outputs": [
        {
          "output_type": "stream",
          "name": "stderr",
          "text": [
            "/usr/local/lib/python3.10/dist-packages/altair/utils/core.py:384: FutureWarning: the convert_dtype parameter is deprecated and will be removed in a future version.  Do ``ser.astype(object).apply()`` instead if you want ``convert_dtype=False``.\n",
            "  col = df[col_name].apply(to_list_if_array, convert_dtype=False)\n"
          ]
        },
        {
          "output_type": "execute_result",
          "data": {
            "text/html": [
              "\n",
              "<div id=\"altair-viz-30cc78484ea24124a95d8e1cb36142d3\"></div>\n",
              "<script type=\"text/javascript\">\n",
              "  var VEGA_DEBUG = (typeof VEGA_DEBUG == \"undefined\") ? {} : VEGA_DEBUG;\n",
              "  (function(spec, embedOpt){\n",
              "    let outputDiv = document.currentScript.previousElementSibling;\n",
              "    if (outputDiv.id !== \"altair-viz-30cc78484ea24124a95d8e1cb36142d3\") {\n",
              "      outputDiv = document.getElementById(\"altair-viz-30cc78484ea24124a95d8e1cb36142d3\");\n",
              "    }\n",
              "    const paths = {\n",
              "      \"vega\": \"https://cdn.jsdelivr.net/npm//vega@5?noext\",\n",
              "      \"vega-lib\": \"https://cdn.jsdelivr.net/npm//vega-lib?noext\",\n",
              "      \"vega-lite\": \"https://cdn.jsdelivr.net/npm//vega-lite@4.17.0?noext\",\n",
              "      \"vega-embed\": \"https://cdn.jsdelivr.net/npm//vega-embed@6?noext\",\n",
              "    };\n",
              "\n",
              "    function maybeLoadScript(lib, version) {\n",
              "      var key = `${lib.replace(\"-\", \"\")}_version`;\n",
              "      return (VEGA_DEBUG[key] == version) ?\n",
              "        Promise.resolve(paths[lib]) :\n",
              "        new Promise(function(resolve, reject) {\n",
              "          var s = document.createElement('script');\n",
              "          document.getElementsByTagName(\"head\")[0].appendChild(s);\n",
              "          s.async = true;\n",
              "          s.onload = () => {\n",
              "            VEGA_DEBUG[key] = version;\n",
              "            return resolve(paths[lib]);\n",
              "          };\n",
              "          s.onerror = () => reject(`Error loading script: ${paths[lib]}`);\n",
              "          s.src = paths[lib];\n",
              "        });\n",
              "    }\n",
              "\n",
              "    function showError(err) {\n",
              "      outputDiv.innerHTML = `<div class=\"error\" style=\"color:red;\">${err}</div>`;\n",
              "      throw err;\n",
              "    }\n",
              "\n",
              "    function displayChart(vegaEmbed) {\n",
              "      vegaEmbed(outputDiv, spec, embedOpt)\n",
              "        .catch(err => showError(`Javascript Error: ${err.message}<br>This usually means there's a typo in your chart specification. See the javascript console for the full traceback.`));\n",
              "    }\n",
              "\n",
              "    if(typeof define === \"function\" && define.amd) {\n",
              "      requirejs.config({paths});\n",
              "      require([\"vega-embed\"], displayChart, err => showError(`Error loading script: ${err.message}`));\n",
              "    } else {\n",
              "      maybeLoadScript(\"vega\", \"5\")\n",
              "        .then(() => maybeLoadScript(\"vega-lite\", \"4.17.0\"))\n",
              "        .then(() => maybeLoadScript(\"vega-embed\", \"6\"))\n",
              "        .catch(showError)\n",
              "        .then(() => displayChart(vegaEmbed));\n",
              "    }\n",
              "  })({\"config\": {\"view\": {\"continuousWidth\": 400, \"continuousHeight\": 300}}, \"data\": {\"name\": \"data-fdeb0b749a6385830bd1445d39ad6ea0\"}, \"mark\": \"circle\", \"encoding\": {\"color\": {\"field\": \"cluster\", \"scale\": {\"scheme\": \"set1\"}, \"type\": \"nominal\"}, \"size\": {\"field\": \"pop\", \"type\": \"quantitative\"}, \"x\": {\"axis\": {\"grid\": false}, \"field\": \"fertility\", \"type\": \"quantitative\"}, \"y\": {\"axis\": {\"grid\": false}, \"field\": \"life_expect\", \"type\": \"quantitative\"}}, \"$schema\": \"https://vega.github.io/schema/vega-lite/v4.17.0.json\", \"datasets\": {\"data-fdeb0b749a6385830bd1445d39ad6ea0\": [{\"year\": 2000, \"country\": \"Afghanistan\", \"cluster\": 0, \"pop\": 23898198, \"life_expect\": 42.129, \"fertility\": 7.4792}, {\"year\": 2000, \"country\": \"Argentina\", \"cluster\": 3, \"pop\": 37497728, \"life_expect\": 74.34, \"fertility\": 2.35}, {\"year\": 2000, \"country\": \"Aruba\", \"cluster\": 3, \"pop\": 69539, \"life_expect\": 73.451, \"fertility\": 2.124}, {\"year\": 2000, \"country\": \"Australia\", \"cluster\": 4, \"pop\": 19164620, \"life_expect\": 80.37, \"fertility\": 1.756}, {\"year\": 2000, \"country\": \"Austria\", \"cluster\": 1, \"pop\": 8113413, \"life_expect\": 78.98, \"fertility\": 1.3820000000000001}, {\"year\": 2000, \"country\": \"Bahamas\", \"cluster\": 3, \"pop\": 290075, \"life_expect\": 71.068, \"fertility\": 2.1111}, {\"year\": 2000, \"country\": \"Bangladesh\", \"cluster\": 0, \"pop\": 130406594, \"life_expect\": 62.013, \"fertility\": 3.224}, {\"year\": 2000, \"country\": \"Barbados\", \"cluster\": 3, \"pop\": 273483, \"life_expect\": 75.97, \"fertility\": 1.5}, {\"year\": 2000, \"country\": \"Belgium\", \"cluster\": 1, \"pop\": 10263618, \"life_expect\": 78.32, \"fertility\": 1.638}, {\"year\": 2000, \"country\": \"Bolivia\", \"cluster\": 3, \"pop\": 8152620, \"life_expect\": 63.883, \"fertility\": 3.9585}, {\"year\": 2000, \"country\": \"Brazil\", \"cluster\": 3, \"pop\": 175552771, \"life_expect\": 71.006, \"fertility\": 2.345}, {\"year\": 2000, \"country\": \"Canada\", \"cluster\": 3, \"pop\": 31278097, \"life_expect\": 79.77, \"fertility\": 1.522}, {\"year\": 2000, \"country\": \"Chile\", \"cluster\": 3, \"pop\": 15153450, \"life_expect\": 77.86, \"fertility\": 2.0}, {\"year\": 2000, \"country\": \"China\", \"cluster\": 4, \"pop\": 1262645000, \"life_expect\": 72.028, \"fertility\": 1.7000000000000002}, {\"year\": 2000, \"country\": \"Colombia\", \"cluster\": 3, \"pop\": 39685655, \"life_expect\": 71.682, \"fertility\": 2.4705}, {\"year\": 2000, \"country\": \"Costa Rica\", \"cluster\": 3, \"pop\": 3710558, \"life_expect\": 78.123, \"fertility\": 2.2815}, {\"year\": 2000, \"country\": \"Croatia\", \"cluster\": 1, \"pop\": 4410830, \"life_expect\": 74.876, \"fertility\": 1.348}, {\"year\": 2000, \"country\": \"Cuba\", \"cluster\": 3, \"pop\": 11134273, \"life_expect\": 77.158, \"fertility\": 1.63}, {\"year\": 2000, \"country\": \"Dominican Republic\", \"cluster\": 3, \"pop\": 8385828, \"life_expect\": 70.847, \"fertility\": 2.95}, {\"year\": 2000, \"country\": \"Ecuador\", \"cluster\": 3, \"pop\": 12505204, \"life_expect\": 74.173, \"fertility\": 2.8175}, {\"year\": 2000, \"country\": \"Egypt\", \"cluster\": 5, \"pop\": 70492342, \"life_expect\": 69.806, \"fertility\": 3.174}, {\"year\": 2000, \"country\": \"El Salvador\", \"cluster\": 3, \"pop\": 6122515, \"life_expect\": 70.734, \"fertility\": 2.883}, {\"year\": 2000, \"country\": \"Finland\", \"cluster\": 1, \"pop\": 5168595, \"life_expect\": 78.37, \"fertility\": 1.754}, {\"year\": 2000, \"country\": \"France\", \"cluster\": 1, \"pop\": 59381628, \"life_expect\": 79.59, \"fertility\": 1.8833000000000002}, {\"year\": 2000, \"country\": \"Georgia\", \"cluster\": 1, \"pop\": 4777209, \"life_expect\": 70.476, \"fertility\": 1.478}, {\"year\": 2000, \"country\": \"Germany\", \"cluster\": 1, \"pop\": 82187909, \"life_expect\": 78.67, \"fertility\": 1.346}, {\"year\": 2000, \"country\": \"Greece\", \"cluster\": 1, \"pop\": 10559110, \"life_expect\": 78.256, \"fertility\": 1.2770000000000001}, {\"year\": 2000, \"country\": \"Grenada\", \"cluster\": 3, \"pop\": 89312, \"life_expect\": 67.746, \"fertility\": 2.429}, {\"year\": 2000, \"country\": \"Haiti\", \"cluster\": 3, \"pop\": 7306302, \"life_expect\": 58.137, \"fertility\": 4.0}, {\"year\": 2000, \"country\": \"Hong Kong\", \"cluster\": 4, \"pop\": 6658720, \"life_expect\": 81.495, \"fertility\": 0.9400000000000001}, {\"year\": 2000, \"country\": \"Iceland\", \"cluster\": 1, \"pop\": 281043, \"life_expect\": 80.5, \"fertility\": 1.9929999999999999}, {\"year\": 2000, \"country\": \"India\", \"cluster\": 0, \"pop\": 1007702000, \"life_expect\": 62.879, \"fertility\": 3.1132}, {\"year\": 2000, \"country\": \"Indonesia\", \"cluster\": 4, \"pop\": 206265000, \"life_expect\": 68.588, \"fertility\": 2.3761}, {\"year\": 2000, \"country\": \"Iran\", \"cluster\": 5, \"pop\": 65660289, \"life_expect\": 69.451, \"fertility\": 2.124}, {\"year\": 2000, \"country\": \"Iraq\", \"cluster\": 5, \"pop\": 22675617, \"life_expect\": 57.046, \"fertility\": 4.858}, {\"year\": 2000, \"country\": \"Ireland\", \"cluster\": 1, \"pop\": 3791690, \"life_expect\": 77.783, \"fertility\": 1.9689999999999999}, {\"year\": 2000, \"country\": \"Israel\", \"cluster\": 5, \"pop\": 5842454, \"life_expect\": 79.696, \"fertility\": 2.906}, {\"year\": 2000, \"country\": \"Italy\", \"cluster\": 1, \"pop\": 57719337, \"life_expect\": 80.24, \"fertility\": 1.286}, {\"year\": 2000, \"country\": \"Jamaica\", \"cluster\": 3, \"pop\": 2615467, \"life_expect\": 72.047, \"fertility\": 2.628}, {\"year\": 2000, \"country\": \"Japan\", \"cluster\": 4, \"pop\": 126699784, \"life_expect\": 82.0, \"fertility\": 1.291}, {\"year\": 2000, \"country\": \"Kenya\", \"cluster\": 2, \"pop\": 29985839, \"life_expect\": 50.992, \"fertility\": 5.0}, {\"year\": 2000, \"country\": \"South Korea\", \"cluster\": 4, \"pop\": 21647682, \"life_expect\": 66.662, \"fertility\": 1.9173}, {\"year\": 2000, \"country\": \"North Korea\", \"cluster\": 4, \"pop\": 47351083, \"life_expect\": 77.045, \"fertility\": 1.242}, {\"year\": 2000, \"country\": \"Lebanon\", \"cluster\": 5, \"pop\": 3578036, \"life_expect\": 71.028, \"fertility\": 2.319}, {\"year\": 2000, \"country\": \"Mexico\", \"cluster\": 3, \"pop\": 99926620, \"life_expect\": 74.902, \"fertility\": 2.4005}, {\"year\": 2000, \"country\": \"Netherlands\", \"cluster\": 1, \"pop\": 15907853, \"life_expect\": 78.53, \"fertility\": 1.726}, {\"year\": 2000, \"country\": \"New Zealand\", \"cluster\": 4, \"pop\": 3819762, \"life_expect\": 79.11, \"fertility\": 1.964}, {\"year\": 2000, \"country\": \"Nigeria\", \"cluster\": 2, \"pop\": 114306700, \"life_expect\": 46.608, \"fertility\": 5.845}, {\"year\": 2000, \"country\": \"Norway\", \"cluster\": 1, \"pop\": 4492400, \"life_expect\": 79.05, \"fertility\": 1.8010000000000002}, {\"year\": 2000, \"country\": \"Pakistan\", \"cluster\": 0, \"pop\": 146342958, \"life_expect\": 63.61, \"fertility\": 3.9936}, {\"year\": 2000, \"country\": \"Peru\", \"cluster\": 3, \"pop\": 25979722, \"life_expect\": 69.906, \"fertility\": 2.7005}, {\"year\": 2000, \"country\": \"Philippines\", \"cluster\": 4, \"pop\": 79739825, \"life_expect\": 70.303, \"fertility\": 3.5436}, {\"year\": 2000, \"country\": \"Poland\", \"cluster\": 1, \"pop\": 38654164, \"life_expect\": 74.67, \"fertility\": 1.251}, {\"year\": 2000, \"country\": \"Portugal\", \"cluster\": 1, \"pop\": 10335597, \"life_expect\": 77.29, \"fertility\": 1.454}, {\"year\": 2000, \"country\": \"Rwanda\", \"cluster\": 2, \"pop\": 7507056, \"life_expect\": 43.413, \"fertility\": 6.01}, {\"year\": 2000, \"country\": \"Saudi Arabia\", \"cluster\": 5, \"pop\": 23153090, \"life_expect\": 71.626, \"fertility\": 3.81}, {\"year\": 2000, \"country\": \"South Africa\", \"cluster\": 2, \"pop\": 44066197, \"life_expect\": 53.365, \"fertility\": 2.802}, {\"year\": 2000, \"country\": \"Spain\", \"cluster\": 1, \"pop\": 40016081, \"life_expect\": 79.78, \"fertility\": 1.287}, {\"year\": 2000, \"country\": \"Switzerland\", \"cluster\": 1, \"pop\": 7266920, \"life_expect\": 80.62, \"fertility\": 1.415}, {\"year\": 2000, \"country\": \"Turkey\", \"cluster\": 1, \"pop\": 65666677, \"life_expect\": 70.845, \"fertility\": 2.23}, {\"year\": 2000, \"country\": \"United Kingdom\", \"cluster\": 1, \"pop\": 59522468, \"life_expect\": 78.471, \"fertility\": 1.695}, {\"year\": 2000, \"country\": \"United States\", \"cluster\": 3, \"pop\": 282338631, \"life_expect\": 77.31, \"fertility\": 2.038}, {\"year\": 2000, \"country\": \"Venezuela\", \"cluster\": 3, \"pop\": 23542649, \"life_expect\": 72.766, \"fertility\": 2.723}]}}, {\"mode\": \"vega-lite\"});\n",
              "</script>"
            ],
            "text/plain": [
              "alt.Chart(...)"
            ]
          },
          "metadata": {},
          "execution_count": 8
        }
      ]
    },
    {
      "cell_type": "markdown",
      "source": [
        "Or you can set the `filled` property to true in `mark_point()`."
      ],
      "metadata": {
        "id": "MwhpF7j-30YX"
      }
    },
    {
      "cell_type": "code",
      "source": [
        "alt.Chart(data_2000).mark_point(filled = True).encode(\n",
        "    x = alt.X('fertility:Q', axis = alt.Axis(grid = False)),\n",
        "    y = alt.Y('life_expect:Q', axis = alt.Axis(grid = False)),\n",
        "    color = alt.Color('cluster:N', scale = alt.Scale(scheme = 'set1' )),\n",
        "    size = 'pop:Q'\n",
        ")"
      ],
      "metadata": {
        "id": "2NZ1PWED33TQ",
        "outputId": "31e285b8-8412-4944-b9e9-d6ff0d922757",
        "colab": {
          "base_uri": "https://localhost:8080/",
          "height": 423
        }
      },
      "execution_count": 9,
      "outputs": [
        {
          "output_type": "stream",
          "name": "stderr",
          "text": [
            "/usr/local/lib/python3.10/dist-packages/altair/utils/core.py:384: FutureWarning: the convert_dtype parameter is deprecated and will be removed in a future version.  Do ``ser.astype(object).apply()`` instead if you want ``convert_dtype=False``.\n",
            "  col = df[col_name].apply(to_list_if_array, convert_dtype=False)\n"
          ]
        },
        {
          "output_type": "execute_result",
          "data": {
            "text/html": [
              "\n",
              "<div id=\"altair-viz-8fb1cf891f17411a92e0995c5f5c0ad8\"></div>\n",
              "<script type=\"text/javascript\">\n",
              "  var VEGA_DEBUG = (typeof VEGA_DEBUG == \"undefined\") ? {} : VEGA_DEBUG;\n",
              "  (function(spec, embedOpt){\n",
              "    let outputDiv = document.currentScript.previousElementSibling;\n",
              "    if (outputDiv.id !== \"altair-viz-8fb1cf891f17411a92e0995c5f5c0ad8\") {\n",
              "      outputDiv = document.getElementById(\"altair-viz-8fb1cf891f17411a92e0995c5f5c0ad8\");\n",
              "    }\n",
              "    const paths = {\n",
              "      \"vega\": \"https://cdn.jsdelivr.net/npm//vega@5?noext\",\n",
              "      \"vega-lib\": \"https://cdn.jsdelivr.net/npm//vega-lib?noext\",\n",
              "      \"vega-lite\": \"https://cdn.jsdelivr.net/npm//vega-lite@4.17.0?noext\",\n",
              "      \"vega-embed\": \"https://cdn.jsdelivr.net/npm//vega-embed@6?noext\",\n",
              "    };\n",
              "\n",
              "    function maybeLoadScript(lib, version) {\n",
              "      var key = `${lib.replace(\"-\", \"\")}_version`;\n",
              "      return (VEGA_DEBUG[key] == version) ?\n",
              "        Promise.resolve(paths[lib]) :\n",
              "        new Promise(function(resolve, reject) {\n",
              "          var s = document.createElement('script');\n",
              "          document.getElementsByTagName(\"head\")[0].appendChild(s);\n",
              "          s.async = true;\n",
              "          s.onload = () => {\n",
              "            VEGA_DEBUG[key] = version;\n",
              "            return resolve(paths[lib]);\n",
              "          };\n",
              "          s.onerror = () => reject(`Error loading script: ${paths[lib]}`);\n",
              "          s.src = paths[lib];\n",
              "        });\n",
              "    }\n",
              "\n",
              "    function showError(err) {\n",
              "      outputDiv.innerHTML = `<div class=\"error\" style=\"color:red;\">${err}</div>`;\n",
              "      throw err;\n",
              "    }\n",
              "\n",
              "    function displayChart(vegaEmbed) {\n",
              "      vegaEmbed(outputDiv, spec, embedOpt)\n",
              "        .catch(err => showError(`Javascript Error: ${err.message}<br>This usually means there's a typo in your chart specification. See the javascript console for the full traceback.`));\n",
              "    }\n",
              "\n",
              "    if(typeof define === \"function\" && define.amd) {\n",
              "      requirejs.config({paths});\n",
              "      require([\"vega-embed\"], displayChart, err => showError(`Error loading script: ${err.message}`));\n",
              "    } else {\n",
              "      maybeLoadScript(\"vega\", \"5\")\n",
              "        .then(() => maybeLoadScript(\"vega-lite\", \"4.17.0\"))\n",
              "        .then(() => maybeLoadScript(\"vega-embed\", \"6\"))\n",
              "        .catch(showError)\n",
              "        .then(() => displayChart(vegaEmbed));\n",
              "    }\n",
              "  })({\"config\": {\"view\": {\"continuousWidth\": 400, \"continuousHeight\": 300}}, \"data\": {\"name\": \"data-fdeb0b749a6385830bd1445d39ad6ea0\"}, \"mark\": {\"type\": \"point\", \"filled\": true}, \"encoding\": {\"color\": {\"field\": \"cluster\", \"scale\": {\"scheme\": \"set1\"}, \"type\": \"nominal\"}, \"size\": {\"field\": \"pop\", \"type\": \"quantitative\"}, \"x\": {\"axis\": {\"grid\": false}, \"field\": \"fertility\", \"type\": \"quantitative\"}, \"y\": {\"axis\": {\"grid\": false}, \"field\": \"life_expect\", \"type\": \"quantitative\"}}, \"$schema\": \"https://vega.github.io/schema/vega-lite/v4.17.0.json\", \"datasets\": {\"data-fdeb0b749a6385830bd1445d39ad6ea0\": [{\"year\": 2000, \"country\": \"Afghanistan\", \"cluster\": 0, \"pop\": 23898198, \"life_expect\": 42.129, \"fertility\": 7.4792}, {\"year\": 2000, \"country\": \"Argentina\", \"cluster\": 3, \"pop\": 37497728, \"life_expect\": 74.34, \"fertility\": 2.35}, {\"year\": 2000, \"country\": \"Aruba\", \"cluster\": 3, \"pop\": 69539, \"life_expect\": 73.451, \"fertility\": 2.124}, {\"year\": 2000, \"country\": \"Australia\", \"cluster\": 4, \"pop\": 19164620, \"life_expect\": 80.37, \"fertility\": 1.756}, {\"year\": 2000, \"country\": \"Austria\", \"cluster\": 1, \"pop\": 8113413, \"life_expect\": 78.98, \"fertility\": 1.3820000000000001}, {\"year\": 2000, \"country\": \"Bahamas\", \"cluster\": 3, \"pop\": 290075, \"life_expect\": 71.068, \"fertility\": 2.1111}, {\"year\": 2000, \"country\": \"Bangladesh\", \"cluster\": 0, \"pop\": 130406594, \"life_expect\": 62.013, \"fertility\": 3.224}, {\"year\": 2000, \"country\": \"Barbados\", \"cluster\": 3, \"pop\": 273483, \"life_expect\": 75.97, \"fertility\": 1.5}, {\"year\": 2000, \"country\": \"Belgium\", \"cluster\": 1, \"pop\": 10263618, \"life_expect\": 78.32, \"fertility\": 1.638}, {\"year\": 2000, \"country\": \"Bolivia\", \"cluster\": 3, \"pop\": 8152620, \"life_expect\": 63.883, \"fertility\": 3.9585}, {\"year\": 2000, \"country\": \"Brazil\", \"cluster\": 3, \"pop\": 175552771, \"life_expect\": 71.006, \"fertility\": 2.345}, {\"year\": 2000, \"country\": \"Canada\", \"cluster\": 3, \"pop\": 31278097, \"life_expect\": 79.77, \"fertility\": 1.522}, {\"year\": 2000, \"country\": \"Chile\", \"cluster\": 3, \"pop\": 15153450, \"life_expect\": 77.86, \"fertility\": 2.0}, {\"year\": 2000, \"country\": \"China\", \"cluster\": 4, \"pop\": 1262645000, \"life_expect\": 72.028, \"fertility\": 1.7000000000000002}, {\"year\": 2000, \"country\": \"Colombia\", \"cluster\": 3, \"pop\": 39685655, \"life_expect\": 71.682, \"fertility\": 2.4705}, {\"year\": 2000, \"country\": \"Costa Rica\", \"cluster\": 3, \"pop\": 3710558, \"life_expect\": 78.123, \"fertility\": 2.2815}, {\"year\": 2000, \"country\": \"Croatia\", \"cluster\": 1, \"pop\": 4410830, \"life_expect\": 74.876, \"fertility\": 1.348}, {\"year\": 2000, \"country\": \"Cuba\", \"cluster\": 3, \"pop\": 11134273, \"life_expect\": 77.158, \"fertility\": 1.63}, {\"year\": 2000, \"country\": \"Dominican Republic\", \"cluster\": 3, \"pop\": 8385828, \"life_expect\": 70.847, \"fertility\": 2.95}, {\"year\": 2000, \"country\": \"Ecuador\", \"cluster\": 3, \"pop\": 12505204, \"life_expect\": 74.173, \"fertility\": 2.8175}, {\"year\": 2000, \"country\": \"Egypt\", \"cluster\": 5, \"pop\": 70492342, \"life_expect\": 69.806, \"fertility\": 3.174}, {\"year\": 2000, \"country\": \"El Salvador\", \"cluster\": 3, \"pop\": 6122515, \"life_expect\": 70.734, \"fertility\": 2.883}, {\"year\": 2000, \"country\": \"Finland\", \"cluster\": 1, \"pop\": 5168595, \"life_expect\": 78.37, \"fertility\": 1.754}, {\"year\": 2000, \"country\": \"France\", \"cluster\": 1, \"pop\": 59381628, \"life_expect\": 79.59, \"fertility\": 1.8833000000000002}, {\"year\": 2000, \"country\": \"Georgia\", \"cluster\": 1, \"pop\": 4777209, \"life_expect\": 70.476, \"fertility\": 1.478}, {\"year\": 2000, \"country\": \"Germany\", \"cluster\": 1, \"pop\": 82187909, \"life_expect\": 78.67, \"fertility\": 1.346}, {\"year\": 2000, \"country\": \"Greece\", \"cluster\": 1, \"pop\": 10559110, \"life_expect\": 78.256, \"fertility\": 1.2770000000000001}, {\"year\": 2000, \"country\": \"Grenada\", \"cluster\": 3, \"pop\": 89312, \"life_expect\": 67.746, \"fertility\": 2.429}, {\"year\": 2000, \"country\": \"Haiti\", \"cluster\": 3, \"pop\": 7306302, \"life_expect\": 58.137, \"fertility\": 4.0}, {\"year\": 2000, \"country\": \"Hong Kong\", \"cluster\": 4, \"pop\": 6658720, \"life_expect\": 81.495, \"fertility\": 0.9400000000000001}, {\"year\": 2000, \"country\": \"Iceland\", \"cluster\": 1, \"pop\": 281043, \"life_expect\": 80.5, \"fertility\": 1.9929999999999999}, {\"year\": 2000, \"country\": \"India\", \"cluster\": 0, \"pop\": 1007702000, \"life_expect\": 62.879, \"fertility\": 3.1132}, {\"year\": 2000, \"country\": \"Indonesia\", \"cluster\": 4, \"pop\": 206265000, \"life_expect\": 68.588, \"fertility\": 2.3761}, {\"year\": 2000, \"country\": \"Iran\", \"cluster\": 5, \"pop\": 65660289, \"life_expect\": 69.451, \"fertility\": 2.124}, {\"year\": 2000, \"country\": \"Iraq\", \"cluster\": 5, \"pop\": 22675617, \"life_expect\": 57.046, \"fertility\": 4.858}, {\"year\": 2000, \"country\": \"Ireland\", \"cluster\": 1, \"pop\": 3791690, \"life_expect\": 77.783, \"fertility\": 1.9689999999999999}, {\"year\": 2000, \"country\": \"Israel\", \"cluster\": 5, \"pop\": 5842454, \"life_expect\": 79.696, \"fertility\": 2.906}, {\"year\": 2000, \"country\": \"Italy\", \"cluster\": 1, \"pop\": 57719337, \"life_expect\": 80.24, \"fertility\": 1.286}, {\"year\": 2000, \"country\": \"Jamaica\", \"cluster\": 3, \"pop\": 2615467, \"life_expect\": 72.047, \"fertility\": 2.628}, {\"year\": 2000, \"country\": \"Japan\", \"cluster\": 4, \"pop\": 126699784, \"life_expect\": 82.0, \"fertility\": 1.291}, {\"year\": 2000, \"country\": \"Kenya\", \"cluster\": 2, \"pop\": 29985839, \"life_expect\": 50.992, \"fertility\": 5.0}, {\"year\": 2000, \"country\": \"South Korea\", \"cluster\": 4, \"pop\": 21647682, \"life_expect\": 66.662, \"fertility\": 1.9173}, {\"year\": 2000, \"country\": \"North Korea\", \"cluster\": 4, \"pop\": 47351083, \"life_expect\": 77.045, \"fertility\": 1.242}, {\"year\": 2000, \"country\": \"Lebanon\", \"cluster\": 5, \"pop\": 3578036, \"life_expect\": 71.028, \"fertility\": 2.319}, {\"year\": 2000, \"country\": \"Mexico\", \"cluster\": 3, \"pop\": 99926620, \"life_expect\": 74.902, \"fertility\": 2.4005}, {\"year\": 2000, \"country\": \"Netherlands\", \"cluster\": 1, \"pop\": 15907853, \"life_expect\": 78.53, \"fertility\": 1.726}, {\"year\": 2000, \"country\": \"New Zealand\", \"cluster\": 4, \"pop\": 3819762, \"life_expect\": 79.11, \"fertility\": 1.964}, {\"year\": 2000, \"country\": \"Nigeria\", \"cluster\": 2, \"pop\": 114306700, \"life_expect\": 46.608, \"fertility\": 5.845}, {\"year\": 2000, \"country\": \"Norway\", \"cluster\": 1, \"pop\": 4492400, \"life_expect\": 79.05, \"fertility\": 1.8010000000000002}, {\"year\": 2000, \"country\": \"Pakistan\", \"cluster\": 0, \"pop\": 146342958, \"life_expect\": 63.61, \"fertility\": 3.9936}, {\"year\": 2000, \"country\": \"Peru\", \"cluster\": 3, \"pop\": 25979722, \"life_expect\": 69.906, \"fertility\": 2.7005}, {\"year\": 2000, \"country\": \"Philippines\", \"cluster\": 4, \"pop\": 79739825, \"life_expect\": 70.303, \"fertility\": 3.5436}, {\"year\": 2000, \"country\": \"Poland\", \"cluster\": 1, \"pop\": 38654164, \"life_expect\": 74.67, \"fertility\": 1.251}, {\"year\": 2000, \"country\": \"Portugal\", \"cluster\": 1, \"pop\": 10335597, \"life_expect\": 77.29, \"fertility\": 1.454}, {\"year\": 2000, \"country\": \"Rwanda\", \"cluster\": 2, \"pop\": 7507056, \"life_expect\": 43.413, \"fertility\": 6.01}, {\"year\": 2000, \"country\": \"Saudi Arabia\", \"cluster\": 5, \"pop\": 23153090, \"life_expect\": 71.626, \"fertility\": 3.81}, {\"year\": 2000, \"country\": \"South Africa\", \"cluster\": 2, \"pop\": 44066197, \"life_expect\": 53.365, \"fertility\": 2.802}, {\"year\": 2000, \"country\": \"Spain\", \"cluster\": 1, \"pop\": 40016081, \"life_expect\": 79.78, \"fertility\": 1.287}, {\"year\": 2000, \"country\": \"Switzerland\", \"cluster\": 1, \"pop\": 7266920, \"life_expect\": 80.62, \"fertility\": 1.415}, {\"year\": 2000, \"country\": \"Turkey\", \"cluster\": 1, \"pop\": 65666677, \"life_expect\": 70.845, \"fertility\": 2.23}, {\"year\": 2000, \"country\": \"United Kingdom\", \"cluster\": 1, \"pop\": 59522468, \"life_expect\": 78.471, \"fertility\": 1.695}, {\"year\": 2000, \"country\": \"United States\", \"cluster\": 3, \"pop\": 282338631, \"life_expect\": 77.31, \"fertility\": 2.038}, {\"year\": 2000, \"country\": \"Venezuela\", \"cluster\": 3, \"pop\": 23542649, \"life_expect\": 72.766, \"fertility\": 2.723}]}}, {\"mode\": \"vega-lite\"});\n",
              "</script>"
            ],
            "text/plain": [
              "alt.Chart(...)"
            ]
          },
          "metadata": {},
          "execution_count": 9
        }
      ]
    },
    {
      "cell_type": "markdown",
      "source": [
        "In some of the smaller dots, it's difficult to see the color, so one thing we could add is a black border around the dots to see if that will help them stand out. For this, we can specify the `stroke` parameter within `mark_circle()`."
      ],
      "metadata": {
        "id": "reZPJn6W-Qxr"
      }
    },
    {
      "cell_type": "code",
      "source": [
        "alt.Chart(data_2000).mark_circle(stroke = 'black').encode(\n",
        "    x = alt.X('fertility:Q', axis = alt.Axis(grid = False)),\n",
        "    y = alt.Y('life_expect:Q', axis = alt.Axis(grid = False)),\n",
        "    color = alt.Color('cluster:N', scale = alt.Scale(scheme = 'set1' )),\n",
        "    size = 'pop:Q'\n",
        ")"
      ],
      "metadata": {
        "id": "jlcvx-uV-VHl",
        "outputId": "b06100ce-c354-43b4-e3c9-45f112bd54db",
        "colab": {
          "base_uri": "https://localhost:8080/",
          "height": 423
        }
      },
      "execution_count": 10,
      "outputs": [
        {
          "output_type": "stream",
          "name": "stderr",
          "text": [
            "/usr/local/lib/python3.10/dist-packages/altair/utils/core.py:384: FutureWarning: the convert_dtype parameter is deprecated and will be removed in a future version.  Do ``ser.astype(object).apply()`` instead if you want ``convert_dtype=False``.\n",
            "  col = df[col_name].apply(to_list_if_array, convert_dtype=False)\n"
          ]
        },
        {
          "output_type": "execute_result",
          "data": {
            "text/html": [
              "\n",
              "<div id=\"altair-viz-96a03a30dc8b4d319b07d41a048ac9f5\"></div>\n",
              "<script type=\"text/javascript\">\n",
              "  var VEGA_DEBUG = (typeof VEGA_DEBUG == \"undefined\") ? {} : VEGA_DEBUG;\n",
              "  (function(spec, embedOpt){\n",
              "    let outputDiv = document.currentScript.previousElementSibling;\n",
              "    if (outputDiv.id !== \"altair-viz-96a03a30dc8b4d319b07d41a048ac9f5\") {\n",
              "      outputDiv = document.getElementById(\"altair-viz-96a03a30dc8b4d319b07d41a048ac9f5\");\n",
              "    }\n",
              "    const paths = {\n",
              "      \"vega\": \"https://cdn.jsdelivr.net/npm//vega@5?noext\",\n",
              "      \"vega-lib\": \"https://cdn.jsdelivr.net/npm//vega-lib?noext\",\n",
              "      \"vega-lite\": \"https://cdn.jsdelivr.net/npm//vega-lite@4.17.0?noext\",\n",
              "      \"vega-embed\": \"https://cdn.jsdelivr.net/npm//vega-embed@6?noext\",\n",
              "    };\n",
              "\n",
              "    function maybeLoadScript(lib, version) {\n",
              "      var key = `${lib.replace(\"-\", \"\")}_version`;\n",
              "      return (VEGA_DEBUG[key] == version) ?\n",
              "        Promise.resolve(paths[lib]) :\n",
              "        new Promise(function(resolve, reject) {\n",
              "          var s = document.createElement('script');\n",
              "          document.getElementsByTagName(\"head\")[0].appendChild(s);\n",
              "          s.async = true;\n",
              "          s.onload = () => {\n",
              "            VEGA_DEBUG[key] = version;\n",
              "            return resolve(paths[lib]);\n",
              "          };\n",
              "          s.onerror = () => reject(`Error loading script: ${paths[lib]}`);\n",
              "          s.src = paths[lib];\n",
              "        });\n",
              "    }\n",
              "\n",
              "    function showError(err) {\n",
              "      outputDiv.innerHTML = `<div class=\"error\" style=\"color:red;\">${err}</div>`;\n",
              "      throw err;\n",
              "    }\n",
              "\n",
              "    function displayChart(vegaEmbed) {\n",
              "      vegaEmbed(outputDiv, spec, embedOpt)\n",
              "        .catch(err => showError(`Javascript Error: ${err.message}<br>This usually means there's a typo in your chart specification. See the javascript console for the full traceback.`));\n",
              "    }\n",
              "\n",
              "    if(typeof define === \"function\" && define.amd) {\n",
              "      requirejs.config({paths});\n",
              "      require([\"vega-embed\"], displayChart, err => showError(`Error loading script: ${err.message}`));\n",
              "    } else {\n",
              "      maybeLoadScript(\"vega\", \"5\")\n",
              "        .then(() => maybeLoadScript(\"vega-lite\", \"4.17.0\"))\n",
              "        .then(() => maybeLoadScript(\"vega-embed\", \"6\"))\n",
              "        .catch(showError)\n",
              "        .then(() => displayChart(vegaEmbed));\n",
              "    }\n",
              "  })({\"config\": {\"view\": {\"continuousWidth\": 400, \"continuousHeight\": 300}}, \"data\": {\"name\": \"data-fdeb0b749a6385830bd1445d39ad6ea0\"}, \"mark\": {\"type\": \"circle\", \"stroke\": \"black\"}, \"encoding\": {\"color\": {\"field\": \"cluster\", \"scale\": {\"scheme\": \"set1\"}, \"type\": \"nominal\"}, \"size\": {\"field\": \"pop\", \"type\": \"quantitative\"}, \"x\": {\"axis\": {\"grid\": false}, \"field\": \"fertility\", \"type\": \"quantitative\"}, \"y\": {\"axis\": {\"grid\": false}, \"field\": \"life_expect\", \"type\": \"quantitative\"}}, \"$schema\": \"https://vega.github.io/schema/vega-lite/v4.17.0.json\", \"datasets\": {\"data-fdeb0b749a6385830bd1445d39ad6ea0\": [{\"year\": 2000, \"country\": \"Afghanistan\", \"cluster\": 0, \"pop\": 23898198, \"life_expect\": 42.129, \"fertility\": 7.4792}, {\"year\": 2000, \"country\": \"Argentina\", \"cluster\": 3, \"pop\": 37497728, \"life_expect\": 74.34, \"fertility\": 2.35}, {\"year\": 2000, \"country\": \"Aruba\", \"cluster\": 3, \"pop\": 69539, \"life_expect\": 73.451, \"fertility\": 2.124}, {\"year\": 2000, \"country\": \"Australia\", \"cluster\": 4, \"pop\": 19164620, \"life_expect\": 80.37, \"fertility\": 1.756}, {\"year\": 2000, \"country\": \"Austria\", \"cluster\": 1, \"pop\": 8113413, \"life_expect\": 78.98, \"fertility\": 1.3820000000000001}, {\"year\": 2000, \"country\": \"Bahamas\", \"cluster\": 3, \"pop\": 290075, \"life_expect\": 71.068, \"fertility\": 2.1111}, {\"year\": 2000, \"country\": \"Bangladesh\", \"cluster\": 0, \"pop\": 130406594, \"life_expect\": 62.013, \"fertility\": 3.224}, {\"year\": 2000, \"country\": \"Barbados\", \"cluster\": 3, \"pop\": 273483, \"life_expect\": 75.97, \"fertility\": 1.5}, {\"year\": 2000, \"country\": \"Belgium\", \"cluster\": 1, \"pop\": 10263618, \"life_expect\": 78.32, \"fertility\": 1.638}, {\"year\": 2000, \"country\": \"Bolivia\", \"cluster\": 3, \"pop\": 8152620, \"life_expect\": 63.883, \"fertility\": 3.9585}, {\"year\": 2000, \"country\": \"Brazil\", \"cluster\": 3, \"pop\": 175552771, \"life_expect\": 71.006, \"fertility\": 2.345}, {\"year\": 2000, \"country\": \"Canada\", \"cluster\": 3, \"pop\": 31278097, \"life_expect\": 79.77, \"fertility\": 1.522}, {\"year\": 2000, \"country\": \"Chile\", \"cluster\": 3, \"pop\": 15153450, \"life_expect\": 77.86, \"fertility\": 2.0}, {\"year\": 2000, \"country\": \"China\", \"cluster\": 4, \"pop\": 1262645000, \"life_expect\": 72.028, \"fertility\": 1.7000000000000002}, {\"year\": 2000, \"country\": \"Colombia\", \"cluster\": 3, \"pop\": 39685655, \"life_expect\": 71.682, \"fertility\": 2.4705}, {\"year\": 2000, \"country\": \"Costa Rica\", \"cluster\": 3, \"pop\": 3710558, \"life_expect\": 78.123, \"fertility\": 2.2815}, {\"year\": 2000, \"country\": \"Croatia\", \"cluster\": 1, \"pop\": 4410830, \"life_expect\": 74.876, \"fertility\": 1.348}, {\"year\": 2000, \"country\": \"Cuba\", \"cluster\": 3, \"pop\": 11134273, \"life_expect\": 77.158, \"fertility\": 1.63}, {\"year\": 2000, \"country\": \"Dominican Republic\", \"cluster\": 3, \"pop\": 8385828, \"life_expect\": 70.847, \"fertility\": 2.95}, {\"year\": 2000, \"country\": \"Ecuador\", \"cluster\": 3, \"pop\": 12505204, \"life_expect\": 74.173, \"fertility\": 2.8175}, {\"year\": 2000, \"country\": \"Egypt\", \"cluster\": 5, \"pop\": 70492342, \"life_expect\": 69.806, \"fertility\": 3.174}, {\"year\": 2000, \"country\": \"El Salvador\", \"cluster\": 3, \"pop\": 6122515, \"life_expect\": 70.734, \"fertility\": 2.883}, {\"year\": 2000, \"country\": \"Finland\", \"cluster\": 1, \"pop\": 5168595, \"life_expect\": 78.37, \"fertility\": 1.754}, {\"year\": 2000, \"country\": \"France\", \"cluster\": 1, \"pop\": 59381628, \"life_expect\": 79.59, \"fertility\": 1.8833000000000002}, {\"year\": 2000, \"country\": \"Georgia\", \"cluster\": 1, \"pop\": 4777209, \"life_expect\": 70.476, \"fertility\": 1.478}, {\"year\": 2000, \"country\": \"Germany\", \"cluster\": 1, \"pop\": 82187909, \"life_expect\": 78.67, \"fertility\": 1.346}, {\"year\": 2000, \"country\": \"Greece\", \"cluster\": 1, \"pop\": 10559110, \"life_expect\": 78.256, \"fertility\": 1.2770000000000001}, {\"year\": 2000, \"country\": \"Grenada\", \"cluster\": 3, \"pop\": 89312, \"life_expect\": 67.746, \"fertility\": 2.429}, {\"year\": 2000, \"country\": \"Haiti\", \"cluster\": 3, \"pop\": 7306302, \"life_expect\": 58.137, \"fertility\": 4.0}, {\"year\": 2000, \"country\": \"Hong Kong\", \"cluster\": 4, \"pop\": 6658720, \"life_expect\": 81.495, \"fertility\": 0.9400000000000001}, {\"year\": 2000, \"country\": \"Iceland\", \"cluster\": 1, \"pop\": 281043, \"life_expect\": 80.5, \"fertility\": 1.9929999999999999}, {\"year\": 2000, \"country\": \"India\", \"cluster\": 0, \"pop\": 1007702000, \"life_expect\": 62.879, \"fertility\": 3.1132}, {\"year\": 2000, \"country\": \"Indonesia\", \"cluster\": 4, \"pop\": 206265000, \"life_expect\": 68.588, \"fertility\": 2.3761}, {\"year\": 2000, \"country\": \"Iran\", \"cluster\": 5, \"pop\": 65660289, \"life_expect\": 69.451, \"fertility\": 2.124}, {\"year\": 2000, \"country\": \"Iraq\", \"cluster\": 5, \"pop\": 22675617, \"life_expect\": 57.046, \"fertility\": 4.858}, {\"year\": 2000, \"country\": \"Ireland\", \"cluster\": 1, \"pop\": 3791690, \"life_expect\": 77.783, \"fertility\": 1.9689999999999999}, {\"year\": 2000, \"country\": \"Israel\", \"cluster\": 5, \"pop\": 5842454, \"life_expect\": 79.696, \"fertility\": 2.906}, {\"year\": 2000, \"country\": \"Italy\", \"cluster\": 1, \"pop\": 57719337, \"life_expect\": 80.24, \"fertility\": 1.286}, {\"year\": 2000, \"country\": \"Jamaica\", \"cluster\": 3, \"pop\": 2615467, \"life_expect\": 72.047, \"fertility\": 2.628}, {\"year\": 2000, \"country\": \"Japan\", \"cluster\": 4, \"pop\": 126699784, \"life_expect\": 82.0, \"fertility\": 1.291}, {\"year\": 2000, \"country\": \"Kenya\", \"cluster\": 2, \"pop\": 29985839, \"life_expect\": 50.992, \"fertility\": 5.0}, {\"year\": 2000, \"country\": \"South Korea\", \"cluster\": 4, \"pop\": 21647682, \"life_expect\": 66.662, \"fertility\": 1.9173}, {\"year\": 2000, \"country\": \"North Korea\", \"cluster\": 4, \"pop\": 47351083, \"life_expect\": 77.045, \"fertility\": 1.242}, {\"year\": 2000, \"country\": \"Lebanon\", \"cluster\": 5, \"pop\": 3578036, \"life_expect\": 71.028, \"fertility\": 2.319}, {\"year\": 2000, \"country\": \"Mexico\", \"cluster\": 3, \"pop\": 99926620, \"life_expect\": 74.902, \"fertility\": 2.4005}, {\"year\": 2000, \"country\": \"Netherlands\", \"cluster\": 1, \"pop\": 15907853, \"life_expect\": 78.53, \"fertility\": 1.726}, {\"year\": 2000, \"country\": \"New Zealand\", \"cluster\": 4, \"pop\": 3819762, \"life_expect\": 79.11, \"fertility\": 1.964}, {\"year\": 2000, \"country\": \"Nigeria\", \"cluster\": 2, \"pop\": 114306700, \"life_expect\": 46.608, \"fertility\": 5.845}, {\"year\": 2000, \"country\": \"Norway\", \"cluster\": 1, \"pop\": 4492400, \"life_expect\": 79.05, \"fertility\": 1.8010000000000002}, {\"year\": 2000, \"country\": \"Pakistan\", \"cluster\": 0, \"pop\": 146342958, \"life_expect\": 63.61, \"fertility\": 3.9936}, {\"year\": 2000, \"country\": \"Peru\", \"cluster\": 3, \"pop\": 25979722, \"life_expect\": 69.906, \"fertility\": 2.7005}, {\"year\": 2000, \"country\": \"Philippines\", \"cluster\": 4, \"pop\": 79739825, \"life_expect\": 70.303, \"fertility\": 3.5436}, {\"year\": 2000, \"country\": \"Poland\", \"cluster\": 1, \"pop\": 38654164, \"life_expect\": 74.67, \"fertility\": 1.251}, {\"year\": 2000, \"country\": \"Portugal\", \"cluster\": 1, \"pop\": 10335597, \"life_expect\": 77.29, \"fertility\": 1.454}, {\"year\": 2000, \"country\": \"Rwanda\", \"cluster\": 2, \"pop\": 7507056, \"life_expect\": 43.413, \"fertility\": 6.01}, {\"year\": 2000, \"country\": \"Saudi Arabia\", \"cluster\": 5, \"pop\": 23153090, \"life_expect\": 71.626, \"fertility\": 3.81}, {\"year\": 2000, \"country\": \"South Africa\", \"cluster\": 2, \"pop\": 44066197, \"life_expect\": 53.365, \"fertility\": 2.802}, {\"year\": 2000, \"country\": \"Spain\", \"cluster\": 1, \"pop\": 40016081, \"life_expect\": 79.78, \"fertility\": 1.287}, {\"year\": 2000, \"country\": \"Switzerland\", \"cluster\": 1, \"pop\": 7266920, \"life_expect\": 80.62, \"fertility\": 1.415}, {\"year\": 2000, \"country\": \"Turkey\", \"cluster\": 1, \"pop\": 65666677, \"life_expect\": 70.845, \"fertility\": 2.23}, {\"year\": 2000, \"country\": \"United Kingdom\", \"cluster\": 1, \"pop\": 59522468, \"life_expect\": 78.471, \"fertility\": 1.695}, {\"year\": 2000, \"country\": \"United States\", \"cluster\": 3, \"pop\": 282338631, \"life_expect\": 77.31, \"fertility\": 2.038}, {\"year\": 2000, \"country\": \"Venezuela\", \"cluster\": 3, \"pop\": 23542649, \"life_expect\": 72.766, \"fertility\": 2.723}]}}, {\"mode\": \"vega-lite\"});\n",
              "</script>"
            ],
            "text/plain": [
              "alt.Chart(...)"
            ]
          },
          "metadata": {},
          "execution_count": 10
        }
      ]
    },
    {
      "cell_type": "markdown",
      "source": [
        "Other customizations to the stroke and fill can be used, see the [Color Properties](https://altair-viz.github.io/user_guide/marks/index.html#color-properties) and [Stroke Style Properties](https://altair-viz.github.io/user_guide/marks/index.html#stroke-style-properties) section from the [Mark](https://altair-viz.github.io/user_guide/marks/index.html#marks) documentation.\n",
        "\n",
        "Below, we'll increase the stroke width and reduce the opacity of the fill."
      ],
      "metadata": {
        "id": "9Ox55tk9_BrM"
      }
    },
    {
      "cell_type": "code",
      "source": [
        "(\n",
        "  alt.Chart(data_2000).mark_circle(stroke = 'black',\n",
        "                                   strokeWidth = 3,\n",
        "                                   fillOpacity = 0.5).encode(\n",
        "    x = alt.X('fertility:Q', axis = alt.Axis(grid = False)),\n",
        "    y = alt.Y('life_expect:Q', axis = alt.Axis(grid = False)),\n",
        "    color = alt.Color('cluster:N', scale = alt.Scale(scheme = 'set1')),\n",
        "    size = 'pop:Q'\n",
        "  )\n",
        ")"
      ],
      "metadata": {
        "id": "zgF4-jSk_xSW",
        "outputId": "5c566232-f8d8-4e7a-d667-aa6802b2608d",
        "colab": {
          "base_uri": "https://localhost:8080/",
          "height": 423
        }
      },
      "execution_count": 11,
      "outputs": [
        {
          "output_type": "stream",
          "name": "stderr",
          "text": [
            "/usr/local/lib/python3.10/dist-packages/altair/utils/core.py:384: FutureWarning: the convert_dtype parameter is deprecated and will be removed in a future version.  Do ``ser.astype(object).apply()`` instead if you want ``convert_dtype=False``.\n",
            "  col = df[col_name].apply(to_list_if_array, convert_dtype=False)\n"
          ]
        },
        {
          "output_type": "execute_result",
          "data": {
            "text/html": [
              "\n",
              "<div id=\"altair-viz-a32bbc7ca2584a2aa8f6cb6f090b2312\"></div>\n",
              "<script type=\"text/javascript\">\n",
              "  var VEGA_DEBUG = (typeof VEGA_DEBUG == \"undefined\") ? {} : VEGA_DEBUG;\n",
              "  (function(spec, embedOpt){\n",
              "    let outputDiv = document.currentScript.previousElementSibling;\n",
              "    if (outputDiv.id !== \"altair-viz-a32bbc7ca2584a2aa8f6cb6f090b2312\") {\n",
              "      outputDiv = document.getElementById(\"altair-viz-a32bbc7ca2584a2aa8f6cb6f090b2312\");\n",
              "    }\n",
              "    const paths = {\n",
              "      \"vega\": \"https://cdn.jsdelivr.net/npm//vega@5?noext\",\n",
              "      \"vega-lib\": \"https://cdn.jsdelivr.net/npm//vega-lib?noext\",\n",
              "      \"vega-lite\": \"https://cdn.jsdelivr.net/npm//vega-lite@4.17.0?noext\",\n",
              "      \"vega-embed\": \"https://cdn.jsdelivr.net/npm//vega-embed@6?noext\",\n",
              "    };\n",
              "\n",
              "    function maybeLoadScript(lib, version) {\n",
              "      var key = `${lib.replace(\"-\", \"\")}_version`;\n",
              "      return (VEGA_DEBUG[key] == version) ?\n",
              "        Promise.resolve(paths[lib]) :\n",
              "        new Promise(function(resolve, reject) {\n",
              "          var s = document.createElement('script');\n",
              "          document.getElementsByTagName(\"head\")[0].appendChild(s);\n",
              "          s.async = true;\n",
              "          s.onload = () => {\n",
              "            VEGA_DEBUG[key] = version;\n",
              "            return resolve(paths[lib]);\n",
              "          };\n",
              "          s.onerror = () => reject(`Error loading script: ${paths[lib]}`);\n",
              "          s.src = paths[lib];\n",
              "        });\n",
              "    }\n",
              "\n",
              "    function showError(err) {\n",
              "      outputDiv.innerHTML = `<div class=\"error\" style=\"color:red;\">${err}</div>`;\n",
              "      throw err;\n",
              "    }\n",
              "\n",
              "    function displayChart(vegaEmbed) {\n",
              "      vegaEmbed(outputDiv, spec, embedOpt)\n",
              "        .catch(err => showError(`Javascript Error: ${err.message}<br>This usually means there's a typo in your chart specification. See the javascript console for the full traceback.`));\n",
              "    }\n",
              "\n",
              "    if(typeof define === \"function\" && define.amd) {\n",
              "      requirejs.config({paths});\n",
              "      require([\"vega-embed\"], displayChart, err => showError(`Error loading script: ${err.message}`));\n",
              "    } else {\n",
              "      maybeLoadScript(\"vega\", \"5\")\n",
              "        .then(() => maybeLoadScript(\"vega-lite\", \"4.17.0\"))\n",
              "        .then(() => maybeLoadScript(\"vega-embed\", \"6\"))\n",
              "        .catch(showError)\n",
              "        .then(() => displayChart(vegaEmbed));\n",
              "    }\n",
              "  })({\"config\": {\"view\": {\"continuousWidth\": 400, \"continuousHeight\": 300}}, \"data\": {\"name\": \"data-fdeb0b749a6385830bd1445d39ad6ea0\"}, \"mark\": {\"type\": \"circle\", \"fillOpacity\": 0.5, \"stroke\": \"black\", \"strokeWidth\": 3}, \"encoding\": {\"color\": {\"field\": \"cluster\", \"scale\": {\"scheme\": \"set1\"}, \"type\": \"nominal\"}, \"size\": {\"field\": \"pop\", \"type\": \"quantitative\"}, \"x\": {\"axis\": {\"grid\": false}, \"field\": \"fertility\", \"type\": \"quantitative\"}, \"y\": {\"axis\": {\"grid\": false}, \"field\": \"life_expect\", \"type\": \"quantitative\"}}, \"$schema\": \"https://vega.github.io/schema/vega-lite/v4.17.0.json\", \"datasets\": {\"data-fdeb0b749a6385830bd1445d39ad6ea0\": [{\"year\": 2000, \"country\": \"Afghanistan\", \"cluster\": 0, \"pop\": 23898198, \"life_expect\": 42.129, \"fertility\": 7.4792}, {\"year\": 2000, \"country\": \"Argentina\", \"cluster\": 3, \"pop\": 37497728, \"life_expect\": 74.34, \"fertility\": 2.35}, {\"year\": 2000, \"country\": \"Aruba\", \"cluster\": 3, \"pop\": 69539, \"life_expect\": 73.451, \"fertility\": 2.124}, {\"year\": 2000, \"country\": \"Australia\", \"cluster\": 4, \"pop\": 19164620, \"life_expect\": 80.37, \"fertility\": 1.756}, {\"year\": 2000, \"country\": \"Austria\", \"cluster\": 1, \"pop\": 8113413, \"life_expect\": 78.98, \"fertility\": 1.3820000000000001}, {\"year\": 2000, \"country\": \"Bahamas\", \"cluster\": 3, \"pop\": 290075, \"life_expect\": 71.068, \"fertility\": 2.1111}, {\"year\": 2000, \"country\": \"Bangladesh\", \"cluster\": 0, \"pop\": 130406594, \"life_expect\": 62.013, \"fertility\": 3.224}, {\"year\": 2000, \"country\": \"Barbados\", \"cluster\": 3, \"pop\": 273483, \"life_expect\": 75.97, \"fertility\": 1.5}, {\"year\": 2000, \"country\": \"Belgium\", \"cluster\": 1, \"pop\": 10263618, \"life_expect\": 78.32, \"fertility\": 1.638}, {\"year\": 2000, \"country\": \"Bolivia\", \"cluster\": 3, \"pop\": 8152620, \"life_expect\": 63.883, \"fertility\": 3.9585}, {\"year\": 2000, \"country\": \"Brazil\", \"cluster\": 3, \"pop\": 175552771, \"life_expect\": 71.006, \"fertility\": 2.345}, {\"year\": 2000, \"country\": \"Canada\", \"cluster\": 3, \"pop\": 31278097, \"life_expect\": 79.77, \"fertility\": 1.522}, {\"year\": 2000, \"country\": \"Chile\", \"cluster\": 3, \"pop\": 15153450, \"life_expect\": 77.86, \"fertility\": 2.0}, {\"year\": 2000, \"country\": \"China\", \"cluster\": 4, \"pop\": 1262645000, \"life_expect\": 72.028, \"fertility\": 1.7000000000000002}, {\"year\": 2000, \"country\": \"Colombia\", \"cluster\": 3, \"pop\": 39685655, \"life_expect\": 71.682, \"fertility\": 2.4705}, {\"year\": 2000, \"country\": \"Costa Rica\", \"cluster\": 3, \"pop\": 3710558, \"life_expect\": 78.123, \"fertility\": 2.2815}, {\"year\": 2000, \"country\": \"Croatia\", \"cluster\": 1, \"pop\": 4410830, \"life_expect\": 74.876, \"fertility\": 1.348}, {\"year\": 2000, \"country\": \"Cuba\", \"cluster\": 3, \"pop\": 11134273, \"life_expect\": 77.158, \"fertility\": 1.63}, {\"year\": 2000, \"country\": \"Dominican Republic\", \"cluster\": 3, \"pop\": 8385828, \"life_expect\": 70.847, \"fertility\": 2.95}, {\"year\": 2000, \"country\": \"Ecuador\", \"cluster\": 3, \"pop\": 12505204, \"life_expect\": 74.173, \"fertility\": 2.8175}, {\"year\": 2000, \"country\": \"Egypt\", \"cluster\": 5, \"pop\": 70492342, \"life_expect\": 69.806, \"fertility\": 3.174}, {\"year\": 2000, \"country\": \"El Salvador\", \"cluster\": 3, \"pop\": 6122515, \"life_expect\": 70.734, \"fertility\": 2.883}, {\"year\": 2000, \"country\": \"Finland\", \"cluster\": 1, \"pop\": 5168595, \"life_expect\": 78.37, \"fertility\": 1.754}, {\"year\": 2000, \"country\": \"France\", \"cluster\": 1, \"pop\": 59381628, \"life_expect\": 79.59, \"fertility\": 1.8833000000000002}, {\"year\": 2000, \"country\": \"Georgia\", \"cluster\": 1, \"pop\": 4777209, \"life_expect\": 70.476, \"fertility\": 1.478}, {\"year\": 2000, \"country\": \"Germany\", \"cluster\": 1, \"pop\": 82187909, \"life_expect\": 78.67, \"fertility\": 1.346}, {\"year\": 2000, \"country\": \"Greece\", \"cluster\": 1, \"pop\": 10559110, \"life_expect\": 78.256, \"fertility\": 1.2770000000000001}, {\"year\": 2000, \"country\": \"Grenada\", \"cluster\": 3, \"pop\": 89312, \"life_expect\": 67.746, \"fertility\": 2.429}, {\"year\": 2000, \"country\": \"Haiti\", \"cluster\": 3, \"pop\": 7306302, \"life_expect\": 58.137, \"fertility\": 4.0}, {\"year\": 2000, \"country\": \"Hong Kong\", \"cluster\": 4, \"pop\": 6658720, \"life_expect\": 81.495, \"fertility\": 0.9400000000000001}, {\"year\": 2000, \"country\": \"Iceland\", \"cluster\": 1, \"pop\": 281043, \"life_expect\": 80.5, \"fertility\": 1.9929999999999999}, {\"year\": 2000, \"country\": \"India\", \"cluster\": 0, \"pop\": 1007702000, \"life_expect\": 62.879, \"fertility\": 3.1132}, {\"year\": 2000, \"country\": \"Indonesia\", \"cluster\": 4, \"pop\": 206265000, \"life_expect\": 68.588, \"fertility\": 2.3761}, {\"year\": 2000, \"country\": \"Iran\", \"cluster\": 5, \"pop\": 65660289, \"life_expect\": 69.451, \"fertility\": 2.124}, {\"year\": 2000, \"country\": \"Iraq\", \"cluster\": 5, \"pop\": 22675617, \"life_expect\": 57.046, \"fertility\": 4.858}, {\"year\": 2000, \"country\": \"Ireland\", \"cluster\": 1, \"pop\": 3791690, \"life_expect\": 77.783, \"fertility\": 1.9689999999999999}, {\"year\": 2000, \"country\": \"Israel\", \"cluster\": 5, \"pop\": 5842454, \"life_expect\": 79.696, \"fertility\": 2.906}, {\"year\": 2000, \"country\": \"Italy\", \"cluster\": 1, \"pop\": 57719337, \"life_expect\": 80.24, \"fertility\": 1.286}, {\"year\": 2000, \"country\": \"Jamaica\", \"cluster\": 3, \"pop\": 2615467, \"life_expect\": 72.047, \"fertility\": 2.628}, {\"year\": 2000, \"country\": \"Japan\", \"cluster\": 4, \"pop\": 126699784, \"life_expect\": 82.0, \"fertility\": 1.291}, {\"year\": 2000, \"country\": \"Kenya\", \"cluster\": 2, \"pop\": 29985839, \"life_expect\": 50.992, \"fertility\": 5.0}, {\"year\": 2000, \"country\": \"South Korea\", \"cluster\": 4, \"pop\": 21647682, \"life_expect\": 66.662, \"fertility\": 1.9173}, {\"year\": 2000, \"country\": \"North Korea\", \"cluster\": 4, \"pop\": 47351083, \"life_expect\": 77.045, \"fertility\": 1.242}, {\"year\": 2000, \"country\": \"Lebanon\", \"cluster\": 5, \"pop\": 3578036, \"life_expect\": 71.028, \"fertility\": 2.319}, {\"year\": 2000, \"country\": \"Mexico\", \"cluster\": 3, \"pop\": 99926620, \"life_expect\": 74.902, \"fertility\": 2.4005}, {\"year\": 2000, \"country\": \"Netherlands\", \"cluster\": 1, \"pop\": 15907853, \"life_expect\": 78.53, \"fertility\": 1.726}, {\"year\": 2000, \"country\": \"New Zealand\", \"cluster\": 4, \"pop\": 3819762, \"life_expect\": 79.11, \"fertility\": 1.964}, {\"year\": 2000, \"country\": \"Nigeria\", \"cluster\": 2, \"pop\": 114306700, \"life_expect\": 46.608, \"fertility\": 5.845}, {\"year\": 2000, \"country\": \"Norway\", \"cluster\": 1, \"pop\": 4492400, \"life_expect\": 79.05, \"fertility\": 1.8010000000000002}, {\"year\": 2000, \"country\": \"Pakistan\", \"cluster\": 0, \"pop\": 146342958, \"life_expect\": 63.61, \"fertility\": 3.9936}, {\"year\": 2000, \"country\": \"Peru\", \"cluster\": 3, \"pop\": 25979722, \"life_expect\": 69.906, \"fertility\": 2.7005}, {\"year\": 2000, \"country\": \"Philippines\", \"cluster\": 4, \"pop\": 79739825, \"life_expect\": 70.303, \"fertility\": 3.5436}, {\"year\": 2000, \"country\": \"Poland\", \"cluster\": 1, \"pop\": 38654164, \"life_expect\": 74.67, \"fertility\": 1.251}, {\"year\": 2000, \"country\": \"Portugal\", \"cluster\": 1, \"pop\": 10335597, \"life_expect\": 77.29, \"fertility\": 1.454}, {\"year\": 2000, \"country\": \"Rwanda\", \"cluster\": 2, \"pop\": 7507056, \"life_expect\": 43.413, \"fertility\": 6.01}, {\"year\": 2000, \"country\": \"Saudi Arabia\", \"cluster\": 5, \"pop\": 23153090, \"life_expect\": 71.626, \"fertility\": 3.81}, {\"year\": 2000, \"country\": \"South Africa\", \"cluster\": 2, \"pop\": 44066197, \"life_expect\": 53.365, \"fertility\": 2.802}, {\"year\": 2000, \"country\": \"Spain\", \"cluster\": 1, \"pop\": 40016081, \"life_expect\": 79.78, \"fertility\": 1.287}, {\"year\": 2000, \"country\": \"Switzerland\", \"cluster\": 1, \"pop\": 7266920, \"life_expect\": 80.62, \"fertility\": 1.415}, {\"year\": 2000, \"country\": \"Turkey\", \"cluster\": 1, \"pop\": 65666677, \"life_expect\": 70.845, \"fertility\": 2.23}, {\"year\": 2000, \"country\": \"United Kingdom\", \"cluster\": 1, \"pop\": 59522468, \"life_expect\": 78.471, \"fertility\": 1.695}, {\"year\": 2000, \"country\": \"United States\", \"cluster\": 3, \"pop\": 282338631, \"life_expect\": 77.31, \"fertility\": 2.038}, {\"year\": 2000, \"country\": \"Venezuela\", \"cluster\": 3, \"pop\": 23542649, \"life_expect\": 72.766, \"fertility\": 2.723}]}}, {\"mode\": \"vega-lite\"});\n",
              "</script>"
            ],
            "text/plain": [
              "alt.Chart(...)"
            ]
          },
          "metadata": {},
          "execution_count": 11
        }
      ]
    },
    {
      "cell_type": "markdown",
      "source": [
        "Next, let's look at adjusting the circle sizes. To provide a customized span of sizes, we can adjust the range of sizes used for population by setting the `range` parameter within `altair.Scale()` to an array indicating the smallest and largest sizes.\n",
        "\n",
        "Here we update the size encoding to range from 0 pixels (for zero values) to 1200 pixels (for the maximum value in the scale domain)."
      ],
      "metadata": {
        "id": "Y4sJu8u4Ap3I"
      }
    },
    {
      "cell_type": "code",
      "source": [
        "alt.Chart(data_2000).mark_circle().encode(\n",
        "    x = alt.X('fertility:Q', axis = alt.Axis(grid = False)),\n",
        "    y = alt.Y('life_expect:Q', axis = alt.Axis(grid = False)),\n",
        "    color = alt.Color('cluster:N'),\n",
        "    size = alt.Size('pop:Q', scale = alt.Scale(range = [0, 1200] ))\n",
        ")"
      ],
      "metadata": {
        "id": "SQbnAgvbCmDG",
        "outputId": "d031c77a-1a41-403a-81c2-55890caa0ed9",
        "colab": {
          "base_uri": "https://localhost:8080/",
          "height": 423
        }
      },
      "execution_count": 12,
      "outputs": [
        {
          "output_type": "stream",
          "name": "stderr",
          "text": [
            "/usr/local/lib/python3.10/dist-packages/altair/utils/core.py:384: FutureWarning: the convert_dtype parameter is deprecated and will be removed in a future version.  Do ``ser.astype(object).apply()`` instead if you want ``convert_dtype=False``.\n",
            "  col = df[col_name].apply(to_list_if_array, convert_dtype=False)\n"
          ]
        },
        {
          "output_type": "execute_result",
          "data": {
            "text/html": [
              "\n",
              "<div id=\"altair-viz-f2ac804ac7864c6eb21afe1c835dccef\"></div>\n",
              "<script type=\"text/javascript\">\n",
              "  var VEGA_DEBUG = (typeof VEGA_DEBUG == \"undefined\") ? {} : VEGA_DEBUG;\n",
              "  (function(spec, embedOpt){\n",
              "    let outputDiv = document.currentScript.previousElementSibling;\n",
              "    if (outputDiv.id !== \"altair-viz-f2ac804ac7864c6eb21afe1c835dccef\") {\n",
              "      outputDiv = document.getElementById(\"altair-viz-f2ac804ac7864c6eb21afe1c835dccef\");\n",
              "    }\n",
              "    const paths = {\n",
              "      \"vega\": \"https://cdn.jsdelivr.net/npm//vega@5?noext\",\n",
              "      \"vega-lib\": \"https://cdn.jsdelivr.net/npm//vega-lib?noext\",\n",
              "      \"vega-lite\": \"https://cdn.jsdelivr.net/npm//vega-lite@4.17.0?noext\",\n",
              "      \"vega-embed\": \"https://cdn.jsdelivr.net/npm//vega-embed@6?noext\",\n",
              "    };\n",
              "\n",
              "    function maybeLoadScript(lib, version) {\n",
              "      var key = `${lib.replace(\"-\", \"\")}_version`;\n",
              "      return (VEGA_DEBUG[key] == version) ?\n",
              "        Promise.resolve(paths[lib]) :\n",
              "        new Promise(function(resolve, reject) {\n",
              "          var s = document.createElement('script');\n",
              "          document.getElementsByTagName(\"head\")[0].appendChild(s);\n",
              "          s.async = true;\n",
              "          s.onload = () => {\n",
              "            VEGA_DEBUG[key] = version;\n",
              "            return resolve(paths[lib]);\n",
              "          };\n",
              "          s.onerror = () => reject(`Error loading script: ${paths[lib]}`);\n",
              "          s.src = paths[lib];\n",
              "        });\n",
              "    }\n",
              "\n",
              "    function showError(err) {\n",
              "      outputDiv.innerHTML = `<div class=\"error\" style=\"color:red;\">${err}</div>`;\n",
              "      throw err;\n",
              "    }\n",
              "\n",
              "    function displayChart(vegaEmbed) {\n",
              "      vegaEmbed(outputDiv, spec, embedOpt)\n",
              "        .catch(err => showError(`Javascript Error: ${err.message}<br>This usually means there's a typo in your chart specification. See the javascript console for the full traceback.`));\n",
              "    }\n",
              "\n",
              "    if(typeof define === \"function\" && define.amd) {\n",
              "      requirejs.config({paths});\n",
              "      require([\"vega-embed\"], displayChart, err => showError(`Error loading script: ${err.message}`));\n",
              "    } else {\n",
              "      maybeLoadScript(\"vega\", \"5\")\n",
              "        .then(() => maybeLoadScript(\"vega-lite\", \"4.17.0\"))\n",
              "        .then(() => maybeLoadScript(\"vega-embed\", \"6\"))\n",
              "        .catch(showError)\n",
              "        .then(() => displayChart(vegaEmbed));\n",
              "    }\n",
              "  })({\"config\": {\"view\": {\"continuousWidth\": 400, \"continuousHeight\": 300}}, \"data\": {\"name\": \"data-fdeb0b749a6385830bd1445d39ad6ea0\"}, \"mark\": \"circle\", \"encoding\": {\"color\": {\"field\": \"cluster\", \"type\": \"nominal\"}, \"size\": {\"field\": \"pop\", \"scale\": {\"range\": [0, 1200]}, \"type\": \"quantitative\"}, \"x\": {\"axis\": {\"grid\": false}, \"field\": \"fertility\", \"type\": \"quantitative\"}, \"y\": {\"axis\": {\"grid\": false}, \"field\": \"life_expect\", \"type\": \"quantitative\"}}, \"$schema\": \"https://vega.github.io/schema/vega-lite/v4.17.0.json\", \"datasets\": {\"data-fdeb0b749a6385830bd1445d39ad6ea0\": [{\"year\": 2000, \"country\": \"Afghanistan\", \"cluster\": 0, \"pop\": 23898198, \"life_expect\": 42.129, \"fertility\": 7.4792}, {\"year\": 2000, \"country\": \"Argentina\", \"cluster\": 3, \"pop\": 37497728, \"life_expect\": 74.34, \"fertility\": 2.35}, {\"year\": 2000, \"country\": \"Aruba\", \"cluster\": 3, \"pop\": 69539, \"life_expect\": 73.451, \"fertility\": 2.124}, {\"year\": 2000, \"country\": \"Australia\", \"cluster\": 4, \"pop\": 19164620, \"life_expect\": 80.37, \"fertility\": 1.756}, {\"year\": 2000, \"country\": \"Austria\", \"cluster\": 1, \"pop\": 8113413, \"life_expect\": 78.98, \"fertility\": 1.3820000000000001}, {\"year\": 2000, \"country\": \"Bahamas\", \"cluster\": 3, \"pop\": 290075, \"life_expect\": 71.068, \"fertility\": 2.1111}, {\"year\": 2000, \"country\": \"Bangladesh\", \"cluster\": 0, \"pop\": 130406594, \"life_expect\": 62.013, \"fertility\": 3.224}, {\"year\": 2000, \"country\": \"Barbados\", \"cluster\": 3, \"pop\": 273483, \"life_expect\": 75.97, \"fertility\": 1.5}, {\"year\": 2000, \"country\": \"Belgium\", \"cluster\": 1, \"pop\": 10263618, \"life_expect\": 78.32, \"fertility\": 1.638}, {\"year\": 2000, \"country\": \"Bolivia\", \"cluster\": 3, \"pop\": 8152620, \"life_expect\": 63.883, \"fertility\": 3.9585}, {\"year\": 2000, \"country\": \"Brazil\", \"cluster\": 3, \"pop\": 175552771, \"life_expect\": 71.006, \"fertility\": 2.345}, {\"year\": 2000, \"country\": \"Canada\", \"cluster\": 3, \"pop\": 31278097, \"life_expect\": 79.77, \"fertility\": 1.522}, {\"year\": 2000, \"country\": \"Chile\", \"cluster\": 3, \"pop\": 15153450, \"life_expect\": 77.86, \"fertility\": 2.0}, {\"year\": 2000, \"country\": \"China\", \"cluster\": 4, \"pop\": 1262645000, \"life_expect\": 72.028, \"fertility\": 1.7000000000000002}, {\"year\": 2000, \"country\": \"Colombia\", \"cluster\": 3, \"pop\": 39685655, \"life_expect\": 71.682, \"fertility\": 2.4705}, {\"year\": 2000, \"country\": \"Costa Rica\", \"cluster\": 3, \"pop\": 3710558, \"life_expect\": 78.123, \"fertility\": 2.2815}, {\"year\": 2000, \"country\": \"Croatia\", \"cluster\": 1, \"pop\": 4410830, \"life_expect\": 74.876, \"fertility\": 1.348}, {\"year\": 2000, \"country\": \"Cuba\", \"cluster\": 3, \"pop\": 11134273, \"life_expect\": 77.158, \"fertility\": 1.63}, {\"year\": 2000, \"country\": \"Dominican Republic\", \"cluster\": 3, \"pop\": 8385828, \"life_expect\": 70.847, \"fertility\": 2.95}, {\"year\": 2000, \"country\": \"Ecuador\", \"cluster\": 3, \"pop\": 12505204, \"life_expect\": 74.173, \"fertility\": 2.8175}, {\"year\": 2000, \"country\": \"Egypt\", \"cluster\": 5, \"pop\": 70492342, \"life_expect\": 69.806, \"fertility\": 3.174}, {\"year\": 2000, \"country\": \"El Salvador\", \"cluster\": 3, \"pop\": 6122515, \"life_expect\": 70.734, \"fertility\": 2.883}, {\"year\": 2000, \"country\": \"Finland\", \"cluster\": 1, \"pop\": 5168595, \"life_expect\": 78.37, \"fertility\": 1.754}, {\"year\": 2000, \"country\": \"France\", \"cluster\": 1, \"pop\": 59381628, \"life_expect\": 79.59, \"fertility\": 1.8833000000000002}, {\"year\": 2000, \"country\": \"Georgia\", \"cluster\": 1, \"pop\": 4777209, \"life_expect\": 70.476, \"fertility\": 1.478}, {\"year\": 2000, \"country\": \"Germany\", \"cluster\": 1, \"pop\": 82187909, \"life_expect\": 78.67, \"fertility\": 1.346}, {\"year\": 2000, \"country\": \"Greece\", \"cluster\": 1, \"pop\": 10559110, \"life_expect\": 78.256, \"fertility\": 1.2770000000000001}, {\"year\": 2000, \"country\": \"Grenada\", \"cluster\": 3, \"pop\": 89312, \"life_expect\": 67.746, \"fertility\": 2.429}, {\"year\": 2000, \"country\": \"Haiti\", \"cluster\": 3, \"pop\": 7306302, \"life_expect\": 58.137, \"fertility\": 4.0}, {\"year\": 2000, \"country\": \"Hong Kong\", \"cluster\": 4, \"pop\": 6658720, \"life_expect\": 81.495, \"fertility\": 0.9400000000000001}, {\"year\": 2000, \"country\": \"Iceland\", \"cluster\": 1, \"pop\": 281043, \"life_expect\": 80.5, \"fertility\": 1.9929999999999999}, {\"year\": 2000, \"country\": \"India\", \"cluster\": 0, \"pop\": 1007702000, \"life_expect\": 62.879, \"fertility\": 3.1132}, {\"year\": 2000, \"country\": \"Indonesia\", \"cluster\": 4, \"pop\": 206265000, \"life_expect\": 68.588, \"fertility\": 2.3761}, {\"year\": 2000, \"country\": \"Iran\", \"cluster\": 5, \"pop\": 65660289, \"life_expect\": 69.451, \"fertility\": 2.124}, {\"year\": 2000, \"country\": \"Iraq\", \"cluster\": 5, \"pop\": 22675617, \"life_expect\": 57.046, \"fertility\": 4.858}, {\"year\": 2000, \"country\": \"Ireland\", \"cluster\": 1, \"pop\": 3791690, \"life_expect\": 77.783, \"fertility\": 1.9689999999999999}, {\"year\": 2000, \"country\": \"Israel\", \"cluster\": 5, \"pop\": 5842454, \"life_expect\": 79.696, \"fertility\": 2.906}, {\"year\": 2000, \"country\": \"Italy\", \"cluster\": 1, \"pop\": 57719337, \"life_expect\": 80.24, \"fertility\": 1.286}, {\"year\": 2000, \"country\": \"Jamaica\", \"cluster\": 3, \"pop\": 2615467, \"life_expect\": 72.047, \"fertility\": 2.628}, {\"year\": 2000, \"country\": \"Japan\", \"cluster\": 4, \"pop\": 126699784, \"life_expect\": 82.0, \"fertility\": 1.291}, {\"year\": 2000, \"country\": \"Kenya\", \"cluster\": 2, \"pop\": 29985839, \"life_expect\": 50.992, \"fertility\": 5.0}, {\"year\": 2000, \"country\": \"South Korea\", \"cluster\": 4, \"pop\": 21647682, \"life_expect\": 66.662, \"fertility\": 1.9173}, {\"year\": 2000, \"country\": \"North Korea\", \"cluster\": 4, \"pop\": 47351083, \"life_expect\": 77.045, \"fertility\": 1.242}, {\"year\": 2000, \"country\": \"Lebanon\", \"cluster\": 5, \"pop\": 3578036, \"life_expect\": 71.028, \"fertility\": 2.319}, {\"year\": 2000, \"country\": \"Mexico\", \"cluster\": 3, \"pop\": 99926620, \"life_expect\": 74.902, \"fertility\": 2.4005}, {\"year\": 2000, \"country\": \"Netherlands\", \"cluster\": 1, \"pop\": 15907853, \"life_expect\": 78.53, \"fertility\": 1.726}, {\"year\": 2000, \"country\": \"New Zealand\", \"cluster\": 4, \"pop\": 3819762, \"life_expect\": 79.11, \"fertility\": 1.964}, {\"year\": 2000, \"country\": \"Nigeria\", \"cluster\": 2, \"pop\": 114306700, \"life_expect\": 46.608, \"fertility\": 5.845}, {\"year\": 2000, \"country\": \"Norway\", \"cluster\": 1, \"pop\": 4492400, \"life_expect\": 79.05, \"fertility\": 1.8010000000000002}, {\"year\": 2000, \"country\": \"Pakistan\", \"cluster\": 0, \"pop\": 146342958, \"life_expect\": 63.61, \"fertility\": 3.9936}, {\"year\": 2000, \"country\": \"Peru\", \"cluster\": 3, \"pop\": 25979722, \"life_expect\": 69.906, \"fertility\": 2.7005}, {\"year\": 2000, \"country\": \"Philippines\", \"cluster\": 4, \"pop\": 79739825, \"life_expect\": 70.303, \"fertility\": 3.5436}, {\"year\": 2000, \"country\": \"Poland\", \"cluster\": 1, \"pop\": 38654164, \"life_expect\": 74.67, \"fertility\": 1.251}, {\"year\": 2000, \"country\": \"Portugal\", \"cluster\": 1, \"pop\": 10335597, \"life_expect\": 77.29, \"fertility\": 1.454}, {\"year\": 2000, \"country\": \"Rwanda\", \"cluster\": 2, \"pop\": 7507056, \"life_expect\": 43.413, \"fertility\": 6.01}, {\"year\": 2000, \"country\": \"Saudi Arabia\", \"cluster\": 5, \"pop\": 23153090, \"life_expect\": 71.626, \"fertility\": 3.81}, {\"year\": 2000, \"country\": \"South Africa\", \"cluster\": 2, \"pop\": 44066197, \"life_expect\": 53.365, \"fertility\": 2.802}, {\"year\": 2000, \"country\": \"Spain\", \"cluster\": 1, \"pop\": 40016081, \"life_expect\": 79.78, \"fertility\": 1.287}, {\"year\": 2000, \"country\": \"Switzerland\", \"cluster\": 1, \"pop\": 7266920, \"life_expect\": 80.62, \"fertility\": 1.415}, {\"year\": 2000, \"country\": \"Turkey\", \"cluster\": 1, \"pop\": 65666677, \"life_expect\": 70.845, \"fertility\": 2.23}, {\"year\": 2000, \"country\": \"United Kingdom\", \"cluster\": 1, \"pop\": 59522468, \"life_expect\": 78.471, \"fertility\": 1.695}, {\"year\": 2000, \"country\": \"United States\", \"cluster\": 3, \"pop\": 282338631, \"life_expect\": 77.31, \"fertility\": 2.038}, {\"year\": 2000, \"country\": \"Venezuela\", \"cluster\": 3, \"pop\": 23542649, \"life_expect\": 72.766, \"fertility\": 2.723}]}}, {\"mode\": \"vega-lite\"});\n",
              "</script>"
            ],
            "text/plain": [
              "alt.Chart(...)"
            ]
          },
          "metadata": {},
          "execution_count": 12
        }
      ]
    },
    {
      "cell_type": "markdown",
      "source": [
        "Now let's look at customizing the labels and titles on the chart using the `title` parameter within `altair.Chart()`.  We can provide a label for each channel that we specify as well as an overall title for the chart."
      ],
      "metadata": {
        "id": "dATOP26UCOM9"
      }
    },
    {
      "cell_type": "code",
      "source": [
        "(\n",
        "  alt.Chart(data_2000,\n",
        "            title = 'Countries with higher fertility tend to have lower life expectancy')\n",
        "  .mark_circle().encode(\n",
        "    x = alt.X('fertility:Q', axis = alt.Axis(grid = False),\n",
        "              title = 'Fertility (children per woman)'),\n",
        "    y = alt.Y('life_expect:Q', axis = alt.Axis(grid = False),\n",
        "              title = 'Life Expectancy (years)'),\n",
        "    color = alt.Color('cluster:N'),\n",
        "    size = alt.Size('pop:Q', scale = alt.Scale(range = [0, 1200] ))\n",
        "  )\n",
        ")"
      ],
      "metadata": {
        "id": "kuytVOwpEQOs",
        "outputId": "106d6729-8dbb-4197-ec9d-a7595b5b1ab3",
        "colab": {
          "base_uri": "https://localhost:8080/",
          "height": 440
        }
      },
      "execution_count": 13,
      "outputs": [
        {
          "output_type": "stream",
          "name": "stderr",
          "text": [
            "/usr/local/lib/python3.10/dist-packages/altair/utils/core.py:384: FutureWarning: the convert_dtype parameter is deprecated and will be removed in a future version.  Do ``ser.astype(object).apply()`` instead if you want ``convert_dtype=False``.\n",
            "  col = df[col_name].apply(to_list_if_array, convert_dtype=False)\n"
          ]
        },
        {
          "output_type": "execute_result",
          "data": {
            "text/html": [
              "\n",
              "<div id=\"altair-viz-47028212789149198bee11dc36fa2c67\"></div>\n",
              "<script type=\"text/javascript\">\n",
              "  var VEGA_DEBUG = (typeof VEGA_DEBUG == \"undefined\") ? {} : VEGA_DEBUG;\n",
              "  (function(spec, embedOpt){\n",
              "    let outputDiv = document.currentScript.previousElementSibling;\n",
              "    if (outputDiv.id !== \"altair-viz-47028212789149198bee11dc36fa2c67\") {\n",
              "      outputDiv = document.getElementById(\"altair-viz-47028212789149198bee11dc36fa2c67\");\n",
              "    }\n",
              "    const paths = {\n",
              "      \"vega\": \"https://cdn.jsdelivr.net/npm//vega@5?noext\",\n",
              "      \"vega-lib\": \"https://cdn.jsdelivr.net/npm//vega-lib?noext\",\n",
              "      \"vega-lite\": \"https://cdn.jsdelivr.net/npm//vega-lite@4.17.0?noext\",\n",
              "      \"vega-embed\": \"https://cdn.jsdelivr.net/npm//vega-embed@6?noext\",\n",
              "    };\n",
              "\n",
              "    function maybeLoadScript(lib, version) {\n",
              "      var key = `${lib.replace(\"-\", \"\")}_version`;\n",
              "      return (VEGA_DEBUG[key] == version) ?\n",
              "        Promise.resolve(paths[lib]) :\n",
              "        new Promise(function(resolve, reject) {\n",
              "          var s = document.createElement('script');\n",
              "          document.getElementsByTagName(\"head\")[0].appendChild(s);\n",
              "          s.async = true;\n",
              "          s.onload = () => {\n",
              "            VEGA_DEBUG[key] = version;\n",
              "            return resolve(paths[lib]);\n",
              "          };\n",
              "          s.onerror = () => reject(`Error loading script: ${paths[lib]}`);\n",
              "          s.src = paths[lib];\n",
              "        });\n",
              "    }\n",
              "\n",
              "    function showError(err) {\n",
              "      outputDiv.innerHTML = `<div class=\"error\" style=\"color:red;\">${err}</div>`;\n",
              "      throw err;\n",
              "    }\n",
              "\n",
              "    function displayChart(vegaEmbed) {\n",
              "      vegaEmbed(outputDiv, spec, embedOpt)\n",
              "        .catch(err => showError(`Javascript Error: ${err.message}<br>This usually means there's a typo in your chart specification. See the javascript console for the full traceback.`));\n",
              "    }\n",
              "\n",
              "    if(typeof define === \"function\" && define.amd) {\n",
              "      requirejs.config({paths});\n",
              "      require([\"vega-embed\"], displayChart, err => showError(`Error loading script: ${err.message}`));\n",
              "    } else {\n",
              "      maybeLoadScript(\"vega\", \"5\")\n",
              "        .then(() => maybeLoadScript(\"vega-lite\", \"4.17.0\"))\n",
              "        .then(() => maybeLoadScript(\"vega-embed\", \"6\"))\n",
              "        .catch(showError)\n",
              "        .then(() => displayChart(vegaEmbed));\n",
              "    }\n",
              "  })({\"config\": {\"view\": {\"continuousWidth\": 400, \"continuousHeight\": 300}}, \"data\": {\"name\": \"data-fdeb0b749a6385830bd1445d39ad6ea0\"}, \"mark\": \"circle\", \"encoding\": {\"color\": {\"field\": \"cluster\", \"type\": \"nominal\"}, \"size\": {\"field\": \"pop\", \"scale\": {\"range\": [0, 1200]}, \"type\": \"quantitative\"}, \"x\": {\"axis\": {\"grid\": false}, \"field\": \"fertility\", \"title\": \"Fertility (children per woman)\", \"type\": \"quantitative\"}, \"y\": {\"axis\": {\"grid\": false}, \"field\": \"life_expect\", \"title\": \"Life Expectancy (years)\", \"type\": \"quantitative\"}}, \"title\": \"Countries with higher fertility tend to have lower life expectancy\", \"$schema\": \"https://vega.github.io/schema/vega-lite/v4.17.0.json\", \"datasets\": {\"data-fdeb0b749a6385830bd1445d39ad6ea0\": [{\"year\": 2000, \"country\": \"Afghanistan\", \"cluster\": 0, \"pop\": 23898198, \"life_expect\": 42.129, \"fertility\": 7.4792}, {\"year\": 2000, \"country\": \"Argentina\", \"cluster\": 3, \"pop\": 37497728, \"life_expect\": 74.34, \"fertility\": 2.35}, {\"year\": 2000, \"country\": \"Aruba\", \"cluster\": 3, \"pop\": 69539, \"life_expect\": 73.451, \"fertility\": 2.124}, {\"year\": 2000, \"country\": \"Australia\", \"cluster\": 4, \"pop\": 19164620, \"life_expect\": 80.37, \"fertility\": 1.756}, {\"year\": 2000, \"country\": \"Austria\", \"cluster\": 1, \"pop\": 8113413, \"life_expect\": 78.98, \"fertility\": 1.3820000000000001}, {\"year\": 2000, \"country\": \"Bahamas\", \"cluster\": 3, \"pop\": 290075, \"life_expect\": 71.068, \"fertility\": 2.1111}, {\"year\": 2000, \"country\": \"Bangladesh\", \"cluster\": 0, \"pop\": 130406594, \"life_expect\": 62.013, \"fertility\": 3.224}, {\"year\": 2000, \"country\": \"Barbados\", \"cluster\": 3, \"pop\": 273483, \"life_expect\": 75.97, \"fertility\": 1.5}, {\"year\": 2000, \"country\": \"Belgium\", \"cluster\": 1, \"pop\": 10263618, \"life_expect\": 78.32, \"fertility\": 1.638}, {\"year\": 2000, \"country\": \"Bolivia\", \"cluster\": 3, \"pop\": 8152620, \"life_expect\": 63.883, \"fertility\": 3.9585}, {\"year\": 2000, \"country\": \"Brazil\", \"cluster\": 3, \"pop\": 175552771, \"life_expect\": 71.006, \"fertility\": 2.345}, {\"year\": 2000, \"country\": \"Canada\", \"cluster\": 3, \"pop\": 31278097, \"life_expect\": 79.77, \"fertility\": 1.522}, {\"year\": 2000, \"country\": \"Chile\", \"cluster\": 3, \"pop\": 15153450, \"life_expect\": 77.86, \"fertility\": 2.0}, {\"year\": 2000, \"country\": \"China\", \"cluster\": 4, \"pop\": 1262645000, \"life_expect\": 72.028, \"fertility\": 1.7000000000000002}, {\"year\": 2000, \"country\": \"Colombia\", \"cluster\": 3, \"pop\": 39685655, \"life_expect\": 71.682, \"fertility\": 2.4705}, {\"year\": 2000, \"country\": \"Costa Rica\", \"cluster\": 3, \"pop\": 3710558, \"life_expect\": 78.123, \"fertility\": 2.2815}, {\"year\": 2000, \"country\": \"Croatia\", \"cluster\": 1, \"pop\": 4410830, \"life_expect\": 74.876, \"fertility\": 1.348}, {\"year\": 2000, \"country\": \"Cuba\", \"cluster\": 3, \"pop\": 11134273, \"life_expect\": 77.158, \"fertility\": 1.63}, {\"year\": 2000, \"country\": \"Dominican Republic\", \"cluster\": 3, \"pop\": 8385828, \"life_expect\": 70.847, \"fertility\": 2.95}, {\"year\": 2000, \"country\": \"Ecuador\", \"cluster\": 3, \"pop\": 12505204, \"life_expect\": 74.173, \"fertility\": 2.8175}, {\"year\": 2000, \"country\": \"Egypt\", \"cluster\": 5, \"pop\": 70492342, \"life_expect\": 69.806, \"fertility\": 3.174}, {\"year\": 2000, \"country\": \"El Salvador\", \"cluster\": 3, \"pop\": 6122515, \"life_expect\": 70.734, \"fertility\": 2.883}, {\"year\": 2000, \"country\": \"Finland\", \"cluster\": 1, \"pop\": 5168595, \"life_expect\": 78.37, \"fertility\": 1.754}, {\"year\": 2000, \"country\": \"France\", \"cluster\": 1, \"pop\": 59381628, \"life_expect\": 79.59, \"fertility\": 1.8833000000000002}, {\"year\": 2000, \"country\": \"Georgia\", \"cluster\": 1, \"pop\": 4777209, \"life_expect\": 70.476, \"fertility\": 1.478}, {\"year\": 2000, \"country\": \"Germany\", \"cluster\": 1, \"pop\": 82187909, \"life_expect\": 78.67, \"fertility\": 1.346}, {\"year\": 2000, \"country\": \"Greece\", \"cluster\": 1, \"pop\": 10559110, \"life_expect\": 78.256, \"fertility\": 1.2770000000000001}, {\"year\": 2000, \"country\": \"Grenada\", \"cluster\": 3, \"pop\": 89312, \"life_expect\": 67.746, \"fertility\": 2.429}, {\"year\": 2000, \"country\": \"Haiti\", \"cluster\": 3, \"pop\": 7306302, \"life_expect\": 58.137, \"fertility\": 4.0}, {\"year\": 2000, \"country\": \"Hong Kong\", \"cluster\": 4, \"pop\": 6658720, \"life_expect\": 81.495, \"fertility\": 0.9400000000000001}, {\"year\": 2000, \"country\": \"Iceland\", \"cluster\": 1, \"pop\": 281043, \"life_expect\": 80.5, \"fertility\": 1.9929999999999999}, {\"year\": 2000, \"country\": \"India\", \"cluster\": 0, \"pop\": 1007702000, \"life_expect\": 62.879, \"fertility\": 3.1132}, {\"year\": 2000, \"country\": \"Indonesia\", \"cluster\": 4, \"pop\": 206265000, \"life_expect\": 68.588, \"fertility\": 2.3761}, {\"year\": 2000, \"country\": \"Iran\", \"cluster\": 5, \"pop\": 65660289, \"life_expect\": 69.451, \"fertility\": 2.124}, {\"year\": 2000, \"country\": \"Iraq\", \"cluster\": 5, \"pop\": 22675617, \"life_expect\": 57.046, \"fertility\": 4.858}, {\"year\": 2000, \"country\": \"Ireland\", \"cluster\": 1, \"pop\": 3791690, \"life_expect\": 77.783, \"fertility\": 1.9689999999999999}, {\"year\": 2000, \"country\": \"Israel\", \"cluster\": 5, \"pop\": 5842454, \"life_expect\": 79.696, \"fertility\": 2.906}, {\"year\": 2000, \"country\": \"Italy\", \"cluster\": 1, \"pop\": 57719337, \"life_expect\": 80.24, \"fertility\": 1.286}, {\"year\": 2000, \"country\": \"Jamaica\", \"cluster\": 3, \"pop\": 2615467, \"life_expect\": 72.047, \"fertility\": 2.628}, {\"year\": 2000, \"country\": \"Japan\", \"cluster\": 4, \"pop\": 126699784, \"life_expect\": 82.0, \"fertility\": 1.291}, {\"year\": 2000, \"country\": \"Kenya\", \"cluster\": 2, \"pop\": 29985839, \"life_expect\": 50.992, \"fertility\": 5.0}, {\"year\": 2000, \"country\": \"South Korea\", \"cluster\": 4, \"pop\": 21647682, \"life_expect\": 66.662, \"fertility\": 1.9173}, {\"year\": 2000, \"country\": \"North Korea\", \"cluster\": 4, \"pop\": 47351083, \"life_expect\": 77.045, \"fertility\": 1.242}, {\"year\": 2000, \"country\": \"Lebanon\", \"cluster\": 5, \"pop\": 3578036, \"life_expect\": 71.028, \"fertility\": 2.319}, {\"year\": 2000, \"country\": \"Mexico\", \"cluster\": 3, \"pop\": 99926620, \"life_expect\": 74.902, \"fertility\": 2.4005}, {\"year\": 2000, \"country\": \"Netherlands\", \"cluster\": 1, \"pop\": 15907853, \"life_expect\": 78.53, \"fertility\": 1.726}, {\"year\": 2000, \"country\": \"New Zealand\", \"cluster\": 4, \"pop\": 3819762, \"life_expect\": 79.11, \"fertility\": 1.964}, {\"year\": 2000, \"country\": \"Nigeria\", \"cluster\": 2, \"pop\": 114306700, \"life_expect\": 46.608, \"fertility\": 5.845}, {\"year\": 2000, \"country\": \"Norway\", \"cluster\": 1, \"pop\": 4492400, \"life_expect\": 79.05, \"fertility\": 1.8010000000000002}, {\"year\": 2000, \"country\": \"Pakistan\", \"cluster\": 0, \"pop\": 146342958, \"life_expect\": 63.61, \"fertility\": 3.9936}, {\"year\": 2000, \"country\": \"Peru\", \"cluster\": 3, \"pop\": 25979722, \"life_expect\": 69.906, \"fertility\": 2.7005}, {\"year\": 2000, \"country\": \"Philippines\", \"cluster\": 4, \"pop\": 79739825, \"life_expect\": 70.303, \"fertility\": 3.5436}, {\"year\": 2000, \"country\": \"Poland\", \"cluster\": 1, \"pop\": 38654164, \"life_expect\": 74.67, \"fertility\": 1.251}, {\"year\": 2000, \"country\": \"Portugal\", \"cluster\": 1, \"pop\": 10335597, \"life_expect\": 77.29, \"fertility\": 1.454}, {\"year\": 2000, \"country\": \"Rwanda\", \"cluster\": 2, \"pop\": 7507056, \"life_expect\": 43.413, \"fertility\": 6.01}, {\"year\": 2000, \"country\": \"Saudi Arabia\", \"cluster\": 5, \"pop\": 23153090, \"life_expect\": 71.626, \"fertility\": 3.81}, {\"year\": 2000, \"country\": \"South Africa\", \"cluster\": 2, \"pop\": 44066197, \"life_expect\": 53.365, \"fertility\": 2.802}, {\"year\": 2000, \"country\": \"Spain\", \"cluster\": 1, \"pop\": 40016081, \"life_expect\": 79.78, \"fertility\": 1.287}, {\"year\": 2000, \"country\": \"Switzerland\", \"cluster\": 1, \"pop\": 7266920, \"life_expect\": 80.62, \"fertility\": 1.415}, {\"year\": 2000, \"country\": \"Turkey\", \"cluster\": 1, \"pop\": 65666677, \"life_expect\": 70.845, \"fertility\": 2.23}, {\"year\": 2000, \"country\": \"United Kingdom\", \"cluster\": 1, \"pop\": 59522468, \"life_expect\": 78.471, \"fertility\": 1.695}, {\"year\": 2000, \"country\": \"United States\", \"cluster\": 3, \"pop\": 282338631, \"life_expect\": 77.31, \"fertility\": 2.038}, {\"year\": 2000, \"country\": \"Venezuela\", \"cluster\": 3, \"pop\": 23542649, \"life_expect\": 72.766, \"fertility\": 2.723}]}}, {\"mode\": \"vega-lite\"});\n",
              "</script>"
            ],
            "text/plain": [
              "alt.Chart(...)"
            ]
          },
          "metadata": {},
          "execution_count": 13
        }
      ]
    },
    {
      "cell_type": "markdown",
      "source": [
        "To add any modifications to the main title, you can utilize `altair.TitleParams`. In order to add a subtitle to the main title, we need to specify the main title as `text` and the subtitle as `subtitle` within `altair.TitleParams`."
      ],
      "metadata": {
        "id": "8JcFTBLrEYk4"
      }
    },
    {
      "cell_type": "code",
      "source": [
        "(\n",
        "  alt.Chart(data_2000,\n",
        "            title = alt.TitleParams(text = 'Countries with higher fertility tend to have lower life expectancy',\n",
        "                                    subtitle = 'source: gapminder.json'))\n",
        "  .mark_circle().encode(\n",
        "    x = alt.X('fertility:Q', axis = alt.Axis(grid = False),\n",
        "              title = 'Fertility (children per woman)'),\n",
        "    y = alt.Y('life_expect:Q', axis = alt.Axis(grid = False),\n",
        "              title = 'Life Expectancy (years)'),\n",
        "    color = alt.Color('cluster:N'),\n",
        "    size = alt.Size('pop:Q', scale = alt.Scale(range = [0, 1200]))\n",
        "  )\n",
        ")"
      ],
      "metadata": {
        "id": "a_OlpT3GAtF_",
        "outputId": "7d32f22e-78fe-4cb0-b35c-f042a25b6143",
        "colab": {
          "base_uri": "https://localhost:8080/",
          "height": 454
        }
      },
      "execution_count": 14,
      "outputs": [
        {
          "output_type": "stream",
          "name": "stderr",
          "text": [
            "/usr/local/lib/python3.10/dist-packages/altair/utils/core.py:384: FutureWarning: the convert_dtype parameter is deprecated and will be removed in a future version.  Do ``ser.astype(object).apply()`` instead if you want ``convert_dtype=False``.\n",
            "  col = df[col_name].apply(to_list_if_array, convert_dtype=False)\n"
          ]
        },
        {
          "output_type": "execute_result",
          "data": {
            "text/html": [
              "\n",
              "<div id=\"altair-viz-5611110faa8c42b7a04974c98fc2a498\"></div>\n",
              "<script type=\"text/javascript\">\n",
              "  var VEGA_DEBUG = (typeof VEGA_DEBUG == \"undefined\") ? {} : VEGA_DEBUG;\n",
              "  (function(spec, embedOpt){\n",
              "    let outputDiv = document.currentScript.previousElementSibling;\n",
              "    if (outputDiv.id !== \"altair-viz-5611110faa8c42b7a04974c98fc2a498\") {\n",
              "      outputDiv = document.getElementById(\"altair-viz-5611110faa8c42b7a04974c98fc2a498\");\n",
              "    }\n",
              "    const paths = {\n",
              "      \"vega\": \"https://cdn.jsdelivr.net/npm//vega@5?noext\",\n",
              "      \"vega-lib\": \"https://cdn.jsdelivr.net/npm//vega-lib?noext\",\n",
              "      \"vega-lite\": \"https://cdn.jsdelivr.net/npm//vega-lite@4.17.0?noext\",\n",
              "      \"vega-embed\": \"https://cdn.jsdelivr.net/npm//vega-embed@6?noext\",\n",
              "    };\n",
              "\n",
              "    function maybeLoadScript(lib, version) {\n",
              "      var key = `${lib.replace(\"-\", \"\")}_version`;\n",
              "      return (VEGA_DEBUG[key] == version) ?\n",
              "        Promise.resolve(paths[lib]) :\n",
              "        new Promise(function(resolve, reject) {\n",
              "          var s = document.createElement('script');\n",
              "          document.getElementsByTagName(\"head\")[0].appendChild(s);\n",
              "          s.async = true;\n",
              "          s.onload = () => {\n",
              "            VEGA_DEBUG[key] = version;\n",
              "            return resolve(paths[lib]);\n",
              "          };\n",
              "          s.onerror = () => reject(`Error loading script: ${paths[lib]}`);\n",
              "          s.src = paths[lib];\n",
              "        });\n",
              "    }\n",
              "\n",
              "    function showError(err) {\n",
              "      outputDiv.innerHTML = `<div class=\"error\" style=\"color:red;\">${err}</div>`;\n",
              "      throw err;\n",
              "    }\n",
              "\n",
              "    function displayChart(vegaEmbed) {\n",
              "      vegaEmbed(outputDiv, spec, embedOpt)\n",
              "        .catch(err => showError(`Javascript Error: ${err.message}<br>This usually means there's a typo in your chart specification. See the javascript console for the full traceback.`));\n",
              "    }\n",
              "\n",
              "    if(typeof define === \"function\" && define.amd) {\n",
              "      requirejs.config({paths});\n",
              "      require([\"vega-embed\"], displayChart, err => showError(`Error loading script: ${err.message}`));\n",
              "    } else {\n",
              "      maybeLoadScript(\"vega\", \"5\")\n",
              "        .then(() => maybeLoadScript(\"vega-lite\", \"4.17.0\"))\n",
              "        .then(() => maybeLoadScript(\"vega-embed\", \"6\"))\n",
              "        .catch(showError)\n",
              "        .then(() => displayChart(vegaEmbed));\n",
              "    }\n",
              "  })({\"config\": {\"view\": {\"continuousWidth\": 400, \"continuousHeight\": 300}}, \"data\": {\"name\": \"data-fdeb0b749a6385830bd1445d39ad6ea0\"}, \"mark\": \"circle\", \"encoding\": {\"color\": {\"field\": \"cluster\", \"type\": \"nominal\"}, \"size\": {\"field\": \"pop\", \"scale\": {\"range\": [0, 1200]}, \"type\": \"quantitative\"}, \"x\": {\"axis\": {\"grid\": false}, \"field\": \"fertility\", \"title\": \"Fertility (children per woman)\", \"type\": \"quantitative\"}, \"y\": {\"axis\": {\"grid\": false}, \"field\": \"life_expect\", \"title\": \"Life Expectancy (years)\", \"type\": \"quantitative\"}}, \"title\": {\"text\": \"Countries with higher fertility tend to have lower life expectancy\", \"subtitle\": \"source: gapminder.json\"}, \"$schema\": \"https://vega.github.io/schema/vega-lite/v4.17.0.json\", \"datasets\": {\"data-fdeb0b749a6385830bd1445d39ad6ea0\": [{\"year\": 2000, \"country\": \"Afghanistan\", \"cluster\": 0, \"pop\": 23898198, \"life_expect\": 42.129, \"fertility\": 7.4792}, {\"year\": 2000, \"country\": \"Argentina\", \"cluster\": 3, \"pop\": 37497728, \"life_expect\": 74.34, \"fertility\": 2.35}, {\"year\": 2000, \"country\": \"Aruba\", \"cluster\": 3, \"pop\": 69539, \"life_expect\": 73.451, \"fertility\": 2.124}, {\"year\": 2000, \"country\": \"Australia\", \"cluster\": 4, \"pop\": 19164620, \"life_expect\": 80.37, \"fertility\": 1.756}, {\"year\": 2000, \"country\": \"Austria\", \"cluster\": 1, \"pop\": 8113413, \"life_expect\": 78.98, \"fertility\": 1.3820000000000001}, {\"year\": 2000, \"country\": \"Bahamas\", \"cluster\": 3, \"pop\": 290075, \"life_expect\": 71.068, \"fertility\": 2.1111}, {\"year\": 2000, \"country\": \"Bangladesh\", \"cluster\": 0, \"pop\": 130406594, \"life_expect\": 62.013, \"fertility\": 3.224}, {\"year\": 2000, \"country\": \"Barbados\", \"cluster\": 3, \"pop\": 273483, \"life_expect\": 75.97, \"fertility\": 1.5}, {\"year\": 2000, \"country\": \"Belgium\", \"cluster\": 1, \"pop\": 10263618, \"life_expect\": 78.32, \"fertility\": 1.638}, {\"year\": 2000, \"country\": \"Bolivia\", \"cluster\": 3, \"pop\": 8152620, \"life_expect\": 63.883, \"fertility\": 3.9585}, {\"year\": 2000, \"country\": \"Brazil\", \"cluster\": 3, \"pop\": 175552771, \"life_expect\": 71.006, \"fertility\": 2.345}, {\"year\": 2000, \"country\": \"Canada\", \"cluster\": 3, \"pop\": 31278097, \"life_expect\": 79.77, \"fertility\": 1.522}, {\"year\": 2000, \"country\": \"Chile\", \"cluster\": 3, \"pop\": 15153450, \"life_expect\": 77.86, \"fertility\": 2.0}, {\"year\": 2000, \"country\": \"China\", \"cluster\": 4, \"pop\": 1262645000, \"life_expect\": 72.028, \"fertility\": 1.7000000000000002}, {\"year\": 2000, \"country\": \"Colombia\", \"cluster\": 3, \"pop\": 39685655, \"life_expect\": 71.682, \"fertility\": 2.4705}, {\"year\": 2000, \"country\": \"Costa Rica\", \"cluster\": 3, \"pop\": 3710558, \"life_expect\": 78.123, \"fertility\": 2.2815}, {\"year\": 2000, \"country\": \"Croatia\", \"cluster\": 1, \"pop\": 4410830, \"life_expect\": 74.876, \"fertility\": 1.348}, {\"year\": 2000, \"country\": \"Cuba\", \"cluster\": 3, \"pop\": 11134273, \"life_expect\": 77.158, \"fertility\": 1.63}, {\"year\": 2000, \"country\": \"Dominican Republic\", \"cluster\": 3, \"pop\": 8385828, \"life_expect\": 70.847, \"fertility\": 2.95}, {\"year\": 2000, \"country\": \"Ecuador\", \"cluster\": 3, \"pop\": 12505204, \"life_expect\": 74.173, \"fertility\": 2.8175}, {\"year\": 2000, \"country\": \"Egypt\", \"cluster\": 5, \"pop\": 70492342, \"life_expect\": 69.806, \"fertility\": 3.174}, {\"year\": 2000, \"country\": \"El Salvador\", \"cluster\": 3, \"pop\": 6122515, \"life_expect\": 70.734, \"fertility\": 2.883}, {\"year\": 2000, \"country\": \"Finland\", \"cluster\": 1, \"pop\": 5168595, \"life_expect\": 78.37, \"fertility\": 1.754}, {\"year\": 2000, \"country\": \"France\", \"cluster\": 1, \"pop\": 59381628, \"life_expect\": 79.59, \"fertility\": 1.8833000000000002}, {\"year\": 2000, \"country\": \"Georgia\", \"cluster\": 1, \"pop\": 4777209, \"life_expect\": 70.476, \"fertility\": 1.478}, {\"year\": 2000, \"country\": \"Germany\", \"cluster\": 1, \"pop\": 82187909, \"life_expect\": 78.67, \"fertility\": 1.346}, {\"year\": 2000, \"country\": \"Greece\", \"cluster\": 1, \"pop\": 10559110, \"life_expect\": 78.256, \"fertility\": 1.2770000000000001}, {\"year\": 2000, \"country\": \"Grenada\", \"cluster\": 3, \"pop\": 89312, \"life_expect\": 67.746, \"fertility\": 2.429}, {\"year\": 2000, \"country\": \"Haiti\", \"cluster\": 3, \"pop\": 7306302, \"life_expect\": 58.137, \"fertility\": 4.0}, {\"year\": 2000, \"country\": \"Hong Kong\", \"cluster\": 4, \"pop\": 6658720, \"life_expect\": 81.495, \"fertility\": 0.9400000000000001}, {\"year\": 2000, \"country\": \"Iceland\", \"cluster\": 1, \"pop\": 281043, \"life_expect\": 80.5, \"fertility\": 1.9929999999999999}, {\"year\": 2000, \"country\": \"India\", \"cluster\": 0, \"pop\": 1007702000, \"life_expect\": 62.879, \"fertility\": 3.1132}, {\"year\": 2000, \"country\": \"Indonesia\", \"cluster\": 4, \"pop\": 206265000, \"life_expect\": 68.588, \"fertility\": 2.3761}, {\"year\": 2000, \"country\": \"Iran\", \"cluster\": 5, \"pop\": 65660289, \"life_expect\": 69.451, \"fertility\": 2.124}, {\"year\": 2000, \"country\": \"Iraq\", \"cluster\": 5, \"pop\": 22675617, \"life_expect\": 57.046, \"fertility\": 4.858}, {\"year\": 2000, \"country\": \"Ireland\", \"cluster\": 1, \"pop\": 3791690, \"life_expect\": 77.783, \"fertility\": 1.9689999999999999}, {\"year\": 2000, \"country\": \"Israel\", \"cluster\": 5, \"pop\": 5842454, \"life_expect\": 79.696, \"fertility\": 2.906}, {\"year\": 2000, \"country\": \"Italy\", \"cluster\": 1, \"pop\": 57719337, \"life_expect\": 80.24, \"fertility\": 1.286}, {\"year\": 2000, \"country\": \"Jamaica\", \"cluster\": 3, \"pop\": 2615467, \"life_expect\": 72.047, \"fertility\": 2.628}, {\"year\": 2000, \"country\": \"Japan\", \"cluster\": 4, \"pop\": 126699784, \"life_expect\": 82.0, \"fertility\": 1.291}, {\"year\": 2000, \"country\": \"Kenya\", \"cluster\": 2, \"pop\": 29985839, \"life_expect\": 50.992, \"fertility\": 5.0}, {\"year\": 2000, \"country\": \"South Korea\", \"cluster\": 4, \"pop\": 21647682, \"life_expect\": 66.662, \"fertility\": 1.9173}, {\"year\": 2000, \"country\": \"North Korea\", \"cluster\": 4, \"pop\": 47351083, \"life_expect\": 77.045, \"fertility\": 1.242}, {\"year\": 2000, \"country\": \"Lebanon\", \"cluster\": 5, \"pop\": 3578036, \"life_expect\": 71.028, \"fertility\": 2.319}, {\"year\": 2000, \"country\": \"Mexico\", \"cluster\": 3, \"pop\": 99926620, \"life_expect\": 74.902, \"fertility\": 2.4005}, {\"year\": 2000, \"country\": \"Netherlands\", \"cluster\": 1, \"pop\": 15907853, \"life_expect\": 78.53, \"fertility\": 1.726}, {\"year\": 2000, \"country\": \"New Zealand\", \"cluster\": 4, \"pop\": 3819762, \"life_expect\": 79.11, \"fertility\": 1.964}, {\"year\": 2000, \"country\": \"Nigeria\", \"cluster\": 2, \"pop\": 114306700, \"life_expect\": 46.608, \"fertility\": 5.845}, {\"year\": 2000, \"country\": \"Norway\", \"cluster\": 1, \"pop\": 4492400, \"life_expect\": 79.05, \"fertility\": 1.8010000000000002}, {\"year\": 2000, \"country\": \"Pakistan\", \"cluster\": 0, \"pop\": 146342958, \"life_expect\": 63.61, \"fertility\": 3.9936}, {\"year\": 2000, \"country\": \"Peru\", \"cluster\": 3, \"pop\": 25979722, \"life_expect\": 69.906, \"fertility\": 2.7005}, {\"year\": 2000, \"country\": \"Philippines\", \"cluster\": 4, \"pop\": 79739825, \"life_expect\": 70.303, \"fertility\": 3.5436}, {\"year\": 2000, \"country\": \"Poland\", \"cluster\": 1, \"pop\": 38654164, \"life_expect\": 74.67, \"fertility\": 1.251}, {\"year\": 2000, \"country\": \"Portugal\", \"cluster\": 1, \"pop\": 10335597, \"life_expect\": 77.29, \"fertility\": 1.454}, {\"year\": 2000, \"country\": \"Rwanda\", \"cluster\": 2, \"pop\": 7507056, \"life_expect\": 43.413, \"fertility\": 6.01}, {\"year\": 2000, \"country\": \"Saudi Arabia\", \"cluster\": 5, \"pop\": 23153090, \"life_expect\": 71.626, \"fertility\": 3.81}, {\"year\": 2000, \"country\": \"South Africa\", \"cluster\": 2, \"pop\": 44066197, \"life_expect\": 53.365, \"fertility\": 2.802}, {\"year\": 2000, \"country\": \"Spain\", \"cluster\": 1, \"pop\": 40016081, \"life_expect\": 79.78, \"fertility\": 1.287}, {\"year\": 2000, \"country\": \"Switzerland\", \"cluster\": 1, \"pop\": 7266920, \"life_expect\": 80.62, \"fertility\": 1.415}, {\"year\": 2000, \"country\": \"Turkey\", \"cluster\": 1, \"pop\": 65666677, \"life_expect\": 70.845, \"fertility\": 2.23}, {\"year\": 2000, \"country\": \"United Kingdom\", \"cluster\": 1, \"pop\": 59522468, \"life_expect\": 78.471, \"fertility\": 1.695}, {\"year\": 2000, \"country\": \"United States\", \"cluster\": 3, \"pop\": 282338631, \"life_expect\": 77.31, \"fertility\": 2.038}, {\"year\": 2000, \"country\": \"Venezuela\", \"cluster\": 3, \"pop\": 23542649, \"life_expect\": 72.766, \"fertility\": 2.723}]}}, {\"mode\": \"vega-lite\"});\n",
              "</script>"
            ],
            "text/plain": [
              "alt.Chart(...)"
            ]
          },
          "metadata": {},
          "execution_count": 14
        }
      ]
    },
    {
      "cell_type": "markdown",
      "source": [
        "Our final customization is to change the chart size.  Let's make it wider so that it fills more of the screen.  This can be done by setting the `width` and `height` parameters within the `properties` function."
      ],
      "metadata": {
        "id": "ZxHZLypiGGLD"
      }
    },
    {
      "cell_type": "code",
      "source": [
        "(\n",
        "  alt.Chart(data_2000,\n",
        "            title = alt.TitleParams(text = 'Countries with higher fertility tend to have lower life expectancy',\n",
        "                                    subtitle = 'source: gapminder.json'))\n",
        "  .mark_circle().encode(\n",
        "    x = alt.X('fertility:Q', axis = alt.Axis(grid = False),\n",
        "              title = 'Fertility (children per woman)'),\n",
        "    y = alt.Y('life_expect:Q', axis = alt.Axis(grid = False),\n",
        "              title = 'Life Expectancy (years)'),\n",
        "    color = alt.Color('cluster:N'),\n",
        "    size = alt.Size('pop:Q', scale = alt.Scale(range = [0, 1200]))\n",
        "  )\n",
        "  .properties(width = 600, height = 300)\n",
        ")"
      ],
      "metadata": {
        "id": "F1fcuV5yGJL8",
        "outputId": "03c25ec9-b8b6-4cb1-ced9-89c78d2a11f4",
        "colab": {
          "base_uri": "https://localhost:8080/",
          "height": 454
        }
      },
      "execution_count": 15,
      "outputs": [
        {
          "output_type": "stream",
          "name": "stderr",
          "text": [
            "/usr/local/lib/python3.10/dist-packages/altair/utils/core.py:384: FutureWarning: the convert_dtype parameter is deprecated and will be removed in a future version.  Do ``ser.astype(object).apply()`` instead if you want ``convert_dtype=False``.\n",
            "  col = df[col_name].apply(to_list_if_array, convert_dtype=False)\n"
          ]
        },
        {
          "output_type": "execute_result",
          "data": {
            "text/html": [
              "\n",
              "<div id=\"altair-viz-5a7dcbe30d10413c9b6d1e10dc0406d1\"></div>\n",
              "<script type=\"text/javascript\">\n",
              "  var VEGA_DEBUG = (typeof VEGA_DEBUG == \"undefined\") ? {} : VEGA_DEBUG;\n",
              "  (function(spec, embedOpt){\n",
              "    let outputDiv = document.currentScript.previousElementSibling;\n",
              "    if (outputDiv.id !== \"altair-viz-5a7dcbe30d10413c9b6d1e10dc0406d1\") {\n",
              "      outputDiv = document.getElementById(\"altair-viz-5a7dcbe30d10413c9b6d1e10dc0406d1\");\n",
              "    }\n",
              "    const paths = {\n",
              "      \"vega\": \"https://cdn.jsdelivr.net/npm//vega@5?noext\",\n",
              "      \"vega-lib\": \"https://cdn.jsdelivr.net/npm//vega-lib?noext\",\n",
              "      \"vega-lite\": \"https://cdn.jsdelivr.net/npm//vega-lite@4.17.0?noext\",\n",
              "      \"vega-embed\": \"https://cdn.jsdelivr.net/npm//vega-embed@6?noext\",\n",
              "    };\n",
              "\n",
              "    function maybeLoadScript(lib, version) {\n",
              "      var key = `${lib.replace(\"-\", \"\")}_version`;\n",
              "      return (VEGA_DEBUG[key] == version) ?\n",
              "        Promise.resolve(paths[lib]) :\n",
              "        new Promise(function(resolve, reject) {\n",
              "          var s = document.createElement('script');\n",
              "          document.getElementsByTagName(\"head\")[0].appendChild(s);\n",
              "          s.async = true;\n",
              "          s.onload = () => {\n",
              "            VEGA_DEBUG[key] = version;\n",
              "            return resolve(paths[lib]);\n",
              "          };\n",
              "          s.onerror = () => reject(`Error loading script: ${paths[lib]}`);\n",
              "          s.src = paths[lib];\n",
              "        });\n",
              "    }\n",
              "\n",
              "    function showError(err) {\n",
              "      outputDiv.innerHTML = `<div class=\"error\" style=\"color:red;\">${err}</div>`;\n",
              "      throw err;\n",
              "    }\n",
              "\n",
              "    function displayChart(vegaEmbed) {\n",
              "      vegaEmbed(outputDiv, spec, embedOpt)\n",
              "        .catch(err => showError(`Javascript Error: ${err.message}<br>This usually means there's a typo in your chart specification. See the javascript console for the full traceback.`));\n",
              "    }\n",
              "\n",
              "    if(typeof define === \"function\" && define.amd) {\n",
              "      requirejs.config({paths});\n",
              "      require([\"vega-embed\"], displayChart, err => showError(`Error loading script: ${err.message}`));\n",
              "    } else {\n",
              "      maybeLoadScript(\"vega\", \"5\")\n",
              "        .then(() => maybeLoadScript(\"vega-lite\", \"4.17.0\"))\n",
              "        .then(() => maybeLoadScript(\"vega-embed\", \"6\"))\n",
              "        .catch(showError)\n",
              "        .then(() => displayChart(vegaEmbed));\n",
              "    }\n",
              "  })({\"config\": {\"view\": {\"continuousWidth\": 400, \"continuousHeight\": 300}}, \"data\": {\"name\": \"data-fdeb0b749a6385830bd1445d39ad6ea0\"}, \"mark\": \"circle\", \"encoding\": {\"color\": {\"field\": \"cluster\", \"type\": \"nominal\"}, \"size\": {\"field\": \"pop\", \"scale\": {\"range\": [0, 1200]}, \"type\": \"quantitative\"}, \"x\": {\"axis\": {\"grid\": false}, \"field\": \"fertility\", \"title\": \"Fertility (children per woman)\", \"type\": \"quantitative\"}, \"y\": {\"axis\": {\"grid\": false}, \"field\": \"life_expect\", \"title\": \"Life Expectancy (years)\", \"type\": \"quantitative\"}}, \"height\": 300, \"title\": {\"text\": \"Countries with higher fertility tend to have lower life expectancy\", \"subtitle\": \"source: gapminder.json\"}, \"width\": 600, \"$schema\": \"https://vega.github.io/schema/vega-lite/v4.17.0.json\", \"datasets\": {\"data-fdeb0b749a6385830bd1445d39ad6ea0\": [{\"year\": 2000, \"country\": \"Afghanistan\", \"cluster\": 0, \"pop\": 23898198, \"life_expect\": 42.129, \"fertility\": 7.4792}, {\"year\": 2000, \"country\": \"Argentina\", \"cluster\": 3, \"pop\": 37497728, \"life_expect\": 74.34, \"fertility\": 2.35}, {\"year\": 2000, \"country\": \"Aruba\", \"cluster\": 3, \"pop\": 69539, \"life_expect\": 73.451, \"fertility\": 2.124}, {\"year\": 2000, \"country\": \"Australia\", \"cluster\": 4, \"pop\": 19164620, \"life_expect\": 80.37, \"fertility\": 1.756}, {\"year\": 2000, \"country\": \"Austria\", \"cluster\": 1, \"pop\": 8113413, \"life_expect\": 78.98, \"fertility\": 1.3820000000000001}, {\"year\": 2000, \"country\": \"Bahamas\", \"cluster\": 3, \"pop\": 290075, \"life_expect\": 71.068, \"fertility\": 2.1111}, {\"year\": 2000, \"country\": \"Bangladesh\", \"cluster\": 0, \"pop\": 130406594, \"life_expect\": 62.013, \"fertility\": 3.224}, {\"year\": 2000, \"country\": \"Barbados\", \"cluster\": 3, \"pop\": 273483, \"life_expect\": 75.97, \"fertility\": 1.5}, {\"year\": 2000, \"country\": \"Belgium\", \"cluster\": 1, \"pop\": 10263618, \"life_expect\": 78.32, \"fertility\": 1.638}, {\"year\": 2000, \"country\": \"Bolivia\", \"cluster\": 3, \"pop\": 8152620, \"life_expect\": 63.883, \"fertility\": 3.9585}, {\"year\": 2000, \"country\": \"Brazil\", \"cluster\": 3, \"pop\": 175552771, \"life_expect\": 71.006, \"fertility\": 2.345}, {\"year\": 2000, \"country\": \"Canada\", \"cluster\": 3, \"pop\": 31278097, \"life_expect\": 79.77, \"fertility\": 1.522}, {\"year\": 2000, \"country\": \"Chile\", \"cluster\": 3, \"pop\": 15153450, \"life_expect\": 77.86, \"fertility\": 2.0}, {\"year\": 2000, \"country\": \"China\", \"cluster\": 4, \"pop\": 1262645000, \"life_expect\": 72.028, \"fertility\": 1.7000000000000002}, {\"year\": 2000, \"country\": \"Colombia\", \"cluster\": 3, \"pop\": 39685655, \"life_expect\": 71.682, \"fertility\": 2.4705}, {\"year\": 2000, \"country\": \"Costa Rica\", \"cluster\": 3, \"pop\": 3710558, \"life_expect\": 78.123, \"fertility\": 2.2815}, {\"year\": 2000, \"country\": \"Croatia\", \"cluster\": 1, \"pop\": 4410830, \"life_expect\": 74.876, \"fertility\": 1.348}, {\"year\": 2000, \"country\": \"Cuba\", \"cluster\": 3, \"pop\": 11134273, \"life_expect\": 77.158, \"fertility\": 1.63}, {\"year\": 2000, \"country\": \"Dominican Republic\", \"cluster\": 3, \"pop\": 8385828, \"life_expect\": 70.847, \"fertility\": 2.95}, {\"year\": 2000, \"country\": \"Ecuador\", \"cluster\": 3, \"pop\": 12505204, \"life_expect\": 74.173, \"fertility\": 2.8175}, {\"year\": 2000, \"country\": \"Egypt\", \"cluster\": 5, \"pop\": 70492342, \"life_expect\": 69.806, \"fertility\": 3.174}, {\"year\": 2000, \"country\": \"El Salvador\", \"cluster\": 3, \"pop\": 6122515, \"life_expect\": 70.734, \"fertility\": 2.883}, {\"year\": 2000, \"country\": \"Finland\", \"cluster\": 1, \"pop\": 5168595, \"life_expect\": 78.37, \"fertility\": 1.754}, {\"year\": 2000, \"country\": \"France\", \"cluster\": 1, \"pop\": 59381628, \"life_expect\": 79.59, \"fertility\": 1.8833000000000002}, {\"year\": 2000, \"country\": \"Georgia\", \"cluster\": 1, \"pop\": 4777209, \"life_expect\": 70.476, \"fertility\": 1.478}, {\"year\": 2000, \"country\": \"Germany\", \"cluster\": 1, \"pop\": 82187909, \"life_expect\": 78.67, \"fertility\": 1.346}, {\"year\": 2000, \"country\": \"Greece\", \"cluster\": 1, \"pop\": 10559110, \"life_expect\": 78.256, \"fertility\": 1.2770000000000001}, {\"year\": 2000, \"country\": \"Grenada\", \"cluster\": 3, \"pop\": 89312, \"life_expect\": 67.746, \"fertility\": 2.429}, {\"year\": 2000, \"country\": \"Haiti\", \"cluster\": 3, \"pop\": 7306302, \"life_expect\": 58.137, \"fertility\": 4.0}, {\"year\": 2000, \"country\": \"Hong Kong\", \"cluster\": 4, \"pop\": 6658720, \"life_expect\": 81.495, \"fertility\": 0.9400000000000001}, {\"year\": 2000, \"country\": \"Iceland\", \"cluster\": 1, \"pop\": 281043, \"life_expect\": 80.5, \"fertility\": 1.9929999999999999}, {\"year\": 2000, \"country\": \"India\", \"cluster\": 0, \"pop\": 1007702000, \"life_expect\": 62.879, \"fertility\": 3.1132}, {\"year\": 2000, \"country\": \"Indonesia\", \"cluster\": 4, \"pop\": 206265000, \"life_expect\": 68.588, \"fertility\": 2.3761}, {\"year\": 2000, \"country\": \"Iran\", \"cluster\": 5, \"pop\": 65660289, \"life_expect\": 69.451, \"fertility\": 2.124}, {\"year\": 2000, \"country\": \"Iraq\", \"cluster\": 5, \"pop\": 22675617, \"life_expect\": 57.046, \"fertility\": 4.858}, {\"year\": 2000, \"country\": \"Ireland\", \"cluster\": 1, \"pop\": 3791690, \"life_expect\": 77.783, \"fertility\": 1.9689999999999999}, {\"year\": 2000, \"country\": \"Israel\", \"cluster\": 5, \"pop\": 5842454, \"life_expect\": 79.696, \"fertility\": 2.906}, {\"year\": 2000, \"country\": \"Italy\", \"cluster\": 1, \"pop\": 57719337, \"life_expect\": 80.24, \"fertility\": 1.286}, {\"year\": 2000, \"country\": \"Jamaica\", \"cluster\": 3, \"pop\": 2615467, \"life_expect\": 72.047, \"fertility\": 2.628}, {\"year\": 2000, \"country\": \"Japan\", \"cluster\": 4, \"pop\": 126699784, \"life_expect\": 82.0, \"fertility\": 1.291}, {\"year\": 2000, \"country\": \"Kenya\", \"cluster\": 2, \"pop\": 29985839, \"life_expect\": 50.992, \"fertility\": 5.0}, {\"year\": 2000, \"country\": \"South Korea\", \"cluster\": 4, \"pop\": 21647682, \"life_expect\": 66.662, \"fertility\": 1.9173}, {\"year\": 2000, \"country\": \"North Korea\", \"cluster\": 4, \"pop\": 47351083, \"life_expect\": 77.045, \"fertility\": 1.242}, {\"year\": 2000, \"country\": \"Lebanon\", \"cluster\": 5, \"pop\": 3578036, \"life_expect\": 71.028, \"fertility\": 2.319}, {\"year\": 2000, \"country\": \"Mexico\", \"cluster\": 3, \"pop\": 99926620, \"life_expect\": 74.902, \"fertility\": 2.4005}, {\"year\": 2000, \"country\": \"Netherlands\", \"cluster\": 1, \"pop\": 15907853, \"life_expect\": 78.53, \"fertility\": 1.726}, {\"year\": 2000, \"country\": \"New Zealand\", \"cluster\": 4, \"pop\": 3819762, \"life_expect\": 79.11, \"fertility\": 1.964}, {\"year\": 2000, \"country\": \"Nigeria\", \"cluster\": 2, \"pop\": 114306700, \"life_expect\": 46.608, \"fertility\": 5.845}, {\"year\": 2000, \"country\": \"Norway\", \"cluster\": 1, \"pop\": 4492400, \"life_expect\": 79.05, \"fertility\": 1.8010000000000002}, {\"year\": 2000, \"country\": \"Pakistan\", \"cluster\": 0, \"pop\": 146342958, \"life_expect\": 63.61, \"fertility\": 3.9936}, {\"year\": 2000, \"country\": \"Peru\", \"cluster\": 3, \"pop\": 25979722, \"life_expect\": 69.906, \"fertility\": 2.7005}, {\"year\": 2000, \"country\": \"Philippines\", \"cluster\": 4, \"pop\": 79739825, \"life_expect\": 70.303, \"fertility\": 3.5436}, {\"year\": 2000, \"country\": \"Poland\", \"cluster\": 1, \"pop\": 38654164, \"life_expect\": 74.67, \"fertility\": 1.251}, {\"year\": 2000, \"country\": \"Portugal\", \"cluster\": 1, \"pop\": 10335597, \"life_expect\": 77.29, \"fertility\": 1.454}, {\"year\": 2000, \"country\": \"Rwanda\", \"cluster\": 2, \"pop\": 7507056, \"life_expect\": 43.413, \"fertility\": 6.01}, {\"year\": 2000, \"country\": \"Saudi Arabia\", \"cluster\": 5, \"pop\": 23153090, \"life_expect\": 71.626, \"fertility\": 3.81}, {\"year\": 2000, \"country\": \"South Africa\", \"cluster\": 2, \"pop\": 44066197, \"life_expect\": 53.365, \"fertility\": 2.802}, {\"year\": 2000, \"country\": \"Spain\", \"cluster\": 1, \"pop\": 40016081, \"life_expect\": 79.78, \"fertility\": 1.287}, {\"year\": 2000, \"country\": \"Switzerland\", \"cluster\": 1, \"pop\": 7266920, \"life_expect\": 80.62, \"fertility\": 1.415}, {\"year\": 2000, \"country\": \"Turkey\", \"cluster\": 1, \"pop\": 65666677, \"life_expect\": 70.845, \"fertility\": 2.23}, {\"year\": 2000, \"country\": \"United Kingdom\", \"cluster\": 1, \"pop\": 59522468, \"life_expect\": 78.471, \"fertility\": 1.695}, {\"year\": 2000, \"country\": \"United States\", \"cluster\": 3, \"pop\": 282338631, \"life_expect\": 77.31, \"fertility\": 2.038}, {\"year\": 2000, \"country\": \"Venezuela\", \"cluster\": 3, \"pop\": 23542649, \"life_expect\": 72.766, \"fertility\": 2.723}]}}, {\"mode\": \"vega-lite\"});\n",
              "</script>"
            ],
            "text/plain": [
              "alt.Chart(...)"
            ]
          },
          "metadata": {},
          "execution_count": 15
        }
      ]
    }
  ]
}